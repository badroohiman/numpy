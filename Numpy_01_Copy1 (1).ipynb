{
  "cells": [
    {
      "cell_type": "markdown",
      "metadata": {
        "id": "c3bd4005"
      },
      "source": [
        "\n",
        "![illu_numpy_blog-125.png](data:image/png;base64,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)\n",
        "#Numpy tutorial (from zero to hero) By Iman Badrooh (Iman.Badrooh@gmail.com)\n",
        "# linkedin:https://www.linkedin.com/in/iman-badrooh/\n",
        "# Github: https://github.com/badroohiman/\n",
        "# Instagram: @Dr.Badrooh\n",
        "I am Iman Badooh and I am a data scientist. In this notebook, I want to introduce the Numpy library as an essential and really vital library in Machine learning and AI.  \n",
        "In this tutorial, I try to introduce some of the Numpy useful functions that you may need to use in your data science projects.\n",
        "I strongly recommend following this tutorial, if you are fresh in data science or intermediate."
      ],
      "id": "c3bd4005"
    },
    {
      "cell_type": "markdown",
      "source": [
        "# Part one:\n",
        "In this part, we learn how to install and import Numpy in my project and also check the version of it.\n",
        "Sometimes, we need to check the version of Numpy for compatibility with other libraries in our project.  "
      ],
      "metadata": {
        "id": "8zByKfTaEsMt"
      },
      "id": "8zByKfTaEsMt"
    },
    {
      "cell_type": "code",
      "execution_count": null,
      "metadata": {
        "id": "290c1901",
        "colab": {
          "base_uri": "https://localhost:8080/"
        },
        "outputId": "b93d4fed-c6ed-40d5-8419-1a39966dc7fd"
      },
      "outputs": [
        {
          "output_type": "stream",
          "name": "stdout",
          "text": [
            "Requirement already satisfied: numpy in /usr/local/lib/python3.10/dist-packages (1.22.4)\n"
          ]
        }
      ],
      "source": [
        "# numpy installation\n",
        "pip install numpy"
      ],
      "id": "290c1901"
    },
    {
      "cell_type": "markdown",
      "source": [
        "import numpy : we always use np as an alias name for numpy and it is a standard code for all people that use numpy in their code."
      ],
      "metadata": {
        "id": "tLdAb2bIGYSA"
      },
      "id": "tLdAb2bIGYSA"
    },
    {
      "cell_type": "code",
      "source": [
        "# 1\n",
        "import numpy as np"
      ],
      "metadata": {
        "id": "UpKi-QDrFzxZ"
      },
      "id": "UpKi-QDrFzxZ",
      "execution_count": null,
      "outputs": []
    },
    {
      "cell_type": "code",
      "execution_count": null,
      "metadata": {
        "colab": {
          "base_uri": "https://localhost:8080/"
        },
        "id": "fac0b1e9",
        "outputId": "c846fb44-dd5a-4a11-9e2d-b41f53782628"
      },
      "outputs": [
        {
          "output_type": "stream",
          "name": "stdout",
          "text": [
            "1.22.4\n"
          ]
        }
      ],
      "source": [
        "# 2\n",
        "print(np.__version__)"
      ],
      "id": "fac0b1e9"
    },
    {
      "cell_type": "markdown",
      "metadata": {
        "id": "66bf10bb"
      },
      "source": [
        "# help\n",
        "numpy has an excellent online documnet. you can easyly search each of function of numpy in google and the first answer google ususally is the numpy documnet. forthermore, the useful function in numpy is **help** that you can use to reach documnet of a function in your notebook."
      ],
      "id": "66bf10bb"
    },
    {
      "cell_type": "code",
      "execution_count": null,
      "metadata": {
        "colab": {
          "base_uri": "https://localhost:8080/"
        },
        "id": "559d2c08",
        "outputId": "dd9d0f68-00dc-4524-b7b0-2eeca79c1454"
      },
      "outputs": [
        {
          "output_type": "stream",
          "name": "stdout",
          "text": [
            "Help on ufunc:\n",
            "\n",
            "add = <ufunc 'add'>\n",
            "    add(x1, x2, /, out=None, *, where=True, casting='same_kind', order='K', dtype=None, subok=True[, signature, extobj])\n",
            "    \n",
            "    Add arguments element-wise.\n",
            "    \n",
            "    Parameters\n",
            "    ----------\n",
            "    x1, x2 : array_like\n",
            "        The arrays to be added.\n",
            "        If ``x1.shape != x2.shape``, they must be broadcastable to a common\n",
            "        shape (which becomes the shape of the output).\n",
            "    out : ndarray, None, or tuple of ndarray and None, optional\n",
            "        A location into which the result is stored. If provided, it must have\n",
            "        a shape that the inputs broadcast to. If not provided or None,\n",
            "        a freshly-allocated array is returned. A tuple (possible only as a\n",
            "        keyword argument) must have length equal to the number of outputs.\n",
            "    where : array_like, optional\n",
            "        This condition is broadcast over the input. At locations where the\n",
            "        condition is True, the `out` array will be set to the ufunc result.\n",
            "        Elsewhere, the `out` array will retain its original value.\n",
            "        Note that if an uninitialized `out` array is created via the default\n",
            "        ``out=None``, locations within it where the condition is False will\n",
            "        remain uninitialized.\n",
            "    **kwargs\n",
            "        For other keyword-only arguments, see the\n",
            "        :ref:`ufunc docs <ufuncs.kwargs>`.\n",
            "    \n",
            "    Returns\n",
            "    -------\n",
            "    add : ndarray or scalar\n",
            "        The sum of `x1` and `x2`, element-wise.\n",
            "        This is a scalar if both `x1` and `x2` are scalars.\n",
            "    \n",
            "    Notes\n",
            "    -----\n",
            "    Equivalent to `x1` + `x2` in terms of array broadcasting.\n",
            "    \n",
            "    Examples\n",
            "    --------\n",
            "    >>> np.add(1.0, 4.0)\n",
            "    5.0\n",
            "    >>> x1 = np.arange(9.0).reshape((3, 3))\n",
            "    >>> x2 = np.arange(3.0)\n",
            "    >>> np.add(x1, x2)\n",
            "    array([[  0.,   2.,   4.],\n",
            "           [  3.,   5.,   7.],\n",
            "           [  6.,   8.,  10.]])\n",
            "    \n",
            "    The ``+`` operator can be used as a shorthand for ``np.add`` on ndarrays.\n",
            "    \n",
            "    >>> x1 = np.arange(9.0).reshape((3, 3))\n",
            "    >>> x2 = np.arange(3.0)\n",
            "    >>> x1 + x2\n",
            "    array([[ 0.,  2.,  4.],\n",
            "           [ 3.,  5.,  7.],\n",
            "           [ 6.,  8., 10.]])\n",
            "\n",
            "None\n"
          ]
        }
      ],
      "source": [
        "print(help(np.add))"
      ],
      "id": "559d2c08"
    },
    {
      "cell_type": "markdown",
      "metadata": {
        "id": "f8cd0812"
      },
      "source": [
        "# Part 2: Creating Array\n",
        "Creating NumPy arrays is important when you’re working with other Python libraries that rely on them, like SciPy, Pandas, Matplotlib, scikit-learn, and more. NumPy is suitable for creating and working with arrays because it offers useful routines, enables performance boosts, and allows you to write concise code\n",
        "There are a lot of different ways in Numpy to create numpy array.\n",
        "In this part, we introduce some of these methods that are really useful to create numpy array.\n"
      ],
      "id": "f8cd0812"
    },
    {
      "cell_type": "markdown",
      "source": [
        "# 3: np.arange:\n",
        "[np.arange document](https://numpy.org/doc/stable/reference/generated/numpy.arange.html)\n",
        "\n",
        "NumPy arange() is one of the array creation routines based on numerical ranges. It creates an instance of ndarray with evenly spaced values and returns the reference to it.\n",
        "\n"
      ],
      "metadata": {
        "id": "fcMtR--5H6BI"
      },
      "id": "fcMtR--5H6BI"
    },
    {
      "cell_type": "code",
      "execution_count": null,
      "metadata": {
        "colab": {
          "base_uri": "https://localhost:8080/"
        },
        "id": "a23cc814",
        "outputId": "efad78cf-bb1b-4ded-a4ac-349959324f83"
      },
      "outputs": [
        {
          "output_type": "execute_result",
          "data": {
            "text/plain": [
              "numpy.ndarray"
            ]
          },
          "metadata": {},
          "execution_count": 5
        }
      ],
      "source": [
        "# If we pass just one argument like n  to np.arrange, it creates a numpy ndarray\n",
        "# from zero to n.\n",
        "#Create a numpy ndarray from zero to nine [0, 1, 2, 3, 4, 5, 6, 7, 8, 9]\n",
        "ar1 = np.arange(10)\n",
        "type(ar1)"
      ],
      "id": "a23cc814"
    },
    {
      "cell_type": "code",
      "source": [
        "ar1"
      ],
      "metadata": {
        "id": "1nlFwgG9JY1-"
      },
      "id": "1nlFwgG9JY1-",
      "execution_count": null,
      "outputs": []
    },
    {
      "cell_type": "code",
      "execution_count": null,
      "metadata": {
        "colab": {
          "base_uri": "https://localhost:8080/"
        },
        "id": "52ee6c9b",
        "outputId": "8b3c9c77-133f-41e0-c27b-6528c61905c0"
      },
      "outputs": [
        {
          "output_type": "execute_result",
          "data": {
            "text/plain": [
              "array([ 5,  6,  7,  8,  9, 10, 11, 12, 13, 14, 15, 16, 17, 18, 19, 20])"
            ]
          },
          "metadata": {},
          "execution_count": 7
        }
      ],
      "source": [
        "# In this example we pass to parameters(5, 21)so, np.arange creates\n",
        "# a numpy ndarray from 5 (first parameter) to 21(second parameter).\n",
        "# Note: The second parameter is not included in the array.\n",
        "np.arange(5,21)"
      ],
      "id": "52ee6c9b"
    },
    {
      "cell_type": "code",
      "execution_count": null,
      "metadata": {
        "colab": {
          "base_uri": "https://localhost:8080/"
        },
        "id": "a776b60c",
        "outputId": "9cdea028-fb71-4e8c-b753-79f8dbd60db7"
      },
      "outputs": [
        {
          "output_type": "execute_result",
          "data": {
            "text/plain": [
              "array([ 5, 10, 15, 20])"
            ]
          },
          "metadata": {},
          "execution_count": 8
        }
      ],
      "source": [
        "# In this example the first parameter is the start of range(included) and the\n",
        "# second parameter is the end of range(excluded) and the third parameter\n",
        "#is the step\n",
        "np.arange(5,21,5)"
      ],
      "id": "a776b60c"
    },
    {
      "cell_type": "code",
      "execution_count": null,
      "metadata": {
        "colab": {
          "base_uri": "https://localhost:8080/"
        },
        "id": "3a267899",
        "outputId": "0da9a6b7-1529-4236-d4a1-93d7736d628b"
      },
      "outputs": [
        {
          "output_type": "execute_result",
          "data": {
            "text/plain": [
              "array([1. , 1.1, 1.2, 1.3, 1.4, 1.5, 1.6, 1.7, 1.8, 1.9, 2. ])"
            ]
          },
          "metadata": {},
          "execution_count": 9
        }
      ],
      "source": [
        "# Another example that uses floating point as a step.\n",
        "np.arange(1,2.1,0.1)"
      ],
      "id": "3a267899"
    },
    {
      "cell_type": "markdown",
      "metadata": {
        "id": "b3cd01dc"
      },
      "source": [
        "#4: Numpy.array()\n",
        "[numpy.array document](https://numpy.org/doc/stable/reference/generated/numpy.array.html)\n",
        "\n",
        "The numpy.array() method returns an ndarray. The ndarray is an array object which satisfies the specified requirements."
      ],
      "id": "b3cd01dc"
    },
    {
      "cell_type": "code",
      "execution_count": null,
      "metadata": {
        "id": "35236573"
      },
      "outputs": [],
      "source": [
        "# Create a numpy ndarray from a python list.\n",
        "lst = [2,3,4,6,8,12,24]\n",
        "ar2 = np.array(lst)"
      ],
      "id": "35236573"
    },
    {
      "cell_type": "code",
      "execution_count": null,
      "metadata": {
        "colab": {
          "base_uri": "https://localhost:8080/"
        },
        "id": "01c9dec1",
        "outputId": "0f358a5d-91a2-4b58-f79a-942f61fbf6db"
      },
      "outputs": [
        {
          "output_type": "execute_result",
          "data": {
            "text/plain": [
              "list"
            ]
          },
          "metadata": {},
          "execution_count": 14
        }
      ],
      "source": [
        "type(lst)"
      ],
      "id": "01c9dec1"
    },
    {
      "cell_type": "code",
      "execution_count": null,
      "metadata": {
        "colab": {
          "base_uri": "https://localhost:8080/"
        },
        "id": "5b8d07fb",
        "outputId": "71f96ac8-314d-4b09-c2f1-ac27b25e9eca"
      },
      "outputs": [
        {
          "output_type": "execute_result",
          "data": {
            "text/plain": [
              "numpy.ndarray"
            ]
          },
          "metadata": {},
          "execution_count": 15
        }
      ],
      "source": [
        "type(ar2)"
      ],
      "id": "5b8d07fb"
    },
    {
      "cell_type": "code",
      "execution_count": null,
      "metadata": {
        "colab": {
          "base_uri": "https://localhost:8080/"
        },
        "id": "6e90d0db",
        "outputId": "cc2d6c74-079b-455f-e3d4-76abf8e002be"
      },
      "outputs": [
        {
          "output_type": "stream",
          "name": "stdout",
          "text": [
            "[ 2  3  4  6  8 12 24]\n"
          ]
        }
      ],
      "source": [
        "print(ar2)"
      ],
      "id": "6e90d0db"
    },
    {
      "cell_type": "code",
      "execution_count": null,
      "metadata": {
        "colab": {
          "base_uri": "https://localhost:8080/"
        },
        "id": "01964612",
        "outputId": "ccc384d9-2a32-4dc6-da6f-128bdf4712d1"
      },
      "outputs": [
        {
          "output_type": "stream",
          "name": "stdout",
          "text": [
            "[2, 3, 4, 6, 8, 12, 24]\n"
          ]
        }
      ],
      "source": [
        "print(lst)"
      ],
      "id": "01964612"
    },
    {
      "cell_type": "code",
      "execution_count": null,
      "metadata": {
        "id": "4086005d"
      },
      "outputs": [],
      "source": [
        "# Another example: convert two dimention list into a ndarray\n",
        "lst2 = [[1,2,3],[4,5,6]]"
      ],
      "id": "4086005d"
    },
    {
      "cell_type": "code",
      "execution_count": null,
      "metadata": {
        "colab": {
          "base_uri": "https://localhost:8080/"
        },
        "id": "6558ac08",
        "outputId": "8b6151d8-bb93-43c9-b86b-fb2b56900f27"
      },
      "outputs": [
        {
          "output_type": "execute_result",
          "data": {
            "text/plain": [
              "[[1, 2, 3], [4, 5, 6]]"
            ]
          },
          "metadata": {},
          "execution_count": 19
        }
      ],
      "source": [
        "lst2"
      ],
      "id": "6558ac08"
    },
    {
      "cell_type": "code",
      "execution_count": null,
      "metadata": {
        "id": "2aa7811b"
      },
      "outputs": [],
      "source": [
        "matrix1 = np.array(lst2)"
      ],
      "id": "2aa7811b"
    },
    {
      "cell_type": "code",
      "execution_count": null,
      "metadata": {
        "colab": {
          "base_uri": "https://localhost:8080/"
        },
        "id": "07e01101",
        "outputId": "5de5f35a-06c9-4d05-e43b-7f29737ed1f9"
      },
      "outputs": [
        {
          "output_type": "stream",
          "name": "stdout",
          "text": [
            "[[1 2 3]\n",
            " [4 5 6]]\n"
          ]
        }
      ],
      "source": [
        "print(matrix1)"
      ],
      "id": "07e01101"
    },
    {
      "cell_type": "markdown",
      "metadata": {
        "id": "ee141f6f"
      },
      "source": [
        "#5: numpy.zeros\n",
        "[numpy.zeros document](https://numpy.org/doc/stable/reference/generated/numpy.zeros.html)\n",
        "\n",
        "Return a new array of given shape and type, filled with zeros.\n",
        "\n"
      ],
      "id": "ee141f6f"
    },
    {
      "cell_type": "code",
      "execution_count": null,
      "metadata": {
        "colab": {
          "base_uri": "https://localhost:8080/"
        },
        "id": "9ba45223",
        "outputId": "3ec00469-1bce-47c4-fddb-5c3fba58db82"
      },
      "outputs": [
        {
          "output_type": "execute_result",
          "data": {
            "text/plain": [
              "array([0., 0., 0., 0.])"
            ]
          },
          "metadata": {},
          "execution_count": 22
        }
      ],
      "source": [
        "np.zeros(4)"
      ],
      "id": "9ba45223"
    },
    {
      "cell_type": "code",
      "execution_count": null,
      "metadata": {
        "colab": {
          "base_uri": "https://localhost:8080/"
        },
        "id": "1be6ca22",
        "outputId": "1584c1b1-7eef-4c81-daed-c6c048f86efd"
      },
      "outputs": [
        {
          "output_type": "execute_result",
          "data": {
            "text/plain": [
              "array([[0., 0., 0., 0.],\n",
              "       [0., 0., 0., 0.]])"
            ]
          },
          "metadata": {},
          "execution_count": 23
        }
      ],
      "source": [
        "np.zeros((2,4))"
      ],
      "id": "1be6ca22"
    },
    {
      "cell_type": "code",
      "execution_count": null,
      "metadata": {
        "colab": {
          "base_uri": "https://localhost:8080/"
        },
        "id": "a28d7f31",
        "outputId": "63c87a46-31da-4628-9365-e465bc99bd3f"
      },
      "outputs": [
        {
          "output_type": "execute_result",
          "data": {
            "text/plain": [
              "array([[0, 0, 0],\n",
              "       [0, 0, 0],\n",
              "       [0, 0, 0],\n",
              "       [0, 0, 0],\n",
              "       [0, 0, 0]])"
            ]
          },
          "metadata": {},
          "execution_count": 24
        }
      ],
      "source": [
        "np.zeros((5,3),int)"
      ],
      "id": "a28d7f31"
    },
    {
      "cell_type": "code",
      "execution_count": null,
      "metadata": {
        "colab": {
          "base_uri": "https://localhost:8080/"
        },
        "id": "80bcc7ac",
        "outputId": "2a542d34-43f0-4eea-abf5-b4f1183d29e7"
      },
      "outputs": [
        {
          "output_type": "execute_result",
          "data": {
            "text/plain": [
              "array([[[[0, 0, 0, 0],\n",
              "         [0, 0, 0, 0],\n",
              "         [0, 0, 0, 0]],\n",
              "\n",
              "        [[0, 0, 0, 0],\n",
              "         [0, 0, 0, 0],\n",
              "         [0, 0, 0, 0]]],\n",
              "\n",
              "\n",
              "       [[[0, 0, 0, 0],\n",
              "         [0, 0, 0, 0],\n",
              "         [0, 0, 0, 0]],\n",
              "\n",
              "        [[0, 0, 0, 0],\n",
              "         [0, 0, 0, 0],\n",
              "         [0, 0, 0, 0]]],\n",
              "\n",
              "\n",
              "       [[[0, 0, 0, 0],\n",
              "         [0, 0, 0, 0],\n",
              "         [0, 0, 0, 0]],\n",
              "\n",
              "        [[0, 0, 0, 0],\n",
              "         [0, 0, 0, 0],\n",
              "         [0, 0, 0, 0]]]])"
            ]
          },
          "metadata": {},
          "execution_count": 25
        }
      ],
      "source": [
        "np.zeros((3,2,3,4),int)"
      ],
      "id": "80bcc7ac"
    },
    {
      "cell_type": "markdown",
      "source": [
        "#6: numpy.ones\n",
        "[numpy.ones document](https://numpy.org/doc/stable/reference/generated/numpy.ones.html)\n",
        "\n",
        "Return a new array of given shape and type, filled with ones.\n",
        "\n"
      ],
      "metadata": {
        "id": "cjCRueeDTQOt"
      },
      "id": "cjCRueeDTQOt"
    },
    {
      "cell_type": "code",
      "execution_count": null,
      "metadata": {
        "colab": {
          "base_uri": "https://localhost:8080/"
        },
        "id": "eb4e1851",
        "outputId": "e0f59926-a7be-4a24-f9ea-2752503abb3a"
      },
      "outputs": [
        {
          "output_type": "execute_result",
          "data": {
            "text/plain": [
              "array([[1, 1, 1],\n",
              "       [1, 1, 1],\n",
              "       [1, 1, 1],\n",
              "       [1, 1, 1]])"
            ]
          },
          "metadata": {},
          "execution_count": 27
        }
      ],
      "source": [
        "np.ones((4,3),int)"
      ],
      "id": "eb4e1851"
    },
    {
      "cell_type": "markdown",
      "source": [
        "7: numpy.full\n",
        "[numpy.full document](https://numpy.org/doc/stable/reference/generated/numpy.full.html)\n",
        "\n",
        "Return a new array of given shape and type, filled with fill_value."
      ],
      "metadata": {
        "id": "JH5JHy8yT8Nv"
      },
      "id": "JH5JHy8yT8Nv"
    },
    {
      "cell_type": "code",
      "execution_count": null,
      "metadata": {
        "colab": {
          "base_uri": "https://localhost:8080/"
        },
        "id": "d4e788a7",
        "outputId": "c36a86c3-d123-4a67-f6e9-4634c9ff993e"
      },
      "outputs": [
        {
          "output_type": "execute_result",
          "data": {
            "text/plain": [
              "array([[1.5, 1.5, 1.5, 1.5],\n",
              "       [1.5, 1.5, 1.5, 1.5],\n",
              "       [1.5, 1.5, 1.5, 1.5]])"
            ]
          },
          "metadata": {},
          "execution_count": 28
        }
      ],
      "source": [
        "np.full((3,4), 1.5)"
      ],
      "id": "d4e788a7"
    },
    {
      "cell_type": "code",
      "execution_count": null,
      "metadata": {
        "colab": {
          "base_uri": "https://localhost:8080/"
        },
        "id": "4e91e64d",
        "outputId": "1bf95cee-6659-4c89-924f-b39be6340d66"
      },
      "outputs": [
        {
          "output_type": "execute_result",
          "data": {
            "text/plain": [
              "array([[0.01, 0.01, 0.01, 0.01, 0.01, 0.01, 0.01, 0.01],\n",
              "       [0.01, 0.01, 0.01, 0.01, 0.01, 0.01, 0.01, 0.01],\n",
              "       [0.01, 0.01, 0.01, 0.01, 0.01, 0.01, 0.01, 0.01],\n",
              "       [0.01, 0.01, 0.01, 0.01, 0.01, 0.01, 0.01, 0.01]])"
            ]
          },
          "metadata": {},
          "execution_count": 29
        }
      ],
      "source": [
        "np.full((4,8), 0.01)"
      ],
      "id": "4e91e64d"
    },
    {
      "cell_type": "markdown",
      "source": [
        "Exercise 1: Create a matrix 3*4 with  value 6.4"
      ],
      "metadata": {
        "id": "loabrAKAhfZG"
      },
      "id": "loabrAKAhfZG"
    },
    {
      "cell_type": "code",
      "execution_count": null,
      "metadata": {
        "colab": {
          "base_uri": "https://localhost:8080/"
        },
        "id": "30a968d4",
        "outputId": "60db37d4-7cfa-4bdb-d1ac-cbf5484dc272"
      },
      "outputs": [
        {
          "output_type": "execute_result",
          "data": {
            "text/plain": [
              "array([[6.4, 6.4, 6.4, 6.4],\n",
              "       [6.4, 6.4, 6.4, 6.4],\n",
              "       [6.4, 6.4, 6.4, 6.4]])"
            ]
          },
          "metadata": {},
          "execution_count": 1
        }
      ],
      "source": [
        "import numpy as np\n",
        "np.ones((3,4))*6.4"
      ],
      "id": "30a968d4"
    },
    {
      "cell_type": "markdown",
      "metadata": {
        "id": "bec75c46"
      },
      "source": [
        "## 8: Identity Matrix"
      ],
      "id": "bec75c46"
    },
    {
      "cell_type": "code",
      "execution_count": null,
      "metadata": {
        "id": "ca429a06"
      },
      "outputs": [],
      "source": [
        "i = np.eye(4)"
      ],
      "id": "ca429a06"
    },
    {
      "cell_type": "markdown",
      "metadata": {
        "id": "9de07d72"
      },
      "source": [
        "## 9: numpy.linspace\n",
        "[numpy.linspace](https://numpy.org/doc/stable/reference/generated/numpy.linspace.html)\n",
        "\n",
        "Return evenly spaced numbers over a specified interval.\n",
        "Returns num evenly spaced samples, calculated over the interval [start, stop].\n",
        "The endpoint of the interval can optionally be excluded."
      ],
      "id": "9de07d72"
    },
    {
      "cell_type": "code",
      "execution_count": null,
      "metadata": {
        "colab": {
          "base_uri": "https://localhost:8080/"
        },
        "id": "e205119f",
        "outputId": "8073cfc0-b346-4da2-8538-54f982418078"
      },
      "outputs": [
        {
          "output_type": "execute_result",
          "data": {
            "text/plain": [
              "array([ 1.        ,  5.33333333,  9.66666667, 14.        , 18.33333333,\n",
              "       22.66666667, 27.        , 31.33333333, 35.66666667, 40.        ])"
            ]
          },
          "metadata": {},
          "execution_count": 30
        }
      ],
      "source": [
        "# a ndarray with 10 number from 1 to 40 with equal distance.\n",
        "np.linspace(1,40,10)"
      ],
      "id": "e205119f"
    },
    {
      "cell_type": "markdown",
      "source": [
        "# Array datatype conversion\n",
        "##10:np.ndarray.astype('type')\n",
        "[np.ndarray.astype](https://numpy.org/doc/stable/reference/generated/numpy.ndarray.astype.html)\n",
        "\n",
        "Copy of the array, cast to a specified type.\n",
        "\n"
      ],
      "metadata": {
        "id": "9n9eb1SFlz09"
      },
      "id": "9n9eb1SFlz09"
    },
    {
      "cell_type": "code",
      "execution_count": null,
      "metadata": {
        "colab": {
          "base_uri": "https://localhost:8080/"
        },
        "id": "4b03bb8d",
        "outputId": "1232ea00-161d-455b-e150-d777be0c353f"
      },
      "outputs": [
        {
          "output_type": "stream",
          "name": "stdout",
          "text": [
            "[[2 3 1]\n",
            " [4 2 1]]\n"
          ]
        }
      ],
      "source": [
        "a = np.array([[2.5, 3.8, 1.5],\n",
        "              [4.7, 2.9, 1.56]])\n",
        "o = a.astype('int')\n",
        "print(o)"
      ],
      "id": "4b03bb8d"
    },
    {
      "cell_type": "markdown",
      "metadata": {
        "id": "5f3399be"
      },
      "source": [
        "### EXERCISE - Obtaining Boolean Array from Binary Array\n",
        "Convert a binary numpy array (containing only 0s and 1s) to a boolean numpy array"
      ],
      "id": "5f3399be"
    },
    {
      "cell_type": "code",
      "execution_count": null,
      "metadata": {
        "colab": {
          "base_uri": "https://localhost:8080/"
        },
        "id": "78edf1c1",
        "outputId": "4feeb13d-ba25-4cd3-e96b-923d2a0fdfbb"
      },
      "outputs": [
        {
          "output_type": "stream",
          "name": "stdout",
          "text": [
            "[[ True False False]\n",
            " [ True  True  True]\n",
            " [False False False]]\n"
          ]
        }
      ],
      "source": [
        "a = np.array([[1, 0, 0],\n",
        "              [1, 1, 1],\n",
        "              [0, 0, 0]])\n",
        "\n",
        "o = a.astype('bool')\n",
        "print(o)"
      ],
      "id": "78edf1c1"
    },
    {
      "cell_type": "markdown",
      "source": [
        "# Part 4: Random functions\n",
        "There are different ways to create random numbers by numpy.\n",
        "different random numbers with a variety of distributions such as normal and uniform distributions.\n",
        "In this section, we can explain creating random numbers by different examples."
      ],
      "metadata": {
        "id": "fvFaCq26qrdq"
      },
      "id": "fvFaCq26qrdq"
    },
    {
      "cell_type": "markdown",
      "source": [
        "# normal standard:\n",
        "The standard normal distribution, also called the z-distribution, is a special normal distribution where the mean is 0 and the standard deviation is 1. Any normal distribution can be standardized by converting its values into z scores.\n",
        "![image.png](data:image/png;base64,iVBORw0KGgoAAAANSUhEUgAABEcAAALcCAYAAAAFV940AAAgAElEQVR4nOzdf3BUdZ7/+1cIA0lId+Jk6i5hWpat+gLelJpoUUWzKwZlF6cgwtQYjU7qLk5k5YdbZSNQo65QtcCKW+AQqi6CfiWKt6JGM1tXTPItuF9UxJm0VRYTdG5WYOt+EXuAqTKadIckMITcP5pu0n1O/0hI9+nu83xUWWWf7j759Okf9Hn15/N+5ylJFy78sCgvb9LP8/JUPTIyUpqXN2lWsvcFAAAAAABItby8kV4pr+vatZGTIyPX/u/y8ls+Sep+8a78wx9+KC0vn/TPkyZpw8hIXuno6/Lz494VAAAAAAAgrYaHRyIuj4yMnJV04MKFa//nXXfd0hvrfjETjuszRd7Iy8ubJUlTCydr0o+mqnCyNHnypIkaNwAAAAAAwIS5evWaBq9K1/5yWZcHr0oKhiTXrmnLjBkl/5fZfUzDkYsX+17Iy8vbJkkFhZNVVDiVQAQAAAAAAGSVq1evaWDwsoZuhCSbp08v2R59O0M48uc/970h5T2enz9JJSWFhCIAAAAAACCrXb16TX19A9eX3Yy8+Vd/VfKr0ddHJB8XL/a9QDACAAAAAAByyeTJk1RSUnS9fmre48H844bwzJHz5/v+j/z8vLcIRgAAAAAAQC4aPYPk2rXh+0LdbCZJwa40kyZpqySCEQAAAAAAkJNCM0gkKS9v0ht/+MMPpdL1cKS8fNI/5+XlzSoonEwwAgAAAAAActbkyZNUUDhZeXl5s8rLJ/2zdKPmyBOSVFQ41bLBAQAAAAAApEMo/5g0SRskadKFCz8sysvLmzWVWSMAAAAAAMAGJk+epPz8SRoZySu9cOGHRZPy8ib9XJIm/YhZIwAAAAAAwB6mTCuUJOXlTfr5pEmT8iolqXCypWMCAAAAAABIm1AOkpen6knSSJUkltQAAAAAAADbCC6tydPIiEonjYzklebnE4wAAAAAAAD7ycvLm0UqAgAAAAAAbI1wBAAAAAAA2BrhCAAAAAAAsDXCEQAAAAAAYGuEIwAAAAAAwNYIRwAAAAAAgK0RjgAAAAAAAFsjHAEAAAAAALZGOAIAAAAAAGyNcAQAAAAAANga4QgAAAAAALA1whEAAAAAAGBrhCMAAAAAAMDWCEcAAAAAAICtEY4AAAAAAABbIxwBAAAAAAC2RjgCAAAAAABsjXAEAAAAAADYGuEIAAAAAACwNcIRAAAAAABga4QjAAAAAADA1ghHAAAAAACArRGOAAAAAAAAWyMcAQAAAAAAtkY4AgAAAAAAbI1wBAAAAAAA2BrhCAAAAAAAsDXCEQAAAAAAYGuEIwAAAAAAwNYIRwAAAAAAgK0RjgAAAAAAAFsjHAEAAAAAALZGOAIAAAAAAGyNcAQAAAAAANga4QgAAAAAALA1whEAAAAAAGBrhCMAAAAAAMDWCEcAAAAAAICtEY4AAAAAAABbIxwBAAAAAAC2RjgCAAAAAABsjXAEAAAAAADYGuEIAAAAAACwNcIRAAAAAABga4QjAAAAAADA1ghHAAAAAACArRGOAAAAAAAAWyMcAQAAAAAAtkY4AgAAAAAAbI1wBAAAAAAA2BrhCAAAAAAAsDXCEQAAAAAAYGuEIwAAAAAAwNYIRwAAAAAAgK0RjgAAAAAAAFsjHAEAAAAAALZGOAIAAAAAAGxtstUDAIBM1n3Kp+5T38ofGJAkuWaUyekoknveHItHlju8X5zWY6tejtj29JoaedY8aNGIUqdx/4fas78tYts7r2/g9WRTj616Wd4vTkds+19dr6bt7/9N1eqIy+55c/TO6xsitvnO92jTljfl/eK0XDPK9NDyBTn13ox+fL+qX6yG+sURt2k91KlNW96M2LZz6+OqXb4gnUNNm9HHxOko0q/q78+p5xwAYiEcAYAovvM9eqP5qFoPdYZDkWhOR5GW3Feph5b/LSe2AHLWY6telu98j6TgZ+Oe/W1yz5ubM5970Y9v2873VDH31px5fOMRCkYkyR8Y0J79bXLN+EnOhkEAEEI4AgCjNDUf1Z79bTFDkRB/YECthzrVeqhTtcsX6Ok1D8o1oyzuft9oPhqx7dXd61Qx1zUh4waAieYPDIaDg9G8X5xKaXgwOrCQgjP2ome0TATf+R5LHl86LVz6fMTlJfdVafOmR+LeJ3o2U3DbKcIRADmPcAQArjNb8pCM1kOd8n5xWu+8viFmQOIPDBi+hCcKYADASk5HoZyOIsNnlWvGT1L6d2OFFhPN6SgyfXwVc29N+d9Ol+jj2JfEvzuuGWWG++XSMQGAWCjICgC6MV08FteMsrgzQ3zne7SsbntavtADQLo8vaYm4nLFXFfOzCBwOgoNj889b46W3Fdl0YgyQ/TMEteMMtsfEwD2wMwRAJC0Z/+Hhm2uGWV6es2DWnJflZyOwvB27xentWf/h4apx/7AgFavf0XtLZtTPl4ASIeG+sVacl9VuGBpriw3Ccn1xzceS+6r0vGOF8P/xkX/GwgAuYpwBAAkHfn4pGFbrGUy7nlz5H59g5qaj2rbzvcirus+5QvXIQGAXOCaUZbTn2m5/vjGg2MCwI4IRwDYnu98j8ma+vjLaCSF2z1u2/leeNrxP9xXldK12d4vTke1Fv6J3PPmJBzrzf6dirm3qmLureP6O92nfPJ+cSq8r2Cnn6oJGXP0vlN1PEItneP9suwPDKr71LeG4+aeNzftv7r6A4M68nGXfOe/kxQ85jfTgSP0+EP7kyT3vLmqmHvrhDw23/me621DC5M+XmaPMTgmY5HjWM/NeF/TofEm87etYjbGdHVhif7bknXvhegxSRM/E2Ki32/ZLNZzP973WjSONYBUIhwBYHtOR5FhW6ggYDIBSawT/UQFXh9b9bJh29NrauRZ86Bh+5GPu7Rn/4fqPuUz3VeoA4HvfI9hv2b7XLj0+Yj6KO55c/TO6xt05OMubdv5XszaKQ31ixN2OgiJtfxICgZK7nlztHPr40ntK9qRj7v0RvNR031LCu97vMfDNaNMxzteVOuhTm3b+V74hDo0a2g0f2BQTc3/U280fxSzyG5D/WI9bfK8jlfroU5t2vJmxLZ3Xt+girm3atvOFrUe6jS9n2tG2Zi6JDU1H9VvD/3e9HW3R8HXdjLdmjZueVO/jRrT8Y4XJUW2DQ1tD524xnpe4nWVCnU2CY2ncf+HcZ+b2uULtHlTXVIny/Fe01KwHseru9eFxz7aQ8sXaNc4X+9jkWiMrhll2rn18aRPJh9b9bJhX/+r69Vx/W0p9uvlb6pWx7yP73yP6fXHO14M7yfWe8I1o8zwGnO9viH8+Mfy+KL5A4MJ329Pr3kw7gwMs38nRj8uM7HeT6FCqtGvvdF+e6jTcF8p8jHH238sN/Pcj3Yzn23xiqIDQDIoyArA9pyOQtOTxcdWvRzzi9hoqf4ytmnLm1q9fl/MYEQKhgXL6rar+9S34/47jfs/1Or1++IWlW1qPqplddvkDwzG3de2ne+ZnnSM5v3i9LjGvG3ne1q9fl9K9j1a4/4PtWnLm3G7CgUL8W5L2P45dNwCCY7bzQiNJd5rNnSbIx93JdzXY6te1rad78V93UnBk5llddvVFNWqOrnxbo/7PJrZtvO9iMAq1n67T/n02KqXEz43wfEnfk037v8w4Wu6+5RPC5c+r9ZDv0/uwUywZMYYem4bTeospfpvSzdeL8l8tt6s0GMd62ssuX1/l9T7bdOWN7WsblvOFuv2Bwa1ev2+pJ/7hUufH/NrL9nPtoVLn0/42QYA8RCOAICkh5b/rWFb6Ivt31St1ur1+9R6qDPhCdRE27TlzaRPIvyBgXG1IpZCv/old9/uUz41Nf/PmNdv2/le0ifK/sCAoW5LPKncd+R9BxMej9CJV7InPb7zPWMOEMZi05Y3kx7Lpi0HY76Wx3NCGTrWY3l8q9fvG3M762SPoT8wMKbHEHqvxzLWNt/jfR/eDCvH2Hqoc0z78wcGDLM5UmHP/g9TFkrs2d+W9L67T/m0ev0raf/3I9X8gUE9tmrXmAOJPfvbxhSQTNRnGwAkQjgCAAoue4g39fnIx13atOVNVS70hGeUpPqXwKbmozGDkVA7Tfe8ORHLgsZ6shlLoporwWUKxi+grYc6Y568xhpzslK572jJHMdYJ17BNfAuLbmvyrJ18E5HkVwzymIeC39gIGbAFSvwCT2ueDVdtu18L+kT3ol4rSZ6jKMlOiZHPu4yHXu8E/9QraFU1LkZi3ityNMxxjdMXksN9YvV3rJZ7S2b9erutabvheDMrNTOpkqHZN7z3ad8pl3Rstm2nS0xZ5aFPitiLeHbs79tXGHxzXy2AUAi1BwBgOt2bn1cTkdRwi9s3i9Oh0+i3PPm6KHlf2sarDTU/71qr89IeaP5qGG/r+5eayjeGvrC5zvfozdMxlEx16WdW39l+MJp1jlnPNzz5ujpNQ+Gv+D7zveo9dDvDSde/sCAjnzcZXjcZl/+K+a6tHlTneGkIV7dCDNj3fdEHA/XjDL9qn6xapf/rZyOwvCJnPeL06bBVai2yOj6FcET1w/TsozA6SjS02tqwuMNjdXsl9ffHuo01F6JFfo9vaZGDfV/b2hpbbbfPfs/NNRliSc0XteMMvkDg0nV/og+ztG1YcZ7e+8XpwyvpVhtvs3qdgSDlNTNVojFbNZLOscYfYIcqoEUEgoOQrNb3PPmaP68OREFWkM1aCRjQBeqJxEt2bCnoX6xHlr+t6qY65rwMGYs7/mm5qP6Vf3ilAZpobo8IdH1R6Kfm/EKdWaLFut4mM0U2rO/LeKzKp6b/WwDgGQQjgDAKJs3PaJf1S9O+mQ2FJTs2f+hofCe01EY/hLnMPnyF/oFLNZ+o7/wBU8QNpp+kWyoXyynoyju0oBEzE5AXDPK5FnzoP50vsdwPP7z1LeSbjxesxPrRGOumHuraWHaaKncdyxmBf5Cf8ssuIpVTDd0kppM8HazNm96xBBYuefN0au712lZ3baI7cEuTZFhhFkQsHnTI+HOTNH7bW/ZbKinEHpPJDNrJnrfyZwkPbR8geHkrnb5AvnOf2c6e2Ist//PqJP82O9D88KPtcsXhF93EzWLK5HRXViSHaN73hwtq9uesjH6zn9nWtDas+ZBQ8g2eszxjDdQiH5fTmSXmvG851sP/T7lJ+7xjpXDUTgh4YzZbKF4x+Od1zcYlrr5AwNqPfR708+XaDf72QYAyWBZDQBECX2xPXm8UTu3Pn697WP8pRqhX8Ymqsjh/2OyhvvV3eviftmrXb5AS+6rGvffjNc5JlZNltHMxhw8QYg9Zve8OXGXM6Vj37HE66oQvcY+FCIl2t9ELPmJJd7jDU1xjzb65DjUoWm0h5YviHvi4nQUmr5uzJ4vs/Emc1IUraH+71O2fXT7Ucn8cSTqtlEx16Vf1d8f8/qJZlbvIdEYgzOiJm6M0a+t7lM+LavbHq7VNPp1lc4T1mTel6nct9l73qxTTDY68vHJiMvJHA+zz4rPk1iGd7OfbQCQLMIRAIjB6ShU7fIFenX3Wp08vluv7l6r2uUL4p507NnfNiFFBqNP0lwzypJqv/rQOMMAp6Mo7i/90ct/JOOXz+gxJ9pniFnwEs3seEzUvmOJVzsg2vwkxhJ6PaXKPyQIxsyew9EnrWadfZIJ28zqvCSzZGM8z02otoP5dcZfxMd6++glF2bHJJnnsPYmXndjZXZymcx7I1ZoNB7BVsiRr4HQ0rtNW97UwqXPa1ndtjHVpJkINxMWJ/KrJII9p6PQ8FzkQtea7lM+w+d/Mv/2mH1uJ9NRbDyfbRRlBTAehCMAkKQl91Vp59bHdbzjRb3z+oaYJ0kTUXQv+gQ82WnQZl8Sk+Ga8eO41yfza2/0l9Fkwpzg30782Hznvx/zfcZyu2jxljyZ/SKZ7HH/38f5/CQj0WM1W9o1mtlJm2vGT5L629HPdTInPON5bsY66+BmZylEP9epft2NR6zCs4mYhUPjVTHXFXMZT0iwy9VRPbbq5evtjlM/gyKV77dk3/NmxyTbAxKzz8BkPyt+GnU8kjkWiY612WcbM0cAjAfhCACM4v3idMzq+6O5583Rzq2P6+k1Nab7sOpXq/H+3VQs98jmL6epmvqfymOSiudwvMchmftZ2d0FQRP5OVUx16XjHS+aFoGNNtHLEGNJ5Wssmz/fAADmCEcA2Jo/MCjvF6e1bed7qly4Xo+telnbdrYkfX9PjLX9N/vFOXqfyf7SGL38xErRsz1i3y7xY4s+2U4mwEp232Nl9nz/Kcm/859JzKiwilm4kuwSiOjnI5W1VdIp+tfwUKHHRJJ9fU6E6F/i/YGBpF73wccy8Sf4tcsX6J3XN+jk8caESxEnahmiFZKZHRXrdolCm0TPX7KfN6liPhsmuX97osdOSAogkxCOALC9x1a9rKbmo+ETBe8Xp8f0i2YqZhlETyM260hhJplCmKkSXXfDHxhIasy/PfR7S/c9Vq4ZZYaT/9ZDnQlPmpN9Dq1i9mt/MsfvyMddhpPs8S7vyjRmJ26tSRwTs04eqWJ2rJMZo1kh15vlDwyGT+ydjkLDUkSz15iVn1k3I5nCqmbv+WSWG8YLXjLhc8TsM3D8xyM3PisA5AbCEQC2FqtI5p79bUkFJE3NR03rgyTza1i8X23NCnxu29kS9wS8qfloWtbxx2JW/HDTljfjjrn1UGdSY3bPmzvmfafyeESf4PgDAwlrzbzRfDSjaw2YFUv0fnE67jH0ne/Rtp3vGbYnKqCYLcwex579bXGfx+5TvrS+D83ed280fxR3jL7zPaZtj8cjFCY/tuplVS70xGwnHmq7Gq0vS5en+M73JPw3wuy9Ef1ZZlar443mozE/2262ptVEzV77h/sqIy4nczxWr3/FZD+58VkBIDcQjgCwvc2b6kzDjD3728KFA6O/qPoDg2rc/6Hpl1+zYMPsC/Ce/R+GT2BG/+IqBbtdRP8yF2yPuc0QxsQbSzq558017VqyrG6b4dfC0JhjnUhFM2unHNq3FcfjaZOWlU3NR7Vpy5uGk1Lf+R6tXr9PTc1HUzaeiWLWQSZUGyL6cXm/OK3HVr1s2O6eNyepbinZwOyx+AMDemzVy6YzL0IFR9PJLNQKjdEspGk91KllddsnbEnNnv0fRiyPiTfzzuxvlpgswYqejec73xPx/vEHBjOiG8me/W0x3/OxXiPRXW7M3iuhmiyj9+sPDIZbI4+F2b8jo8cV7Dwz9mNp1pEp1vHwfnHa9LPaNaMspR28AGCsJls9AACwmtNRqFd3r9Njq142aU8b/JK6SZFT7GP9KuuaUSaPyYnzkvuqtClqW/cpnxYufV6uGWXyBwbldBTqeMeL4TE9vabGcIIfCgQq5rrkdBRdry/wfUYUB3Q6CrVz60qtXr8vYnvoRCE0o2Y8Y050PG5m3+MROmmODn1CM2FCJzz+wEBa60/crNrlC/TbQ783PK49+9u0Z39beMZMvGO8c+vjKR9nOj295kF5owKPUOA1epaYWXvTdNm8qU7L6rZFbAt9du3Z/2FKx2h2fPbsb9NvD3XqoeULwsHwf5761vTE3mzmgHveXMP7ZtvO97Rnf5ucjkL5zvdo86ZH1JBEO91UG8t7/uk1NYYgPhRuRb/njnzcpSMfd8npKAo/5vFwz5tjCGlWr98XDk38gYGYS54S7behfrEh9A0dj9C/Ub7zPTHHbhYyA4CVmDkCAEquFWXoS16sL3pOR5Fe3b3OdB9OR2HML5+hwoi+8z0RX6ob6hfH/FWt+5Qv3FknE4KRkCX3VcU8YQmtNx/vmBvqF6ds3+MR67mWgr+UJtv5KNPs3Pp4zMfVfcoX9xjHu2+2cs+bY9qVSrrxugt2qLpxTNJdkLZirkubNz1iel2sMU4U97w5pn87tHRn05Y3tWnLmxF1nUbf1+xzMXp2RcjoYrOZVqsk0Xu+Yq7LNDiX4ocEZgV2x/L6incsQ8/HeI/l02sejFlDJfRvVOxgpIZZIwAyDuEIAFwXCkjM1vAn4ppRpnde3xC32F4yJ45HPv6D4T7J/jrqmlGWEb/ab970SMyTyWhOR1HMk7qb3Xeqj4fTUZgwUButYq4rI37pTiT0Wh7LL8lOR5F2bn08Z092PGseHNNrOtnbTqSG+sVj+rsT+d5oqF+szZseGdNJe6waJFLwNZjoc8HKlumS+SyQWNzz5uid1zfGvT7Z5652+QJDvY9EfzvRvsdbIyf4GbhxzJ9rmzc9EjMoAgArEY4AwCiuGWV6dffapEOS0K+mxzteTNiFIHTSGesEMjhF31ibZPOmR7Rz6+Nx97/kvqoxnainmmfNg3p199q4J9jueXPU3vLCmLsVeNY8mPB4BE9GUn88XDPKdLzjxbjBV+hkub1lsxwp6GyUCqHXaqJAL/TYjne8mLPBSIhnzYM63vFiUq/p8QSsEyE0xnjPRXCMmyf8+WqoX6z2lhdUu3xB3JAkFIi+8/qGuJ2+GuoXx3z9OR1Fcs+bY+msOdeMnyQ8jqGANtFjlW58rsX7HAn9WzBW8fbtdBSpYq5r3EGT01EYHle894bTUaQl91XpeMeLWRESA7CnvD//2T+Snz9JZWXTrB4LAGQcf2BQ3ae+vb6c5jtJwS95wXXic8fdxje035BkO9x0n/LJd/678H1dM35yvVhp5p50B5cLfZuSMady3+MRnFb/rfyBgesnHbeqYu6tGf38JCP6OOfSYxsPs9ede96cjAknJevHOPq9EPr7wddM4la20UYv5Qp9/mbS684fGJT3i1MRx3q8j1VK7efI6GOZ7L87Y2H2WXGz/14CQKr19PRreHiEcAQAAAAAANhTKBxhWQ0AAAAAALA1whEAAAAAAGBrhCMAAAAAAMDWCEcAAAAAAICtEY4AAAAAAABbIxwBAAAAAAC2RjgCAAAAAABsjXAEAAAAAADYGuEIAAAAAACwNcIRAAAAAABga4QjAAAAAADA1ghHAAAAAACArRGOAAAAAAAAWyMcAQAAAAAAtkY4AgAAAAAAbI1wBAAAAAAA2BrhCAAAAAAAsDXCEQAAAAAAYGuEIwAAAAAAwNYIRwAAAAAAgK0RjgAAAAAAAFsjHAEAAAAAALZGOAIAAAAAAGyNcAQAAAAAANga4QgAAAAAALA1whEAAAAAAGBrhCMAAAAAAMDWCEcAAAAAAICtEY4AAAAAAABbIxwBAAAAAAC2RjgCAAAAAABsjXAEAAAAAADYGuEIAAAAAACwNcIRAAAAAABga4QjAAAAAADA1ghHAAAAAACArRGOAAAAAAAAWyMcAQAAAAAAtkY4AgAAAAAAbI1wBAAAAAAA2BrhCAAAAAAAsDXCEQAAAAAAYGuEIwAAAAAAwNYIRwAAAAAAgK0RjgAAAAAAAFsjHAEAAAAAALZGOAIAAAAAAGyNcAQAAAAAANga4QgAAAAAALA1whEAAAAAAGBrhCMAAAAAAMDWCEcAAAAAAICtEY4AAAAAAABbIxwBAAAAAAC2RjgCAAAAAABsjXAEAAAAAADYGuEIAAAAAACwNcIRAAAAAABga4QjAAAAAADA1ghHAAAAAACArRGOAAAAAAAAWyMcAQAAAAAAtkY4AgAAAAAAbI1wBAAAAAAA2BrhCAAAAAAAsDXCEQAAAAAAYGuEIwAAAAAAwNYIRwAAAAAAgK0RjgAAAAAAAFubbPUAkB12HGjXV6e/VV//gGaW/0TPPbFMM8vLxrSPV1o+0lenv9Wy6irV3FuZopECAAAAADA2zBxBQmu3v6Udr7fpmws9kqTm9k793coXde765WS83d6pZxvfV3OHV1+d/jZVQwUAAAAAYMwIRxDX2+2dam7vVP1St3731r+ofe8z+t1b/6K+wIDWbj+Y1D7OXejRiwfaVeIoSvFoAQAAAAAYO8IRxNXc0SlJem5VTXjbHbNdqrm3UsdPnElq9siOA+06d6FH77y0OmXjBAAAAABgvAhHENeXZ/6kO2a7DPVFQjVDPjtxOu79vzrjU3N7p55bVTPmGiUAAAAAAKQD4Qji6gsMqNRRaNjuvL5E5psEM0ce+/V+zSwv03NPLEvJ+AAAAAAAuFl0q8G4lBYbA5NoO15v07kLPerYu37cf6fmn7bpsy+6JUn3zKtQ23/fPO59AQByV/fFq+q++Bd1//mq/IMj6v7zX+QfGpF/6Jr8QyMRt3UW5MlZMEmu0nw5C/JUMX2yKv7qR3KV5qtiOl+NAACwI74BIKHewKBxW39wW6wiq+cu9GjHgXbVL3XrnrvnpHR8AAD78Z69Iu83f5H37BV1X/yLIQCJJxiaDMvXOyxJOvL15Yjr3bOmqGL6ZC2ZO1XuWVMmdNwAACAzEY4grjtmu3Tu4veG7aFaI3fOdpneb8frbZKkL8/4tOyp30i6EbI0d3j12R9Oa98LK6lDAgBISmDomv7fi1fV2jWkI6eGxhSGjJX37BV5z15Rk3dAzoI8LbmtQEvmTtWS26am7G8CAABrEY4grpp7K7XjQLvebu/UL5ctkCT1BQbV9ulJzSwvC88K6QuEZpIEl9vMLC/TwrtnR+wrunZJSTGtfTF+//XNBUnSf/vrcotHgkzDayO3eM9e0ZFTl9XaNZjSQCQW/9CIWrsG1do1KFdpvtyzpqhhfhHLb3IEnxeIh9cHzPC6yF38y4641tUtVnOHV7/e06re/kGVFhdqb8tHOnehRy95Hg7fbulTv9FXZ3zq2Lte99w9J6L1b8i5Cz26/RcvqH6p2/R6AABCjnx9WU2fD8h79kpSt3eVTlLF9B/JVRKsG+IqzZerNP/6dfl6aX+rJOnZNbUKDF3Tt73X5B+6Jl/vsHx9w9drllwNL7Ux4+sdDgcl7llTVFtZoNqqxDW4AABA5iMcQVwljkJ17F2vpU/t1rON71/fVqSXPA9rXd394duVOgpV4ihimQwAYNwCQ9f0fteQmj4fiBtSSMGiqqGaIO5ZU8JBSDIcBZNUMd28YZ+vdzi8rMb7zUsHgScAACAASURBVF9ijiN0m8Zjl+SpnkZIAgBAliMcQUIzy8v0x//YrnMXetTXP6iZ08vCy2dC2vc+o77AoGF79H78nftSPVwAQBZq7RpU47FLcUMRZ0GeaisLteS21BVKdZXmq7aqMBx2eM9eUWvXYMygxNc7rI0f+AlJAADIcoQjSFqiWSHxghEAAMx4z17Rxg/8cUMR96wp8lRPs6RzTGhmihQMcFpPDpku9SEkAQAguxGOAACAtAuFCbFqioRmidRWFWZM8dPQjBJf77AaP+lX68khw23Cj+ubv8hTPW1My30AAIB1MuPbBgAAsI3GY5fU5L1k2n3GWZCnBneRnphfJEeBeV0Qq7lK87Xr5yXyLCqOGZKECrd6FhXLUz3NglECAICxyMxvHQAAIOd4z17R0ld71PhJv2kwUltZoI7VZfJUF2dsMDJaKCT57OmfqLaywPQ2jZ/065493yUsMAsAAKyV+d88AABA1tt6OKBHD/6g7otXDde5Z03Ruytv0a6fl2TlMpTRIUnF9B8Zrvf1DuuePd+p8dglC0YHAACSQTgCAABSxtc7rKWv9qjJO2C4zlmQp10rnHp35S2WFFudaK7SfHWs/rF2rXCahjzMIgEAIHMRjgAAgJRo8g5o6as9prNFGtxF+t3TP8nJri61VYV6d+Utpktt4oVFAADAOhRkBQAAEyowdE27j10yDQBcpfnatcKZEzNF4gkttXHPmqLGY5ciZov4h0a09XBAvr5hbXnAYeEoAQBACDNHAADAhPH1Dqvu4A+mwciS26bqf6z+cc4HI6PFm0XS5B1gmQ0AABmCcAQAAEyIUDea6GU0zoI8bXnAodfqSrOiC81EC80i2fKAQ86CvIjrfL3DevTgD/KevWLR6AAAgEQ4AgAAJkCTd0CPHvzB0KI3WKS0TA3uIotGljka3EXqWF1mKNYaCkjoZgMAgHUIRwAAwE3ZejigrYcDhu21lQX6H6t/nJXteVMlFBaZLbNp/KSfgAQAAIsQjgAAgHEJDF3Tky29pvVFPIumadfPS2y5jCYRZ0Gedv28RJ5F0wzXNX7SrydbehUYumbByAAAsC++sQAAgDELFV498vXliO3Ogjy9VlcqT3WxRSPLHp7qYr1WV2qoQ3Lk68uqO/gDhVoBAEgjwhEAADAmoRoZ0YVXQ0tGltw21aKRZZ8lt001rUPSffGqHiUgAQAgbQhHAABA0kLBSPRJe8X0yXp35S3UFxkHV2m+6bGLdawBAMDEIxwBAABJiTWbwT1riloIRm5KrFk3sWbpAACAiUU4AgAAEgoGI98bgpHaygK9u/IWCq9OgFC9ltqqwojtwYDkewISAABSiG8yAAAgrlAw4h8aidge6kiDibVrhdPQycY/NEJAAgBAChGOAACAmOIFI3SkSR1PdTEBCQAAaUQ4AgAATBGMWIuABACA9CEcAQAABgQjmYGABACA9CAcAQAAEUIFQAlGMkO8gIQ2vwAATAzCEQAAEBZqHUswklliByTG1soAAGDsCEcAAICkG8FI9Mk2wUhmMAtIYj1nAABgbAhHAAAAwUiWICABACA1CEcAALC5wNA1PdnSSzCSJWIFJE+29CowdM2iUQEAkN0IRwAAsLkNH/gNnU9qKwsIRjKYp7pYtVWFEdu6L17VP7X0WTQiAACyG+EIAAA2tvVwQEe+vhyxzT1rinb9vMSiESFZu1Y45Z41JWKb9+wVbT0csGhEAABkL8IRAABsqvHYJTV5ByK2VUyfrP9eRzCSLV6rK1XF9B9FbGvyDqjx2CWLRgQAQHYiHAEAwIaavANq/KQ/YpurNF+v1ZXKUcDXg2zhLMjTa3UlcpXmR2xv/KTfEHwBAIDY+PYDAIDNdF+8alh64SrN17srbzGcZCPzxXruth4OyHv2ikWjAgAguxCOAABgI6GuJqMFZx+UEoxksdCsH2dBXsR2sy5EAADAiHAEAACb8PUO69GDPxhOlrc84FDF9MkWjQoTpWL6ZG15wBGxzT80okcP/kCLXwAAEiAcAQDAJjZ+4DcEI55F0wwtYZG9aqsK5Vk0LWKbr3eYFr8AACRAOAIAgA00HrtkqD/R4C6Sp7rYohEhVTzVxWqYXxSxjRa/AADERzgCAECOM+tMY7YEA7ljy88cpi1+6WADAIA5whEAAHJYrM40r9WVWjQipItZi9+thwPqvnjVohEBAJC5CEcAAMhRsTrT0LLXHkItfulgAwBAYoQjAADkKLOT4C0POAhGbMRVmm9YPmUWmgEAYHeEIwAA5CCz5RN0prEnsw42ZsutAACwM8IRAAByjFnhzSW3TaUzjY15qou15LapEdso0AoAwA2EIwAA5BBf77BpAVY602DXCmOB1sZj/RRoBQBAhCMAAOQMX++wHj34Q8Q2CrAiJPRaGF2g1T80oidbehUYumbhyAAAsB7hCAAAOaLx2CVDAVZPdTHBCMJiFWjd8IHfohEBAJAZCEcAAMgBjccuqbVrMGKbZ9E0NbiLLBoRMlVtVaEa5ke+Lo58fZn6IwAAWyMcAQAgy3VfvKrGT/ojtrlK8ynAipi2/Myhiuk/iti29XBA3rNXLBoRAADWIhwBACCL+XqH9WRLb8Q2V2m+3l15i0UjQrZ4ra4kov6IJG38wE/9EQCALRGOAACQxbYeDhjqjGx5wEGdESTkKs3Xa3WlEdt8vcP6p5Y+i0YEAIB1CEcAAMhSjccu6cjXlyO2eRZN05Lbplo0ImQb96wphvoj3rNXqD8CALAdwhEAALKQr3fYUGekYvpk6oxgzLb8zCH3rCkR27YeDqj74lWLRgQAQPoRjgAAkGUCQ9f06MEfIraZLZEAkrVrhdNQf+TJll7qjwAAbINwBACALPOvh/sNdUY81dOoM4Jxc5Xma9eKkohtvt5h7T52yaIRAQCQXoQjAABkkdauQbV2DUZsa3AXqbaq0KIRIVcsuW2qof5Ik3eA+iMAAFsgHAEAIEv4eoe19XAgYpurNF9bHnBYNCLkGs+iYlVM/1HEtsZjxplKAADkGsIRAACyxKMHf5B/aCR82VmQp3dX3mLhiJBrnAV5eq2uJKL+iH9oRBs/8Fs4KgAAUo9wBACALNB47JJJnZFi6oxgwrlK8w1dj7xnrxhmLQEAkEsIRwAAyHBmbXtrKwvU4C6KcQ/g5jS4i7TktqkR25q8A/KevWLRiAAASC3CEQAAMlistr2eRcUx7gFMjF0rSgwzkzZ+4Ke9LwAgJxGOAACQwXabLKfZ8oCD5TRIOWdBnnatcEZso70vACBXEY4AAJChWrsGDW1UzZY7AKninjXFtL0vy2sAALmGcAQAgAzk6x1WY9Qv9LTthRU8i4yFf59s6WV5DQAgpxCOAACQgcy609C2F1YItvctjdjmHxrRBtr7AgByCOEIAAAZprVrUK1dgxHbPIumUWcElqmYPtkwa+nI15cNy74AAMhWhCMAAGSQWMtpPNV0p4G1GtxFcs+aErGt8Vi/YYYTAADZiHAEAIAMsvEDf8TJprMgj+U0yBi7VjjlLMgLX/YPjWgjy2sAADmAcAQAgAxh1gXEU20shglYxWwWk/fsFZbXAACyHuEIAAAZILicpj9im3vWFDW4i2LcA7AGy2sAALmIcAQAgAyw8QO//EMj4cvOgjztWuG0cERAbCyvAQDkGsIRAAAsZracZssDDpbTIGOxvAYAkGsIRwAAsJDZcpraygLVVhVaNCIgOSyvAQDkEsIRAAAsFL2cxlWaL88i2vYiO7C8BgCQKwhHAACwiHl3mmksp0HWYHkNACBXEI4AAGABltMgV7C8BgCQCwhHAACwQOOxS4buNCynQbZieQ0AINsRjgAAkGatXYNq7RqM2OapLmY5DbIWy2sAANmOcAQAgDQKLqe5FLHNPWuKGtxFFo0ImBixltcEhq5ZNCIAAJJHOAIAQBo1HrtkqMWwa4XTotEAE8tsec0GltcAALIA4QgAAGliupxmEd1pkDvMltcc+fqyoSsTAACZhnAEAIA0MFtOY3YiCWQ7s+U1Gz/ws7wGAJDRCEcAAEgDs+U07668xaLRAKm15QFHxGVf77B2R4WDAABkEsIRAABSrPviVZbTwFYqpk+WZ9G0iG1N3gGW1wAAMhbhCAAAKfZkS2/EZZbTwA4a5hsDQJbXAAAyFeEIAAApZLac5rW6UotGA6SPsyDP0InJ1zusA58PWDQiAABiIxwBACBFfL3DavykP2JbbWWBKqZPtmhEQHq5Z01Rw/yiiG2NnxgDQwAArEY4AgBAijx68IeIy67SfHkWsZwG9uJZVGy6vAYAgExCOAIAQAq0dg0afh33VFOEFfbjLMgzdK/xnr2iJi/LawAAmYN5vUjKZydO65WWj9TXP6CS4iLV3FupXy5bMKb7SVL90gVJ3Q8Aspmvd1iNUW1LaysLVFtVaNGIAGstuW2q3LOmRHSraTzWr4erCuQo4Lc6AID1+NcICe14vU1Ln9qt4384I0n68oxPa7a/pVdaPkr6fiWOIn1z4Xut2f6WdhxoT8ewAcAy0UVYnQV5LKeB7e1a4ZSzIC982T80og0srwEAZAjCEcR17kKPdhxo18zyMv3xt9vVvvcZdexdr5nlZdpxoF19gcG496u5t1LfHnlZb7+0Rn/8j+1aePds7Xi9Leb9ACDbtXYNqrUr8jPOU22suQDYjVkL6yNfX46YTQIAgFUIRxDXZydOS5Kef2KZShzB6eAzy8v0/BPL1BcYUHNHZ8z77n/hH/WS5+GIbffcNUeS9NWZb1M0YgCwVvRyGldpvhrcRTFuDdhLg7tI7llTIrZt/MCvwNA1i0YEAEAQ4Qjiavv0pCTpjjm3Rmy/5+7rIcdp85BjZnmZfrlsgWaWl4W39QUG1dzh1czysvD9ASCXRC+nkaR3V95i0WiAzOSpnhZx2dc7rAOfU5wVAGAtwhHEFSqkesdsV8T2UOhx7mJPwn283d6ptdsO6vaHXlBJcaHe+fc1Ez9QALCYr3dYjZ/0R2xrcBexnAaI4p41RQ3zI2dTNX5iDBYBAEgnwhGk3DcXesIhSl//YHg2CgDkkidb+iIuu0rztT7qF3IAQZ5Fxjo8GynOCgCwEOEI4iopDv6yE11AdSwFVZ9bVaP2vc/o2yMvq+beSu14vU1vt8euVQIA2aa1a1DdF/8Ssc1TPY0WpUAMzoI8bXnAEbHNe/aKmrwsrwEAWINvbYgrtHwmuoBq6PIds2813CeedXX3S5KOXy/0CgDZztc7bCjCWltZoNqqQotGBGSHJbdNNRRnbTzWT3FWAIAlCEcQV829lZKk5g5vxPbQ5dD1UrB9b8izje/LuWCtYQlNqPtNiYPODQByg1kRVs+i4hi3BjDarhVOOQvywpf9QyPaHRU2AgCQDpOtHgAy2z13z9HCu2er+foymIV3zdaXZ3xqbu9U/VJ3uOvMKy0f6dnG9/WS52Gtq7tf6+ruV3OHV2u3v6X2eyu18K7Z+ubi93ql5SOVOIrCM0gAIJv5eofV2hW5zNCzaBpFWIEkhVpdN35yIxBp8g5oyVzjrBIAAFKJcAQJvf3SWj3b+J6a2ztvhCR3z9ZLnkdi3mdmeZl+d/B5rd1+0PR+o1v8AkC2evTgDxGXXaX58lQzawQYC091sVq7hiJmYG09HFDHar4rAADSh3AECZU4CrVv80q95HlE5y72aOb0MpU4ItfSr6u7XzX3VkaEHjPLy9S+9xn1BQbV1z+gkuIiw/0AIFs1eQcMy2l2rXBaNBogu+1a4YwIG7svXlWTd0ANbpbhAgDSg5ojSFqJo1B3zHbFDDhizQYpcRRqZrkxUAGAbOXrHVbT55FdNWorC1gGAIyTe9YU1VYWRGyjOCsAIJ0IRwAAGKPoIqyu0nyKsAI3acvPjMVZ//Vwv4UjAgDYCeEIAABjcOTry4YirA3ziyjCCtwkZ0GeoWZPa9egvGevWDQiAICdEI4AADAGWw8HIi6Hum0AuHkN7iLD8rSNH/gtGg0AwE4IRwAASFL0chpJenflLRaNBshNnuppEZd9vcNqPMbyGgBAahGOAACQBF/vsJq8lyK21VYWsJwGmGDuWVPUMD9yNpZZdygAACYS4QgAAEloPHZJ/qGR8GWKsAKp41lUbCjOGr2kDQCAiUQ4AgBAAmZFWD3V05g1AqSIWXHWI19fpjgrACBlCEcAAEjArAhrbVWhRaMB7IHirACAdCIcAQAgDoqwAtahOCsAIF0IRwAAiMHXO2xYTkMRViB9YhVnDQxds2hEAIBcRTgCAEAM0bNGKMIKpJ9ZcdZ/PczsEQDAxCIcAQDARPfFqxRhBTKAWXHW1q5BirMCACYU4QgAACaebOmNuEwRVsA6ZsVZae0LAJhIhCMAAERp7Ro0FGF9ra7UotEAkIzFWbsvXlWTd8Ci0QAAcg3hCAAAowS7YVyK2FZbWaCK6ZMtGhEAKVictbayIGJb47F+irMCACYE4QgAAKNQhBXIXFt+5jQUZ90dFWYCADAehCMAAFxn1rq3YX4RRViBDOEsyFOD29jal+KsAICbRTgCAMB1jx78IeKyqzTfcCIGwFqe6mJDYBm9FA4AgLEiHAEAQOZFWLc84LBoNADi2bXCGXHZe/aKYdYXAABjQTgCALC9WEVYl9w21aIRAYjHPWuKaWtfirMCAMaLcAQAYHutJ4cMs0Yowgpktl0rjMVZD3xOa18AwPgQjljkqzM+q4cAAND1WSOf9Eds8yyaRhFWIMOZ1QRq/OSSIegEACAZhCMWebbxPd3+ixe0dvtbOnehx+rhAIBtRS+ncZXmy1PNrBEgGzTMNwaZGz/wWzQaAEA2IxyxyD13zZEkNbd36vZfvKC/+8d/09vtnQQlAJBGrV2DhiKOnuppFo0GwFg5C/IMhZO9Z6/Q2hcAMGaEIxZ5blWN/vgf29Wxd73W1d2vvv5Brdn+lm7/xQta9tRv9HZ7p9VDBICcFz1rxD1rimqrCi0aDYDxWHLbVENxVmaPAADGinDEYvfcPUcveR7WH/9ju3731r+ofqlbx0+c0Zrtb+nWJRtYdgMAKdJ4zFibILo9KIDsED17JNiBqj/GrQEAMCIcyQB9gUG90vKRnm18T23Hv5Qk3THbpTtn/1TN7Z1a+tRui0cIALnF1ztsWE5TW1lAEVYgS1VMn6yG+ZHFWZu8A7T2BQAkbbLVA7CrvsCgmjs61f5pl46fOCNJKnEUqX6pWzX3Vuqeu4M1SYKhyfv66oxPd8x2WTlkAMgZ0bNGXKX5tO4FspxnUbFaTw7KPzQiKdjad/exS4ZZJQAAmCEcscgvn92n4yfOhAOR+mULwoHIaAuvb+sLDKR7iACQk8xmjXiqad0LZDtnQZ481cXaejgQ3tbkHdCSucaaJAAARCMcscg9d81R/dIFWnZvlUocsYv/3THbpW+P/CbubQAAyXv04A8Rl12l+RRhBXJEg7tIrSeH1H3xL+Ftjccu6V3CEQBAAtQcschzq2r0y2ULYoYefYEbv2oSjADAxGjtGjQUYWXKPZBbtjwQuUTOe/aKYbYYAADRCEcssuyp32jttoOm173d3qlblzwTEZAAAG5edOve2soCLbltqkWjAZAK7llTDMtoGo9dojgrACAultWk2VdnfOoLDKg3MKiS4kF9duK04TahjjUAgIlj1rqXIqxAbtq1wqmlr/aEi7P6eod14PMBeap5zwMAzBGOpNljv96vcxd6JAWDkrZPT5rern6pm+U0ADBBfL3DavykP2KbZxFFWIFc5SrNV4O7SI2f3Jgt1uQdUG1lIe97AIApwpE0W1d3v/oCA2ru8KqkuFA191YabhPsYLPAgtEBQG6KXk7jKs3XE/OLLBoNgHRomD9NTd6BiNa+Ww8H9FpdqcUjAwBkIsKRNFtXd78kqa9/UDPLy8KXAQCp0X3xqmnrXkcBZbeAXOYsyNOWBxza+IE/vO3I15flPXuF1r4AAAO+GVrkJc/DBCMAkAZPtvRGXKZ1L2AftVWFpsVZAQCIxsyRNFr21G90x+xb9ZLnYe040K5z57+Le/t9m1emaWQAkJvMWve+u/IWi0YDwAqe6ml69OyV8GXv2Stq8g6owc3SOgDADYQjadIXGNSXZ/6k3uvteT87cUrHT5yJex/CEQAYP1/vsGnrXooxAvbinjVFtZUFaj05FN7WeKxfD1cVWDgqAECmIRxJkxJHoX538HmVFAd/pWjf+4zFIwKA3NZ6cojWvQAkBd/7R05djijOeuDzAdXMsnhgAICMQc2RNJpZXpawPW9fYDDu9QCAxGjdC2C0UGvf0Zq8A4YAFQBgX4QjFnql5SO93d4pSTp3oUe3/+IF3brkGd3+ixd07kKPxaMDgOy1/ejliMuu0nx5qpk1AthZw/zIgNQ/NGL4rAAA2BfhiEXebu/Us43v65vrIciOA+06d6FHC++erb7+Qa3dftDiEQJAdvpupEz/FYgMQjzV0ywaDYBM4SzIM3wW/FegWP/f4I8tGhEAIJMQjlikuaNTNfdW6rlVNZKktk9Pqn6pW+17n9FzTyzT8RNnWGIDAOOw8QN/xOWK6ZNp3QtAUqzWvv0xbg0AsBPCEYt8c+F73THbJUn66oxPfYEBLauukiTdeX17X/+AZeMDgGxk1rr3tbpSi0YDIBNFzx7pvnhVTV6+cwGA3RGOWOTO2S599ofTkqS2Y13hbZLC9UZCnW0AAInRuhdAMkKtfUdrPNavwNA1i0YEAMgEhCMWWVd3v46fOKNbl2zQjgPtumO2SzPLy/TZidP69Z5WLbx7dsLONgCAG5o+j+w84SzIo3UvAFNbfuaUsyAvfDnU2hcAYF+EIxa55+452v/CP+rO2T9VTXWl3vn3NZKk3v5B3Tn7p9r3wkqLRwgA2cPXO2yYFt/gLmLWCABTzoI8WvsCACJMtnoAdvbLZQv0y2ULIrbV3FupmnsrLRoRAGSn6OU0tO4FkEjD/Glq7RoKByL+oRFt/MCvd1feYvHIAABWYOZIBjh3ocf0PwBAYt6zV9TaFdndi9a9ABIxa+3rPXtF3rNXLBoRAMBKzByxSF9gUDsOtKm5w6u+gPkaV3/nvjSPCgCyT3Tr3pK8PlXdck0SdZsAxFd1S6/+m2NA/xW4MdOs8dglvRvV7hcAkPsIRyyy40CbXmn5SCWOItUvdVs9HADISmate/esoNMXgOR55vXrnz++EY54z15Rk3fAUJMEAJDbCEcscvzEac0sL9PvDv4LXWkAYBxit+6lHSeA5N321/+baisL1HpyKLyt8Vi/Hq4qkKOAFegAYBd84lto4V206wWA8Wo9OWSYNULrXgDj4VlUTGtfALA5whGL1C9boLbjX6ovMJj4xgCACL7eYTV+0h+xzbNoGq17AYyLqzSf1r4AYHMsq7HIzPIy3Tn7p/q7lf8Ws+bIc6tq0jwqAMgOtO4FMNFo7QsA9kY4YpF9LUd1/MQZSdKOA+2mtyEcAQCj7otXad0LYMKFWvuO7oAVau3rpnsNAOQ8whGLvOR5JGYLXwBAbE+29EZcdpXmq7aK+k0Abl5tVaFaTw7Je/ZKeButfQHAHghHLHLHbJfVQwCArGPWuve1ulKLRgMgF3mqp+nRUeGI9+wVtXYNEsICQI6jIKuFzl3o0bON7+v2X7yg23/xgs5d6NFXZ3wxl9kAgJ0Fhq6Ztu6tmE7OD2DiuGdN0ZLbpkZs23o4oMAQbcIBIJcRjljk3IUeLX1qt15p+UglxYU6d6FHkvTV6W+14/U2AhIAiHLgc+OsEVr3AkiFLQ84aO0LADZDOGKRUPjxx//Yrnf+fU14+y+XLdC6uvv1SstHtPkFgOto3QsgnWjtCwD2QzhikS9Pf6s7Z7s0s7zMcN09d89RX2BAff38QgEAknnr3ifmF8W4NQDcvIb50wyzR6I/iwAAuYNwxEIlxRT2AoBEfL3Dpq17HQX8EwYgdYKtfSOX7rV2DUZ0sgEA5A6+WVqk5t5KtR3/Ul+d8UVs7wsM6tnG9zWzvMx0VgkA2M2jB3+IuEzrXgDp0uAukjuqjS+zRwAgNxGOWGRd3WKVFBfq7/7x3/TYr/dLktZuP6jbHwp2rXnJ87DFIwQA65m17t21wmnRaADYkad6WsRl79krOvL1ZYtGAwBIFcIRi5Q4CtWxd73ql7rD27488yfdOfun6ti7XjX3Vlo4OgDIDGate6N/xQWAVHLPmmL43KG1LwDknslWD8DOZpaXad/mlVYPAwAyUuOxS7TuBZARdq1w6p4934Uv+3qHdeDzAUNNEgBA9mLmCAAg45gVYW1wF9G6F4AlXKX58iyKXF7T5B1g9ggA5BBmjqTR2m0H1dzhTfr2/s59KRwNAGSu6FkjrtJ8NdC6F4CFGuZPU5N3QP6hEUnB1r67j13SlgccFo8MADARCEfSaGZ5mRbePTt8uTcwqK/O+HTHbJdKHcHOC8dPnFGJo0g1C++0apgAYKlYrXuZNQLASqHWvlsPB8LbmrwDWjJ3KrWQACAHEI6k0XOrasL//9UZn5Y+tVsde9frnrvnhLefu9Cjx369XzNn/MSKIQKA5TZ+4I+4TOteAJmiwV2kps8HIma2NR67pHcJRwAg61FzxCLPNr6nhXfNjghGpODskudW1WjH623qCwzGuDcA5KbWrkF5z16J2BbdRhMArBTdTtx79orhcwsAkH0IRyzyzYXvVVIc/5fQvv6BNI0GADKDWeteZo0AyCRmrX2jZ7wBALIP4YhFFt41W80dXr3d3hmx/dyFHj3b+L5mlpdpZnmZRaMDgPRr8g7QuhdAVoguwurrHVbjsX6LRgMAmAjUHLHIc6tqdPwPZ7Rm+1t68UC7/rr8x+ECraHrAcAufL3Davo8crZcbWUBRVgBZKSK6ZPVML8o4nOryTugJ+YXyVHAb48AkI349LbIzPIydexdr/qlbknBLjXnLn6vhXfPVsfe9XruiWUWjxAA0sesdS+zRgBktEb00wAAIABJREFUMs+iYjkL8sKXQ619AQDZiZkjFppZXqZ9m1daPQwAsJRZ697aKmaNAMhszoI8NbiL1PjJjUCkyTughvlFfH4BQBZi5ggAwFLRRVhdpfnyVDNrBEDma5g/zRCEUJwVALIT4QgAwDJHvr5smDVC614A2cJZkEdrXwDIEYQjAADLbD0ciLjsnjWF1r0AsopZa9/ozzYAQOYjHAEAWKK1a9DQujf6F1gAyAbRM966L15Vk3cgxq0BAJmIcMQibZ+e1LkLPVYPAwAs4esdNtQaoXUvgGzlnjVFtZUFEdsaj/UrMHTNohEBAMaKcMQi+1qO6vZfvKBlT/1Gb7d3qi8wmPhOAJAjWk8OGWaN0LoXQDbb8jOnobXvgc+ZPQIA2YJwxCJr6xarfqlbX575k9Zsf0u3LnlGa7e/pbZPT1o9NABIKV/vsBo/6Y/Y5llk7PgAANkk1Np3tCbvgCEIBgBkpslWD8Cuau6tVM29ldqn4BKb9mNdavv0pJrbOzWzvEwL756jdXX3647ZLquHCgATita9AHJVw/xpau26MTPOPzSijR/49e7KWyweGQAgEcKRDDA6KHm28X290vKRmts7w0FJx971mlleZukYPztxWq+0fKS+/gGVFBep5t5K/XLZgqTu19zeqXMXg/VV6pcuSOp+AHJT98WrtO4FkLOcBXnyVE/Txg/84W2h1r7RHW0AAJmFZTUZ4LMTp/Vs4/u6dckGvdLykUocRVpXd7/ql7olSX+38kVLa5K80vKRlj61W8f/cEaS9OUZn9Zsf0uvtHwU935tn57U0qd2q+34l5o5vUzfXPhea7a/pbXb30rHsAFkoCdbeiMuu0rzad0LIKfUVhUagpDoGXMAgMzDzBGLhGZUtB3/Un2BYLGuhXfP1tq6xVp41xyVOIInC22fntQvf71fX535VvfcPSft4zx3oUevtHwUMYOlLzCopU/9Rs82vq/6pQvCY432bOP7hpkvoZkx9UvdljweANYxa937Wl2pRaMBgNTxVE/To2evhC97z15Ra9cgYTAAZDBmjlhkx4E2NXd4defsn+olz8P69shv1L73GdXcWxkRNtw522Vp3ZHPTpzWuQs9ev6JZeGAo8RRqH/3PCxJau7oNL1fX2BQf13+Y62ruz9iSVAoEKGNMWA/Zq17K6aT0QPIPe5ZU7TktqkR27YeDtDaFwAyGN9KLbK2brH2vbAyYS2RmeVl+t1b/5KmURl9ecYnSbpjzq0R2++YHbz82YnTWld3v+F+JY5Cte99xrD9q+v7s7qGCoD0ajx2ida9AGxlywMOec9ekX9oRNKN1r4UoAaAzMTMEYv8dXmZ+vrN64j0BQb12YnTaR6Rua/OfCtJhtkrodktff0DSe9r9BIdltQA9kHrXgB25CrNp7UvAGQRwhGLPNv4nl5596jpde2fdmnpU7tzaunJuQs9WvrUbpUUF6pj73qrhwMgjcxa99ZWsu4eQO5rmD9NzoK88GX/0AjFWQEgQ7GsJs3aPj0pf2BAvYFBST16u91Ys2Pv9S4wJcVFhuvSbeb0MklndO5Cz7iXwoSCkb7+Qf3u4PMsqQFsxNc7bNq6l1kjAOwg2Nq3WFsPB8LbWrsGVVtZQGtfAMgwhCNp9mzj+xEzQo6fOGN6u+dW1cTsApNOd8y5VerwGsKRUO2QUO2RWEYHI6O71gCwhydb+iIu07oXgN00uIt05NRleUd1r2k8dknvEo4AQEYhHEmz/S/8oyTp143vq9RRqOeeqDHcpsTx/7N399FR13fe/1+TIOR2Es1eLLl2iHiuX6hFMEh7lnjDjXQXK6RLuwWDeq6yDS539tDYhRUsuqeYFvqTXVPPAsqRuHAuNJFYlzVJF/Yy5UZk2NOlQTCl5Do/McxuIlejmZncgST5/TF8h3zznSQDJPOdyTwf/+h8Zr6TT2w6mbzm/Xm/U2ydUNPXvdf2sWV3lapnXG+wuuNadUvB7LzgWv8ApX8wEi3fE4DIqKzrVH3zl6a1bYucNu0GAOwTarTvoXOXLRNtAAD2IRyJMKMR6dOF8+RMT4n6xqQPzZisgjl5qjpyWqtL9mrWfbn6qMGjfdUnNGtGbnD/b1af0KqSvdr4VIE2Ll8oSXr82VfV2NSiWTNyVXWkTlVH6oLPO23yRFOwAmD0CTW6lzJyAPEof9JY5U8aa6oe2XzQr/sn3ab0JFoAAkA0IByJIK+/M3hU5omF99u8m/Dt/PEyZaS+rX3VJ7TvWo+UWTNy9ebW1cHHtF6bvJORFvj+Gptagkdvjp1qsBwfenJBPuEIMIoxuhcAzLYtcuqhX/wheNvT2s1oXwCIIoQjEeL1d+rBZT/Vndl3qHr7j/TEs6/qo2vhwUDO/rIkQrsbXEZ6snY+v0xbix9TY3OLciZkWfqhrCmcpycX3B9cz8nOku/ETju2C8BmntZulbnNVSNF+Sk0YQUQ11yZiSqem6rSw9dfH8vcHVo+M4XqEQCIArwS28SosIglGenJmpbrGrBRbDQ0kAVgv9Ij7fJ19QZvuzITVTTT/ulbAGC3UKN9f3KwzcYdAQAMVI5ESEZ6sqkSZOfzy2zcDQCMDEb3AsDAGO0LANGLyhEAwLBZd8Bnus3oXgAwC3XMsH8DawBA5FE5EkEbSver6ujpsB8fLT1HACAclXWdpkkMUqBqBABgtm2RU0v3fBG87b5wRe4LV6geAQAbUTkCABgWoUb3UjUCAFbGaN++1h3wyd/VY9OOAABUjkTQ1uIl2lq8xO5tAMCwY3QvANwYRvsCQHShciSCvP7OoR8EADEmVBPWxXlJNGEFgEGEmuRV5u6gegQAbELlSIR4/Z16cNlPdWf2Hare/iM98eyr+qjBM+g19BwBEAv6V424MhOpGgGAMBTPTVPl6c7g+HNfV69ePtKuFx5Jt3lnABB/CEdskpOdJW9bh93bAIBbwuheALh5oUb7lrk7NP8r42jOCgARRjgSIRnpyaZKEHqPABgNGN0LALemKD9FZSc7TBV4pUfaVU44AgARRc+RKHCmwaMPTp3XB6fO05cEQMxgdC8ADI9ti5ym28ZoXwBA5FA5YqMdFbXasrtaXr/5eM2awnlUlgCIeozuBYDhYYz27RuIrDvg069W3qH0JD7LBIBI4NXWJm9Wn9CG0v2SAmHIxuULtXH5QuVkZ2lHRW3wPgCIRozuBYDh1b96xBjtCwCIDCpHbLKv5oRysrNUs/0Z5WRnBdc3PlWgJza8qh0Vtdq4vEAZ6XwKCyC6MLoXAIafMdq3rE8gUubu0PKZKVSPAEAE8Eprk0+bPte9uS5TMGJ4YsH9ksQ0GwBRidG9ADAyiuemyZnkCN42RvsCAEYe4YhNZt2XO2D44fN3KCc7K2RwAgB2YnQvAIwcY7RvX2XuDpqzAkAEEI7YZONTBWr1d2rL7mo1NrVIkrz+Tr1ZfUI/212tt36+yuYdAoDVigqv6TajewFgeBXlp1gC5/4NsAEAw4+eIxG0+sU92lfjNq2dafBoy+tVlsc++L2fyndiZ6S2BgBDqqzrVH3zl6Y1RvcCwPDbtsippXu+CN52X7iiQ+cua/7d42zcFQCMboQjEZSTnaVZM3Lt3gYA3BRG9wJAZIQa7bv5oF/3T7qN5qwAMEIIRyJo41MFdm8BAG4Ko3sBILK2LXLqoV/8IXjbGO3bvycJAGB4ED0DAAblae1WmdtcNRLqTDwAYPgEJoGZjy6WuTvk7+qxaUcAMLpROWKjHRW12lFRO+D9Z39ZEsHdAEBopUfa5evqDd52ZSaqaGaKjTsCgPhQNDNVZe6O4Guwr6tXPznYpm2LnDbvDABGHypHbPJm9QltKN0vb1tgJGZjU4vuzL7D8u8AYCdG9wKAfUKN9q2s62S0LwCMAMIRm+yrOaFpuS5dPPT32lq8RBnpKare/iOd/WWJCubk6aEZX7F7iwBgmpYgMboXACKtKD9FUybcZlpjtC8ADD/CEZt82vS5CmbnSZLuzXXJ6+9QY1OLJGnNY/O05fUqef2dgz0FAIyoyrpOSxNWSrkBIPJeeMRcPeK+cMVS1QcAuDWEIza5N9elD357XlJgxK8kfdTgMT2msbkl4vsCAEnyd/WEHN2bP2msTTsCgPhljPbta/NBP81ZAWAYEY7YpGB2no6datCW3dWSpFkzcrWhdL/erD6hZ0v3S5JyJmTZuUUAcWz3SWvVCKN7AcA+2xY55UxyBG/7unq1+2SHjTsCgNGFcMQmTyy8X2sK50m9ge7jG5cXqLGpRatK9upMg0cbnypQRjrn+gFEnqe1W6WH20xrxXNpwgoAdnJlJqoo3zwprMzdYQmyAQA3h1G+NtpavCT47w/NmKyzvyzRB6fOa9rkiZqW67JxZwDiWf/jNK7MRC1ndC8A2C7UaN91B3wqX3a7zTsDgNhH5UgU8Po7g81Yn1h4P8EIANscOnc55Oje9CR+XQCA3ZxJDr3wSLppzX3hCqN9AWAYUDliow9OndeW3VU6dqohuJaTnaUnF96vjcsX2rgzAPFq80G/6TajewEguiyenqzK012mQGTzQb9qVtKrDgBuBeGITRqbWrTg6ZclBZqxTsudqMbmFn103qMtr1dJEgEJgIgKNbqXUm0AiD7Fc1K1tE84Ut98VWXuDktPEgBA+AhHbLKhdL9ysrNUs/2Z4ChfKXDEZsHT/6AdFbVa89g8mrICiAhPa3fI0b00YQWA6JM/aawW5yWp8nRXcK30SJuWTE/iGCQA3CRePW3yUYNH9+a6TMGIJGWkJ2vjUwXy+jvkbWM8G4DIKD3SbqoacWUmMroXAKLYC9+0jvZ9uV/IDQAIH+GITe7NdQ0Yfvj8gfWMNEojAYw8T2u3pQnr4ulUjQBANHMmOUKO9q1vvmrTjgAgthGO2GRr8RJ92vS5dlTUmtY/OHVe2ytq9eqm73GkBkBErDvgM912ZSaqeA5VIwAQ7YpmplqC7P6NtQEA4aHnSARtKN2vqqOng7e9bZ3aULpfW3ZXKyMtWd62Tnn9HcpIT9HPdlfriYX327hbAPGgsq7TMgKyeE6qTbsBANwIZ5JD2xY5tXTPF8E194UrOnTusubfPc7GnQFA7KFyxEYZacnKyc5SRlpyyNsAMNJCNWFldC8AxI78SWOVP2msaW3zQb/8XT027QgAYhOVIxG0tXiJthYvsXsbACDJ2oRVEk1YASAGbVvk1EO/+EPwtqe1W7tPdnBEEgBuAJUjUcDr71RjU4u8/s6hHwwAw8DT2q3Sw22mtaL8FJqwAkAMCkwYMx+JLHN3WAJwAMDAqByxUWNTi1aX7NGxUw3BtZzsLD23fCH9RgCMqP7HaVyZiSqayYQsAIhVRTNTVebukK+rV1JgtO+6Az6VL7vd5p0BQGygcsQmjU0tenDZz3TsVINmzcjVkwvyVTAnT5K0qmSvZYoNAAyXQ+cuW0b3Fs+xTjwAAMQOZ5JDLzySblpzX7hiaboNAAiNyhGbGBNqju95TjnZWcF1r79TT2zYqS27q7WmcJ6NOwQwWvUf8+jKTKQJKwCMAounJ6vydJcpENl80K+alVmDXAUAkKgcsc1H5y/q3lyXKRiRpIz0ZK0u/Ia8/g41NrXYtDsAo1WoM+iUXAPA6NF/HHt981WVuTts2g0AxA7CERsxshdAJHlau1V20vwGeXFeEsdpAGAUyZ801tJDqvRIG6N9AWAIhCM2KZidp301bktvkcamFm0o3a+c7CxLVQkA3Ir+o3sD0w0Y8wgAo03x3DQ5kxzB276uXr3crxE3AMCMniM2WVP4De2rcWtD6X7tqKjVndl3qNXfqTMNHknSmz9fZfMOAYwmntZuSxPWopmM7gWA0ciZ5FDxnDRTj6kyd4fmf2Wc8ieNtXFnABC9qByxSUZ6smq2P6MnF+QrIy1Zx041qLH5c82akaua7c+oYHae3VsEMIos3fOF6bYrM1FF+YzuBYDRqijfGoD3H+MOALiOyhGbGBUiO59fZvNOAIx2lXWdlias/cc9AgBGn22LnKZw3H3hisrcHYTjABAClSM2efzZV7Wh9G27twFglPO0dls+KVycl6T5d4+zaUcAgEjJnzTW8npPc1YACI1wxCYFs/P0UcN/2r0NAKNc2Unr6F6asAJA/HjhkXSaswJAGDhWY5OC2XmqOnpaTzz7qtYUzgv5mIdmTI7wrgCMJp7WbpW5zaN7i+em0oQVAOKI0WOq9PD1QKTM3aHFecmaMoE/BQDAwCuiTbbsrlJjU4sam1pUdfR0yMf4TuyM8K4AjCYrKrym267MRBXPoWoEAOJN0cxUVdZ1mSoJNx/0q3zZ7TbuCgCiC+GITTYuL9CTC1rs3gaAUaqyrlP1zV+a1ornpNq0GwCAnZxJjpDNWQ+du0wPKgC4hnDEJhyZATBS/F09IZuwLp6ebNOOAAB2y580VvmTxsp94UpwbfNBv+6fdJvSk2hDCACEIzaoOnpa1UfqJEmzZkzWQzMmKyc7y+ZdARgtdp+0ju6lCSsAYNsipxa81iJfV6+kQG+q3Sc7OHIJACIcibjVJXu1r/pE8Pa+GrdysrN0fM+PlZHOp7oAbo2ntVulh9tMazRhBQBIoZuzlh5u1+K8ZH5PAIh71NBFUNXR09pXfUIFs/NUs/0ZHd/7Y21cvlCNTS3asrvK7u0BGAU2H/SbbtOEFQDQV9FMa2C+7oDPpt0AQPQgHImgD06dlyRtLV6ih2ZM1rRclzY+VaBZM3IHnFgDAOGqrOvUoXOXTWs0YQUA9OVMcuiFR9JNa0ZzVgCIZ4QjEeT1dygnO8vSXyRnAv1GANyaUE1Y5989jiasAACL+XePU/6ksaa1zQf98nf12LQjALAf4QgAjAKhmrD2/2QQAADDtkVO022jOSsAxCsastrAOF5jaGxuCbnOuF8A4aAJKwDgRrkyE1U8N5XmrABwDeFIhDU2tWjB0y+HvK//uu/EzkhsCUCM699Iz5WZqOUzU2zaDQAgVhTNTFVlXZep8nDdAZ/Kl91u464AwB6EIxG0cM50S78RALgVlXWdcl+4YlornpOq9CROTQIABmc0Z11R0Rpcc1+4osq6TnpWAYg7hCMRVDA7TwWz8+zeBoBRwtPabWnCujgviTe0AICwGc1Z+wbtmw/69cjd4wjaAcQVXvEAIEaVHmm3NGEtnptm024AALFq2yKnnEmO4G1fV69e7he+A8BoRzgCADHIKHvuiyasAICb4cpMVFG+uVdVmbvDcmwTAEYzwhEAiEGhmrAWz6FqBABwc4rnpFkC9nUHfPJ39di0IwCILMIRAIgxoY7TMFkAAHCrti1ymm57Wru1+2SHTbsBgMgiHAGAGOJp7Vbp4TbTWlF+CsdpAAC3LH/SWBX1GwVferhd9c1XbdoRAEQO4QgAxJCle74w3XZlJlreyAIAcLOK54Y6XuO1aTcAEDmEIwAQI0JOp5lDE1YAwPBxJjksx2vqm6+q9EjbAFcAwOhAOAIAMSDUcZrFeUlaPD3Zph0BAEar/EljNf/ucaa1MneHJaAHgNGEcAQAYkCo4zTFc5lOAwAYGdsWZciZ5Aje9nX1akVFq407AoCRRTgCAFGO4zQAgEgLHK/JMK1xvAbAaEY4AgBRjOM0AAC7zL97nOV4DdNrAIxWhCMAEMU4TgMAsFP/4zWStKKiVf6uHpt2BAAjg3AEAKIUx2kAAHZzJjm0qzDTtOZp7dbLR9pt2hEAjAzCEQCIQu4LVzhOAwCICvmTxqpoZopprczdIfeFKzbtCACGH+EIAEQZT2u31h3wmdZcmYn6u2+m27QjAEC8K56bZqlcXHfAx/EaAKMG4QgARJlQx2m2LXIqPYmXbACAPQLTa5ymNU9rt/6mX5gPALGKd9oAEEXK3B2qrOs0rRXPTVX+pLE27QgAgIBQx2sOnbusMneHTTsCgOFDOAIAUcLT2q3SI+Y+I67MRBXPYToNACA6vPDNdE2ZcJtprfRIm6XiEQBiDeEIAESJpXu+kK+rN3jbmeRQ+bLbbdwRAABWuwrN4319Xb2M9wUQ8whHACAKbD7oDzG219r8DgAAu4Wqaqxvvsp4XwAxjXAEAGxWWddpOa+9OC9JRfkpA1wBAIC9ivJTLOPly9wdOnTusk07AoBbM8buDSC2vFl9QlVHT8vb1qGc7D/SxuULlZOdNeg1H5w6r33VJzRt8kStKZwXoZ0CsSHQZ8T8SRtjewEAseCFR9LlvnDFVPm47oBXNROyqHwEEHOoHEHYtrxepVUle3Xstw2SpGOnzmvqX25S1dHTIR/v9XdqQ+l+LXj6Ze2rcav6aF0ktwvEhKV7vrAcpylfdjtjewEAUc+Z5NCuwkzTGv1HAMQq3n0jLI1NLdqyu1rTcl06+06Jqrf/SDXbn1FGeopWl+yV199puWbB0/+gfTVubS1eYsOOgegXss/I3FQ+bQMAxIwpE8bohUfM1Y70HwEQiwhHEJYdFbWSpJ8XL1FGeuB8aU52ltY89rC8/g6dabhouebeXJeO73mOozRACGXujpB9RhjbCwCINQP1H+n/ew4AohnhCMJihB8PzZhsWp917faxU+ct1+x8ftmQ/UiAeBToM9JmWqPPCAAglr3wSLql8rH0SJvqm6/atCMAuDGEIwjLp02fhww6jLXGppZIbwmISZ7Wbi3d84V8Xb3BNWeSgz4jAICYZvQfcSY5gmv0HwEQS3gnDgARFLLPyJw0+owAAGLelAljLMdDPa3d+usKr007AoDwEY4gbN42a9NVYy0jPSXS2wFiTumRdh06d9m0VpSfoqJ8/v8DABgdivJTVDTT/HvNfeGKZWw9AEQbwhGEZdZ9ufL6OyzHZ86cD/QiuTfXZce2gJhRWdep0sPmPiOhOvwDABDrXvhmuqZMuM20Vnq4TZV11g/aACBaEI4gLAvnTJck7atxm9a3X5ti07dRK/1HADNPa7c2H/Sb1lyZidpVmGnTjgAAGFm7CjMsR0Y3H/TToBVA1CIcQVgKZudpWq5LW16v0obS/Xqz+oSe2PCazjR4tKZwXrAx64bS/Zr6l5v0ZvUJm3cMRIdQDVglaVdhJn1GAACjVqgPAYwGrf17bwFANCAcQdje+vkqzZqRqx0VtVpVsldVR+q0pnCethYvCT4mIy15kGcA4k+oN4EvPJKuKRPG2LQjAAAiI9TxUU9rt1ZUtNq0IwAYGO/OEbac7CxVb/+RvP5ONTa3KGdCljLSzWHIxqcK9OTC+y1jf30ndkZyq0BUCFU+XDw3lQasAIC4UZSfIk9rt8pOdgTX6puvavNBP323AEQVKkdwwzLSkzUt12UJRgz9gxEgHpUeaVeZu8O0lj9prGXEIQAAo90L30xX/qSxprUydwcTbABEFcIRABhmoSbTuDITtW2R06YdAQBgr1C9tphgAyCaEI4AwDAySoX7cmUmqnzZ7TRgBQDELWeSQ+XLbpczyWFaZ4INgGhBOAIAw8RoMsdkGgAArJhgAyCaEY4AwDAwRvYymQYAgIHlTxobcoJNqN+hABBJhCMAcIv8XT0hP/ViMg0AAFZF+SkqnptqWjOqL/1dPTbtCkC8IxwBgFv0Nwd8lvPSRfkpTKYBAGAAxXPStHi6efJhffNV/eRg2wBXAMDIIhwBgFuw+aBfh85dNq1NmTDGUjIMAADMti1yWkb8VtZ1WhqbA0AkEI4AwE0qPdKuMneHac2VmaiKZbfbtCMAAGJLqKblZe4OlR5pt2lHAOIV4QgA3ITSI+0qPWwu/TVG9qYn8dIKAEA4jBG//QOS0sNtBCQAIop38ABwg8rcHQMGI4zsBQDgxgz0O7T0cJulQhMARgrhCADcgFBnoZ1JjpBlwQAAIDyuzETtKsyUM8lhWt980K/Kuk6bdgUgnhCOAECYDp27rHUHfJb18mV3aMqEMTbsCACA0WPKhDEqX3aHZX3dAR8BCYARRzgCAGGob76qdQe8lvVti5wEIwAADJMpE8Zo2yKnZX3zQb/qm6/asCMA8YJwBACGUN98VUv3fC5fV69pfdsipxZPT7ZpVwAAjE6LpydbAhJfV6+W7vmcgATAiCEcAYBBDBSMFM9NJRgBAGCELJ6erOK5qaY1AhIAI4lwBAAGMFgwUjwnzaZdAQAQH4rnpBGQAIgYwhEACIFgBAAA+xGQAIgUwhEA6IdgBACA6EFAAiASCEcAoA+CEQAAog8BCYCRRjgCANcQjAAAEL0ISACMJMIRAJB06NxlghEAAKLcYAHJoXOXbdoVgNGAcARA3Kus69SKilaCEQAAYsBAAcmKilZV1nXatCsAsY5wBEBcK3N3aN0Bn2WdYAQAgOgVKiCRpHUHfCpzd9iwIwCxjnAEQNwqPdKuzQf9lnWCEQAAot9AAcnmg36VHmm3YUcAYhnhCIC4VHqkXaWH2yzr2xY5CUYAAIgRxXPStG2R07JeeriNgATADSEcARB3Nh/0DxiMLJ6ebMOOAADAzVo8PXnAgCRUhSgAhEI4AiBu+Lt6Qp5FdiY5VLMyi2AEAIAYtXh6smpWZsmZ5DCtl7k7tKKiVf6uHpt2BiBWEI4AiAue1m4V7vnC0sXelZmo8mV3aMqEMTbtDAAADIcpE8aofNkdcmUmmtYPnbuswj1fyNPabdPOAMQCwhEAo56ntVtL93yh+uarpvVAMHI7wQgAAKNEICC53RKQ1Ddf1VICEgCDIBwBMKoN9GbICEb6v3kCAACxbaDf8QN9WAIAEuEIgFGssq5TS/d8bglG8ieN1a9WWstuAQDA6ODKTFTNyizlTxprWve0dmvBay2W/mMAQDgCYFQqPdKudQd88nX1mtYX5yWpfNntSk/i5Q8AgNHMmeRQ+bLbVTQzxXLf5oN+Rv0CMOGgPYBRxd/Vo58cbLM0XpWk4rmpKp6TZsOuAACAXV74ZrqcyQ6VHjaHIaWH2+Tr6tELj6TbtDMA0YSPTgGMGgNNpJGkbYucBCMAAMSp4jlpIUPyN/iIAAAgAElEQVSQMneHFrzWQqNWAIQjAEYHo/Fq/yZrziSHalZmafH0ZJt2BgAAokFRfopqVmYxyQZASIQjAGJembsjZONVoxkbo3oBAIA08KhfT2u3HvrFH2jUCsQxwhEAMW3zQb82H/RbGq8ykQYAAIRifHgy/+5xlvto1ArEL8IRADHpiy/HadU7HSE/4SnKT2EiDQAAGJAzyaFdhZkqnptqua/0cBt9SIA4xF8OAGKO+8IVPVPdo//jNzdYdSY5tG2Rk67zAAAgLEajVmeSw7Re33xVa/91rL740lpdAmB0IhwBEFMC/UWsTdNcmYkqX3YHjVcBAMANGahRq6+rV0v2fckxGyBOEI4AiAn+rh6tqGjV5oN+y31GfxEarwIAgJsR+JDlduVPGmu5r/Rwm9Yd8HHMBhjlCEcARL365qt69LXPdejcZct99BcBAADDwQhIQvUhqazrZNwvMMrx1wSAqFbm7hiwKRr9RQAAwHArnpOmXYWZA4775ZgNMDpRgw4gKvm7evTXFV65L1yx3Ddlwhj9bX6nXJmtkugxAgAAhtf8u8fp9jHtWv5Oj3xdvab7Sg+3ydPareI5qZYABUDsonIEQNRxX7iiR1/7PGQwMlDTNAAAgOF0+22X9cul3YMeswn1XgVAbCIcARA1/F092nzQH/JMrzPJoV2FmRyjAQAAEVU8J03bFjlDHrNZuucLjtkAowThCICoUN98VYV7vlCZu8NyX/6ksapZmaX5d4+zYWcAACDeLZ6erPJlt2vKhNss95UebtNDv/gDzVqBGEc4AsB2RtPV+uarlvuMaTQcowEAAHZyZSaqZuUdIY/Z0KwViH2EIwBsY5Sjbj7ot9xnjNPjGA0AAIgmxXPSBux/RhUJELsIRwDYwqgWGajp6q9W3qH8SWNt2BkAAMDgpkwYo/Jlt2txXpLlPk9rtxa81hLyqDCA6EU4AiCi+laL9B+N17fpanoSL08AACB6uTITte3bGSGbtfq6erX5oJ8qEiCG8NcHgIgZrFqEpqsAACAWGc1aB6oioRcJEBvG2L0BAKOf+8IVbT7oD9lw1ZnkUPGcNBXlp9iwMwAAgFtnVJHkTxqr0iPtlmqR0sNtqqzrpMk8EMUIRwCMGH9Xj14+0j7gmdv8SWNDlqICAADEosXTkwMByeE2VZ7uMt1nVJEU5afomTmpHCEGogzhCIAR4b5wResO+EKes3UmOfTCI+laPD3Zhp0BAACMnKGqSMrcHTp07rKK56TyXgiIIoQjAIaVp7Vb6w74QvYVkaT5d4/T3y9y8mkJAAAY1YaqIll3wCf3p1+qeE4qVbRAFCAcATAs/F092n2yU2XudssUGunapyiLnIznBQAAcWOoKpLKuk5V1nWqeG6aiuek2rRLABLhCIBhMNgRGkkqnpuq5TNTqBYBAABxafH0ZM2/O0llJ9tVetg6ucZo2MpRG8A+/KUC4KbVN1/V0j1faOmeL0IGI8Z43uI5aQQjAAAgrhkT+j744R9pyoTbLPcbR21WVLQO+IETgJFD5QiAGzbUFBoargIAAITmykxUzco7VFnXGfKozaFzl3Xo3GUtnp5MPxIggghHAIRtqL4ikhhPBwAAEAajYWuZu0NlJ60fOFXWdcp94UowJAEwsghHAIRloE83DPmTxmrbIiefbgAAAITJlZmoF76ZrqL8FG0+6Nehc5dN93tau+lHAkQI4QiAQbkvXFHpkfYBR/MyhQYAAODWuDITtaswc8APo4x+JKVH2glJgBFCOAIgpKFCEWeSQ0X5KSqekxbhnQEAAIxOi6cna/H05CFDksrTXSqek8qHU8AwIhwBYBJuKMJoXgAAgJExVD8S94UrWnrhCseagWFEOAJA0tChiCQtzktS8dw0fgEDAACMsL79SEoPt6nydJflMe4LV/TQL/7AZBtgGBCOAHEunFAkf9JYSjcBAABs4MpM1LZvZ6h4btqAIUllXacq6zoDx3LyknjPBtwEwhEgThGKAAAAxA4jJCnKT9Xmg/6Q7+GMkIT3cMCNIxwB4gyhCAAAQOyaMmGMypfdPuh7OqMnyZQJY1Q0M4XpNkAYCEeAOODv6tH+ui6VneywdD3vi1AEAAAgNuRPGqvySWMHDUnqm68yAhgIE+EIMIr5u3q0+2Snytzt8nX1Dvg4QhEAAIDYFE5IYowALj3SHuxLQvNWwIxwBBiF3Beu6NDvL6uyrpNQBAAAIA70DUkq6zpDNm71tHar9HCbSg+3MeEG6IdwBBhFDp27rLKTHYP2E5ECI3kXT08mFAEAABhl8ieNDXwANsh0G8ncvNV4bwjEM8IRIMaFe3TGmeRQUX6Kls9MUXpSQgR3CAAAgEjrPwLY/emXIXvPuS9cCR7JmX/3OBXNTKGaBHGJcASIUeFMnZECvxgXT08iFAEAAIhDRkji7+rRwXOXVXqkPWRI4mntVpm7Q2XuDs2/e5wW5yVr/t3jbNgxYA/CESCG1Ddf1aHfXx6ySkSinwgAAACuS09KCDRjnZ4c7Eky0Idsh85d1qFzl+XKTAy+p6SaBKMd4QgQ5YwxvId+f3nIKhFnkkOL8wK/9KZM4P/eAAAAsDJCEqNB60BHbjyt3ZbeJPmTxhKUYFTirycgCvm7evRx81WVHmlXffOXYVWJzP/KOC2ZnsTRGQAAAISl/5GbspMdqm++GvKxRm8SSRy7wahEOAJEkXBH8ErXq0Tm3z2OozMAAAC4aX2P3NQ3X1WZu12Hfn95wPejxrEbZ5JD8+9OClaUALGMcASwkVEhEm4gIlElAgAAgJEzZcIYbft2hiQN2ZvE19UbPHZj9CchKEGsIhwBIswoW3Rf+FKHft8VViDiygyk+UycAQAAQKT07U1y6Nqxm1C9SSRzfxKjomT+V8bp/km38f4VMYFwBIgA4xdKOE1VDRybAQAAQDRwZSaqKD9FRfkpcl+4osq6zgGbuErmihJJNHNFTCAcAUZA3+Myh85dHvAXR38EIgAAAIhm+ZPGBt+nhhOUGI8zPiA0jt9QVYJoQzgCDAMjDHF/+qXpxT8cBCIAAACIRTcTlPQ9fnP9OW5T/p1jeS8MWxGOADehfxgSzrjdvlyZCZr/lSQCEQAAAIwK/YOSQ+cuy/3plQFHAxuuf7DY3ud5AmHJPRPGUFmCiCEcAcLgae0OhCCfXb0Whgz+It+fM8mhKRNu0/yvjNP8u8dx1hIAAACjVt+gxHgfPdjUm776hyVTJowJPN+dgX4lUybwJyxGBj9ZQD99g5D65qs3XBVi6FsdQuoNAACAeOTKTAxOvfF39ejEhS916FxX8L32UALvx6+qzN0h6fqHjlMmjCEwwbDipwhh+eDUee2oqJW3rUMZaSkqmJ2nJxbeP2LXjTR/V4+8Xb1yX7giX1dv4EX3sy9vuCKkL1dmQvCsJJ24AQAAALP0pATNvztQSS1d/1DSfeHKkL1KDL5r7+HdF64EAxMpUGFiBCVT/vg2QhPcMH5aMKQtr1dpy+5qZaSn6N7cP9FHDR5VHT2t1rZOrSmcN+zXDQcj/KhvvipfV4883m55vuhR/WeBKpBwp8cMhjAEAAAAuHl9q0okc1gSbmWJwagwOXTusuVruDIT5cpIlOv2hMA/MxPlTErQxMwEqrsRRDiCQTU2tWjL7mrlZGfp+J4fKyM9WY1NLVrw9MvasrtaTy64XxnpyYNeV7P9GeVkZ4V13WAutFxW6ZE2SYHE2NcZOOriu9xjCjyGI/joL1i+98eBM4+MHQMAAACGV/+w5PoQhCtyX/jypo67e1q7h/z7IBCWOOS89v7elRH40NOZ7JAzyWF67Oetgdt3XGgLew/Fc9JuZMuwCeEIBvXBqfOSpOeWLwyGGTnZWVpTOE8bSvdrX82JkFUgfa/Lyc4KXvfc8oVaVbJ3wOsG423rVOnh9lv5dsLiykzQlAm3yZWRGGwARVUIAAAAEFnpSQnXm7vOCazVN1+Vp7Vb9Z99KfeFL8MKP4ZyY9cbYUn4f5cQjsQGwhEMquroaUnSQzMmm9YLZudpQ+l+nTl/cdDrpk2eaFo3nmeg6yKpfwgyZcJtlNYBAAAAUSzwvn1MoG/JtcDEqDC5HpwEjtbfSj9BxB/CEQzK2xZocmRUfxiM243NLYNeNy3XdUPXDZdAWZxDrswxcmUkyHV74JyhMykh2KwJAAAAQOwzVZj0Y/QgrG++Kt/lHnm+6JbH2xPoS9jafVNTKTE6EY4gZmSkJeupuamSJOe4hOD5P2dSwrUgJBB4EHwAAAAAkBScWBMqODEYIYmvqyf4T0nyeK3HbT5vDfQauSOTozKjDeEIBpWRliJJ8vo7TQ1Uvf5O0/03et3NaP///q/+9/96+aavx+jS2RXoRJ6cNM7mnSDa8LOBUBr/6/9Kkj74j9/ZvBNEE14vMBh+PhDKzfxcFM95fqS2g2FEOIJBGcdgzjRcNPUdOdNw0XT/jV43LXdiyOsG84XDpw9+U3/D1wEAYDBCEgAAgL7oPIlBFczOkyTtq3Gb1o3bxv1SYHzvzVwHAAAAAICdqBzBoB6aMVmzZuRqX/UJSdKs+3L1UYNH+6pP6MkF+cGqkB0VtdpQul9bi5doTeG8Qa8rmJ1nmX4zkOk5/31kvjEAAAAAAK4hHMGQ3ty6WhtK39a+6hPXw44Zudpa/NhNXbdz07Kwv3bJ88tvfuMAAAAAAITB8dlnvt7ExARlZaXavRdEOa+/U43NLcqZkGVqsmpobGoJ2YNkqOsAAAAAALBDS0uburt7CUcAAAAAAEB8MsIRGrICAAAAAIC4RjgCAAAAAADiGuEIAAAAAACIa4QjAAAAAAAgrhGOAAAAAACAuEY4AgAAAAAA4hrhCAAAAAAAiGuEIwAAAAAAIK4RjgAAAAAAgLhGOAIAAAAAAOIa4QgAAAAAAIhrhCMAAAAAACCuEY4AAAAAAIC4NsbuDQDh8Po7tePtWp05f1Hetg7lZP+RNi5fqJzsLLu3Bhs1NrVoR0WtzjRclCRNy52oNYXz+LlA0JkGj3aUvy9J2vn8Mpt3Azt8cOq8dlTUytvWoYy0FBXMztMTC++3e1uIAsZ7i8b/+oM2PlXA7w4E8bqBUPr+XEjSkwvu5+dilCEcQdRrbGrRgqdfVmNTi2bNyFVGeor2VZ9Q1dHTqtn+jKbluuzeImxg/Fx42zo1a0auvP4O7aioVdXR0zq+58fKSE+2e4uw2Zbd1dryelXwNuFI/NnyepW27K5WRnqK7s39E33U4FHV0dNqbevUmsJ5dm8PNvrg1HmtKtmrxqYWSdKTC+8nHIEk8+vGrBm5+ug8rxsI/XOxqmSvPm3+XBuXL7R7exgmHKtB1NtRUavGphZtLV6i6u0/0ptbV+nsL0vk9XeY/vBBfNmyu1qNTS2q2f6M3ty6StXbf6RXN30vUE3ydq3d24PNNpTu15bXq7SmcB4BapxqbGrRlt3VysnO0tl3SlS9/Ueq2f6McrKztGV3tbz+Tru3CJtUHT2tBU+/rDuz79CTC/Lt3g6iiPG6UTA7TxcP/b3e3LpKx/f8WNNyXbxuxLEzDR7Lz8XZX5Zo1oxcbXm9ip+LUYRwBFGvYHaeXt30PVNan5OdpZzsLH167RMfxKHeXj25IN/0h69R2tj4X3+wa1eIEjnZWarZ/oy2Fi9RJlVEcemDU+clSc8tXxisJMvJztJzyxfK6+/QvpoTdm4PNjM+cKFaBH0Z1ah933NmpCerYHaevP6O4HEKxJeMtGS9uul72lq8xLT+0H2TJUmNzfw9MlpwrAZR76EZky1rZxo8amxq4ROfOBbqiMSZBo8k8WYXlD5DVUdPS5KmTZ5oWjd+p5w5fzHie0J0KJidZ/cWEKWm5bpUvf1HlnXj/UVGWkqkt4QokJOdZekt4vV3al+NWznZWVSojiKEI7Cd19+pHRXvW9Y3PlVgWVv94h41Nrfo2KkGzZqRq63Fj0Vii7DJm9UnLNVBBXOmh/wl5PV36vFnX1VOdpaepDlWXNhRUSuv3/wpHn0DYDA+4e3/emH8fPBJH4BwGP3M1hTOo58Z9Gb1CR07dV5Vxz5SzoQ79Cr9zEYVwhHYztvWoX01bst6qHCk75vZVn9noIs4v6hGrWOnzuvYbxtMa9MmTwwZjqz+aaCx3ps/X8Ufx3Gi+midPm363LQ2a8Zk/vcHAAwLo9fEtFyX5UgF4tOnTS3Bv0e8bZ2qOnqaypFRhHAEtsvJztLZX5aE9Vij1LGxqUUPLvuZHlz2M519p4SAZJQKd7rI6pK9qjpSp41PFVAuHUdClT4DBqP83evvNP2OoHEegHCcafBowdMvKyMtWW/9fJXd20GU6PvhrdH8fVqui/efowQNWRGTcrKz9OSCfHn9HZRGx7nVJXu1r/qENj5VwCg1AEFGBdGZBnNvEeP2tNyJlmsAQDIHI8aUK6A/o79Z9ZE6m3eC4UI4gqg39S83aeL8v7F82tfIpJq4t6F0P8EIgJCMT/H6H9s0bvMpH4BQGpta9PizrxKMIGhD6X45718dbPRtMKaiZaTTqHe04FgNot6awnnaULpfDy77qdYUzlNmWrL21ZzQsVMNKpidxzm/OLXl9SrtqKgNvGnp7dWW16uC92WkpzCtBIhzD82YrFkzcrWvOjCyd9Z9ufqowaN91Sf05IL8kJPQAMS3xqYWLXj65eBEROP1wzBQU3iMbmsK52lfjVurS/aqenaeZt2Xq0+bP9eOilrec44yhCOIemsK58nrDzRt3VC6X1Lgj9+NyxdqTeE3bN4d7GJ8+tvY1KItu6tN9+VkZ/GLCoDe3LpaG0rf1r7qE9dDEiadARhAY1NLsDI51LCAOxnbGpdysrN0fM9zevzZV0P+PqG6aPRwfPaZrzcxMUFZWal27wUYkvELKyMthSasAICweP2damxuUc6ELH53AABumteYlsnfIqNKS0uburt7CUcAAAAAAEB8MsIRGrICAAAAAIC4RjgCAAAAAADiGuEIAAAAAACIa4QjAAAAAAAgrhGOAAAAAACAuEY4AgAAAAAA4hrhCAAAAAAAiGuEIwAAAAAAIK4RjgAAAAAAgLhGOAIAAAAAAOIa4QgAAAAAAIhrhCMAAAAAACCuEY4AAAAAAIC4RjgCAAAAAADiGuEIAAAAAACIa4QjAAAAAAAgrhGOAAAAAACAuEY4AgAAAAAA4hrhCAAAAAAAiGuEIwAAAAAAIK4RjgAAAAAAgLhGOAIAAAAAAOIa4QgAAAAAAIhrhCMAAAAAACCuEY4AAAAAAIC4RjgCAAAAAADiGuEIAAAAAACIa4QjAAAAAAAgrhGOAAAAAACAuEY4AgAAAAAA4hrhCAAAAAAAiGuEIwAAAAAAIK4RjgAAAAAAgLhGOAIAAAAAAOIa4QgAAAAAAIhrhCMAAAAAACCujbF7AwAAID5seb1K+2rcA95/9pclYT9XY1OLdlTUquroaTU2tWharksFc6Zr4/KFpsd5/Z3a8Xat9lWfkLetUzkT7hj0cVVH6tTY/LlyJtyheydP1MblC5WTnWX5Hl7d9D0d+22DdlTUqmDWvdr5/DJJ0pkGj3aUv69jv22Qt61T9+b+iVYXfkMFs/PC/t4AAEDkEY4AAICIaGxqsax52zrl9XdoWq7rhp7nwWU/kyQVzLpXui9Xx37boC2vVykjLVlrCucFH7fg6ZeD4cm9k1366LxHW16vUmNTi3Zu+l5gD/5OLXj6H3SmwaOM9BQVzLpXx37boH3VJ3Ts1Hkd3/NjZaQnS5I++O15NTa16NnS/cEQZdrkiZKkN6tPaFXJ3uBzeNs7VXXktI6dalDN9mf00IzJt/TfDwAAjBzCEQAAEBFGdYXhTINHC55+WTnZWXrr56vCfp7VJXvk9XfozZ+vClZknGnwaNWLe0yPM4KRVzd9T08svF/S9WBlX/UJbf3hEmWkJ2vDL/brTINHG58qMFWULHz6H3TsVIOqj9YFr/+o4T8lSbNmTNbG5QXB0KSxqUWrSvYqJztLNdufCVabfHDqvBY8/bJ2VNQSjgAAEMUIRwAAQMQZwUhGWrIpTGhsatEHp85bHp+TnRUMFz5t+lySlJmWHLx/Wq5Lx/f+OHj7zeoTamxq0ZML8oPBhvE8Ozd9Tz5/R/Dr7as+oZzsLMtRmycX3K9jpxr0UYNHTyhQYeL1dygnO0tbi5eYHruhdL8kmb4XScE9f9TgubH/QAAAIKIIRwAAQEQ1NrXo8WdftQQjxn2rSvZartm4fGEwaHhyQb627K7WgqdfvnZcZqIWzs4z9fWoOno68Ng+wYih7+N2VLwvScGjOH0501MkSd5rQcqZhouSpHv7HQHy+jtVdfS0MtJTtLrEXL1iuDP7jpDrAAAgOhCOAACAiDH6gHjbOnV8z3OmYERS8FhKf9NyJwb/feNTBbozO0v7ak7oo4b/1JkGj/ZVn9CsGbmq3v4jSdKn1/qb9L0ulDPXKjr6Bx7GXiUFe4oY1R/9+6MYoUlGWrJyJpi/H0l6ckFW8DkAAEB0IhwBAAAR0TcY6V8xYsjJzgq53t8TC+8PHpcxjugcO9WgMw0eTct1ydvWGfI6r79T3rYOZaSlBPuFDGRHRa2kQH8RY/+SBgw6Zt2Xa+mrAgAAYkOC3RsAAACjX9/JMTs3fe+GptP0tWV3tZ549lV5/dfDj2m5LmVc6z9i/NM4xmJUdRhW/3Svpv7lpuC6EcQc+22D+etcm2hTMDsvuFfjmjtDVLtIUmOzdRrP6pK9wX4kAAAgelE5AgAARlRgVG4gGMnJzlL1kTpVH6kL3p/z3//I0gx1IGfOX1TV0dPybtipJxcEKkf21QSar64pnBcMKoxmqo9veC0YcFQfrdOxUw1aUzgv2L9kTeE87atxB8OQWfflqurYaVUdOW1pvGpMqukf7ORkZ2nWjFwdO9Wg1SV7g/cbX2/jUwU3+V8OAABEiuOzz3y9iYkJyspKtXsvAABgFDLG2Q6kYHae3gxzlG9jU4s2lO4PNlyVpIz0FG1cvtDSVHXL61Xasrva9Lg1jz1sCSuqjp7WhtL9wWMzkjRrRq52bloWDFu8/k5NnP8jy1Scvvva8nqV9tW4h9wXAACIHi0tberu7iUcAQAAscfr79SZhoth9Sg50+AJNEsN43GSlDMha8h+JMOxLwAAYD/CEQAAAAAAENeMcISGrAAAAAAAIK4RjgAAAAAAgLhGOAIAAAAAAOIa4QgAAAAAAIhrhCMAAAAAACCuEY4AAAAAAIC4RjgCAAAAAADiGuEIAAAAAACIa4QjAAAAAAAgrhGOAAAAAACAuEY4AgAAAAAA4hrhCAAAAAAAiGuEIwAAAAAAIK4RjgAAAAAAgLhGOAIAAAAAAOLaGLs3cKt6P/5QunRRkuSYNFW66x6bdwQAAAAAAGJJzIYjvf/+K/W+8bx6rwUjBsdXZyph7XZp/ESbdgYAAAAAAGKJ47PPfL2JiQnKykq1ey9h6f34Q/W+tVW9vzs56OMcDxcq4bH1hCQAAAAAACCklpY2dXf3xlA40uFTb8VL6qnaFVxyfHWmHI9vkOOeByRJvb+uUO/bLwWrSRzjJ8rx8FI5Hltny5YBAAAAAED0iqlwpPftbeqpek1q90mSHKlOOb5fIsfDhdYHd/jUW7VLPRUvBZcc4yfK8dj60I8HAAAAAABxKSbCkd6PP1TvP669XgmS6pSjYKUcBSukFOfgF1+6qJ63X1LvryuCSyPVj+Si55KOu88Gb+e4xuuee/6HMtKTh/XrDIcP3Wf10i/K1ei5pAdnTtX64qWa6BofvO/bj28KPnaia7z+49iugZ5qUGvXvaLyd2qDt195aa2WLp53a5sHAAAAAGAYGeFIdDZk/eRj9ezeaOor4vjTR5Xw/RfDDzbGT1TCD16RFq5Uz/+7TL2XLqr3dyfVvfrrw9KP5KLnkl574z2VV9bK52sP+ZgH86eq8LvzoiYUuOi5ZAo/yj21Ovu7T1Rb/bKNuwIAAAAAwF4Jdm/ApMOn3jeeV/e6ecFgxPHVmUrY/K4Snv2nmwsz7rpHCTt/o4QfvCLHtet7f12hnr/7jnqrbq4qoryyVg8vfEa7yt4bMBiRpOPus1q7/hV9bdYKXfRcuqmvNZxee+M9y9rZ+k+iYm8AAAAAANglasKR3qpd6l71tWDDVUeqUwnff1EJJf8SbLga1OFTz8//Sj3/uDZwbOaTj4d8fsfDhUr4ybtKKFwf+HqXLqrnjefVs/rrpqM3Q/nVoZNau/6VQUOR/i56LumvVm4J+/EjJSM99NEpZ0Z6hHcCAAAAAED0sP1Yzc32Fen9+LjU7rsebKQ65cj5qhz/I0+65wE5Jk21VpqMnyjHY+uUOLcw2I+k99JF9f7jWjk+Pj7kUZuLnkva9OLuAe+f6Bovr6/dEpxMm3KX3i3/2RD/JUbeiuWLVPFOrRr7VIqsKPpWVPZGAQAAAAAgUuwLRy5dVM8rT5v7ioTbMDXFqYTH1qvnjefl+NNH5bjnAfV+/KF04ax6fndSqtolpTqVuLch9PXX+pH0Prw0GMz0/rpC3b+uUELBCjm+/2LIy467z4Y8grKi6Fv62+In5LwWMpyt/0Q//Ydf6v33jwWDEWcUBBAZ6cl6960SHXef1dnffaIFfz5TD+RPtXtbAAAAAADYyrZwpG8w4vjqTDke32A9PjMIR8EKOdxV6v34eKBR611T1fvWVunSxcDo3h+8MvRz3POAHDt/E6ggefulwFGbql1KSM2Q47F1lsef/d0nlrUH86eq5PnlprWpU+7SW6//jV4rm6zHl/xZVAQjhomu8VHTIBYAAAAAgGhgWzhiarha8i839RwJa7ere/XX1b1untTuM9/5yVkpzLDF8XChHJOmBifk9H50NGQ44vNa+4x4B+k9srLoW2F9fa+/U+X7/7f+9d9O6kz9J8FjOVOn3KWpX71LSxfPs1R4fOg+axofLEmPzp+pqVPu0mtl7+lf/+1kcCB4CPsAAAylSURBVFzvK9vWSrKOHJakDGeqHp0/c9C97dp9QKfO/qfO//73ynCm6o+zXVr0zfv0YP7U4BjgcHzoPquafzupj+s/UaPnUmDk8ZS7Bq1gMb5+X0bA03cssaSbHjsMAAAAAIhvtoUjjq/ODAQRvzupntVfl+Ox9XI8XHhjTzJ+ohK+/6J6335JDqPR6q/LA8dk3nhejupdYT1vb9Uu9bz9UjBgceQXhHycM8Pa0PRs/Sfa9OJurfz+t24oKDC8VvaeXvpFecgGr2frP9HZ+k9U/k6tJrrG65/fKgl+jePXgoG+JrrGa1fZeyp/p/b6Yp/c46Lnktauf8VyzUDhiNfXrq899JRpbxev7ev9949Jktb/cKnWFy8d8vt86RflliNJRlizq+w9y/dn8Hn9lu/zwWtBSt/vxekM3WwWAAAAAICh2DatJuG5/xUMLXovXVTPP65Vzz+ula41Zg2Xo2CFEl79DzkeWyfHY+uU8JN3rc+76S9CP++li+rZ9BfqeeP5YDCSULg+0Aw2hAV/HjpE2FX2nh5e+Iwef+rvVV5ZG/IxobxUWq7nX9wd1uSbwSpUDBXv1JqDkVvkC9Fctr+XflGuteuGPsI01Ljgi55LenjhMzpbbz26FOqx/RvjZhCOAAAAAABukn2jfFOcSvjBK0rY/K4c1xqw9v66Qt2rv37jIUnfqTbXmq0m7vyNHF8NhBm9vzt5/Xk7+hy/afeZjvck7vxNyOM0hgfypwarFvrz+dr1/vvHtHb9K/p/8p7U2nWvDBoIlFfWWioiBrP3tY1DVqb0PzIj6aaqWW5U+Tu1g07xCZfP165vP75pyCCl0XPJEtoQjgAAAAAAbpbto3xDNUXt/XWFej7+UI6FKwas4hjS+IlKKPkX6/M2X7je4+Sue5Twg1cCI37D7E/yT7t+rO8sfW7QCgefr13l16o4Qh078fo7QwYjTmeqVn7/W3p0/szAc1QGnuPF55ff0FSZB/On6oGZU+V0pmralLvCvm4gxr6WLp4nr69dvzp00rL/XWXvhTX9Zul352np4nma6Bqvi55Lwe/R4PO1a+36V/TuWyVh7Wvp4nma+tVb/x4BAAAAAPHL9nDE4Hi4MDCSt3qXeqp23XDfkEGf9+FC9Wz6i2CPk963twUrRG70eTPSk1Vb/bJeKi1XxTu1wWagAzF6bRhNUSXpVwdPhKyOKHl+uWmSzAP5U1Xyd399Q9Nuwu0BciN+Xf1ysAJlogKNYh/Mn6pvP77J9LjyytpBw5H+e5voGq8HrjV17Ru2HHef1Yfus4M+V45rvN4N0aMEAAAAAIAbZd+xmlDGT5Tj+y8GqjmuCfYN+flf3XA/Eknq/fhD9az+evD4jCT1VL12y1tdX7xUvzm2S//8VomWfneecgb5I738nVpTL5JQI4GNior+biQYyXGNH/ZgZOl354UMIB7In6pvfGOWaa3m305aHhfO3tYXL7UcVzozRO+RV15aSzACAAAAABgW0RWOhBDsR/Lvv7qxfiRGs9UXvqPea483nkvtvpsKWkJ5ID8wKvc3x3Zpz2sbBwxJDvzrb4P//nGIP/zvGYbjL7lf+cotP0d/oQIbw6Jv3me67fO1y+vvDPnYwu8O/DyS9M1+zW5D/TcyOJ2pN3TMCAAAAACAwUR9OJKw8zdK+P6LpqatPX/3HfW+vS30BR0+9b69Td19qkUc4ycq4dl/kuMHQ09VuRWPzp+p3xzbpakhgo7zv//9iH5tSfpvmbfd0vUjWYkxnKN2ab4KAAAAABhOUR+OSNfG9fYf0VvxUuC4zK8rAg/q8Km3ape6V31NPRUvBa5LdSqhcL0S/r5Wjj99dNj2M9Q0lUcHGPlrmPgn1hDi8Ifnb2lPw8GZkW5ZG+x4y4f9puM4nanKuHYMqH8lzFDfX/9KEWcGAQgAAAAAIDJiIhyRZB7Rey3oMPqRdH/3j9X9P3PV88bzgSMzCjRaTXj1PwKNV/uO+r1FFz2X9O3HN+k7g4ycPXX2Py1rfY/bhDpC8/77x0JOwBnomMpIyEhPtvT+2PXGeyH3cNFzScdPmsORvpNx+k/JGej7M56r78QaSXpwJsdmAAAAAACRETvhiOHaEZmEH7xyvYdIH46vzlTC5ncDTV2HMRSRrgcjFz2XdNx9Vl+btUJr172iD91nddFzSR+6z2rtulf0/vvHLNf27bmxdMmfhTxmsmzlFpVX1ups/Se66Lmk18re07wFPzQ1cx1pD/QLJS56Luk7S58zBUEfus8G/zv01fd7fCB/qqX/ivH99WU8V185rvF6dP7g1TcAAAAAAAyXqBnla9In9Oj9+EM57nnA8hBjRK8++Vi9Hd7A2n+baLrW4t9/FfJrhKNvMNJX+Tu1lqqH/nJc400VGRnpyVr5/W+ZxtcaX2PtemtflE0v7tbUKXeF7GUy3FYsX2QZUXy2/hN9bdYKTZ1yl7y+9pAVMw/mT7U0b33x+eVatnJL8Lbx/W16cbemTblLZ+o/kc/XbnmudT8c3ok7AAAAAAAMJiorRxz3PCClBqo+et/aOvhkmbvukeOeBwLXDBZ4fPKxen4dCCOM3iU3vK+buioQEvRvdrq+eKmWDjHBxeDztWvZyi1D9joZDhnpyXr3rZKQU3eMipb+clzj9cpLay3rj86fqfUhgg6fr13H3WdDBiPrf7h00Ak5AAAAAAAMt6gMRyQFjsVI6v3dycB0GqPx6o3q8Kn3jefVvW6e1O4LNGl9bP0NP81E13i9+1ZJ2IGGFAgN/vmtkgGPiLyybW3I8CAUhyRviDBhJBjf60Bjift6MH+q3n2rZMBJN+uLl4b9Pb74/HKtL6ZqBAAAAAAQWY7PPvP1JiYmKCsr+qaD9L69LTh5RgqM5HU8tj7syo/et7epp+q1601ax09Uwt/uke6655b2ddFzSeWVtfrw5FkdDzGxZdqUu/TNP5+px5f8mZzXprcM9XyvvfGePnSfNTUtNZ6r8LvzLNUUv/r/27ufEKnLOI7jn2fcsE1wVQj/QJBHT9Ulo1N0Eww6RNghSoS6RJ2CDq3Qn0MgQQe7FEHhoZQCD4HgwfIi2Kkg6eiC4KaQ7mQ6bv3m93TYnXS33fBfrrvzel0GZuY38/yub37P9zl6MkeOnpzz3pMLbG2Z/z/7Ppq7lWft2Jq8P75n0Wu++vpYDn5zbM59Dtb15hu78uQTNzY4dfDfJ07+PGfLztq1a7Lruafz6u5nFgws3Uu9jL/z6U2tGQAAAG7Eb7/9kX6/3ttxJEly/kzaQ/vmPDlSHt+Rzu73Ft1GU0+dSN3/eursdpyyZm3KzldTdr5yx4e0JnOP9l3sCYqb8fvs6TA3ElbupsF93u49/n6pl2730h35LQAAALhVyyeOzJofPJLZ43qff/OfSFJPnUj98oPUX649UVG2bU/n9Y9vegArAAAAsLItuzgyUL87mHpo39xIsm1mpsf8KFJeeGvBk24AAAAAlm0cSTIzZPXbT+bMIxm42bkkAAAAwHBa3nFk4PyZ1B+OJFdmBq7mwYdStu/4X+aKAAAAACvLyogjAAAAALdoEEc6S70QAAAAgKUkjgAAAABDTRwBAAAAhpo4AgAAAAw1cQQAAAAYauIIAAAAMNTEEQAAAGCoiSMAAADAUBNHAAAAgKEmjgAAAABDTRwBAAAAhlqn1jrR77dLvQ4AAACAu66UOtUpJVNJ0jQCCQAAADAcmqZNv1+TlB87teZ4kvSaJV4VAAAAwF0y6CBtW3/q1NoeTpI/L/eWck0AAAAAd039a3rmtbaHS5KcP9+9WGtZt2HDmoyMmNEKAAAArFxN0+bChcuptZ3YtGnd1k6StG0+TJIrvemlXR0AAADA/+xa/yifJbNH+fZ6F/bX2k5c7TUGswIAAAArVtO0udprUms7MTnZ7k9m48jWrVun2rbsTZJutyeQAAAAACtO07Tpdq8kSdq27H3ssfVTyWwcSZItW8YO1FrH+/1WIAEAAABWlEEY6fdraq3jW7aMHRh8VuZ/+dy57udJeWnVqk7GxkYNaAUAAACWtevDSFK/2Lhx7OXrP/9XHEmSX3/tvl1KeS9J7h8dyQOjq0USAAAAYFlpmjZXetO52muSJLXW8U2bxt6f/70F40iSnD3bfbHTqe+W0nk4SVaPjqRz3+qMjkQoAQAAAO5JTdOm1yTtX9OZ/ieKtBO11t2bN6//fqFrFo0jSXL69Ol1o6MbXkvqnkEkSZJVq/7zMgAAAIAlMbN1ZkYpdapt8+HkZLt/MHx1ITdcOSYnLz5VSufZTqc8ktRHay3rbnO9AAAAAHdMre1EKWWq1hyvtT282JMi8/0NSjXcVBJkSvgAAAAASUVORK5CYII=)"
      ],
      "metadata": {
        "id": "bicFseM4Ph8k"
      },
      "id": "bicFseM4Ph8k"
    },
    {
      "cell_type": "markdown",
      "source": [
        "#11: np.random.standard_normal\n",
        "[np.random.standard_normal document](https://numpy.org/doc/stable/reference/random/generated/numpy.random.standard_normal.html)\n",
        "\n",
        "Draw samples from a standard Normal distribution (mean=0, stdev=1).\n",
        "\n"
      ],
      "metadata": {
        "id": "AWncBN7lRt7o"
      },
      "id": "AWncBN7lRt7o"
    },
    {
      "cell_type": "code",
      "execution_count": null,
      "metadata": {
        "colab": {
          "base_uri": "https://localhost:8080/"
        },
        "id": "7d8d4cba",
        "outputId": "0492ea28-2562-4b2a-d669-c64ce1208b24"
      },
      "outputs": [
        {
          "output_type": "execute_result",
          "data": {
            "text/plain": [
              "array([[ 0.38446905, -0.1195008 , -0.39557288],\n",
              "       [-0.35892559, -0.39780264, -0.75937263],\n",
              "       [ 0.90114859,  0.16412051,  0.56999621],\n",
              "       [-2.51326189, -0.14793202,  0.54052126]])"
            ]
          },
          "metadata": {},
          "execution_count": 31
        }
      ],
      "source": [
        "# Create a matrix 3 * 4 that is filled by a standard normal distribution.\n",
        "np.random.standard_normal(size=(4,3))"
      ],
      "id": "7d8d4cba"
    },
    {
      "cell_type": "markdown",
      "source": [
        "#12. np.random.normal\n",
        "\n",
        "[np.random.normal document](https://numpy.org/doc/stable/reference/random/generated/numpy.random.normal.html)\n",
        "\n",
        "Draw random samples from a normal (Gaussian) distribution.\n",
        "\n"
      ],
      "metadata": {
        "id": "58h505yXSJJL"
      },
      "id": "58h505yXSJJL"
    },
    {
      "cell_type": "code",
      "execution_count": null,
      "metadata": {
        "colab": {
          "base_uri": "https://localhost:8080/"
        },
        "id": "655b18cc",
        "outputId": "35cff7b4-79f6-47f3-f9b0-60fcca8e3fd9"
      },
      "outputs": [
        {
          "output_type": "execute_result",
          "data": {
            "text/plain": [
              "array([[7.34987726, 4.69398792, 1.75046372],\n",
              "       [1.44178468, 5.09500993, 4.70562031],\n",
              "       [2.23701967, 3.27630812, 0.4265184 ],\n",
              "       [6.02978647, 3.58146112, 2.29848367],\n",
              "       [4.52945403, 3.00094999, 4.89848705]])"
            ]
          },
          "metadata": {},
          "execution_count": 32
        }
      ],
      "source": [
        "# Create random matrix 5 * 3 that is filled with normal distribution\n",
        "np.random.normal(4,2,(5,3))"
      ],
      "id": "655b18cc"
    },
    {
      "cell_type": "markdown",
      "source": [
        "#13: np.random.uniform\n",
        "[np.random.uniform document](https://numpy.org/doc/stable/reference/random/generated/numpy.random.uniform.html)\n",
        "\n",
        "Draw samples from a uniform distribution.\n",
        "\n",
        "Samples are uniformly distributed over the half-open interval [low, high) (includes low, but excludes high). In other words, any value within the given interval is equally likely to be drawn by uniform."
      ],
      "metadata": {
        "id": "aLjOpBQJSekg"
      },
      "id": "aLjOpBQJSekg"
    },
    {
      "cell_type": "code",
      "execution_count": null,
      "metadata": {
        "colab": {
          "base_uri": "https://localhost:8080/"
        },
        "id": "8805fcfb",
        "outputId": "d35a4893-8849-4b51-d2c5-acc4f51ae365"
      },
      "outputs": [
        {
          "output_type": "execute_result",
          "data": {
            "text/plain": [
              "array([[6.26388432, 5.89814434, 3.29775794, 6.68765412, 7.25398476,\n",
              "        7.50213413],\n",
              "       [4.41415513, 4.08802056, 7.82374164, 4.97483061, 4.77908168,\n",
              "        6.97004387],\n",
              "       [6.99436302, 7.48504343, 4.87781887, 6.53829469, 7.66083288,\n",
              "        6.715272  ],\n",
              "       [6.95263393, 6.16927061, 6.82057718, 6.19128867, 6.19897813,\n",
              "        4.012843  ]])"
            ]
          },
          "metadata": {},
          "execution_count": 33
        }
      ],
      "source": [
        "np.random.uniform(3,8,(4,6))"
      ],
      "id": "8805fcfb"
    },
    {
      "cell_type": "markdown",
      "source": [
        "#14: np.random.rand\n",
        "\n",
        "[np.random.rand document](https://numpy.org/doc/stable/reference/random/generated/numpy.random.rand.html)\n",
        "\n",
        "Create an array of the given shape and populate it with random samples from a uniform distribution over [0, 1).\n"
      ],
      "metadata": {
        "id": "GdXcmH7ztHnm"
      },
      "id": "GdXcmH7ztHnm"
    },
    {
      "cell_type": "code",
      "execution_count": null,
      "metadata": {
        "colab": {
          "base_uri": "https://localhost:8080/"
        },
        "id": "76bc8eaa",
        "outputId": "e6c5cc65-c91a-493d-ee2f-c29bbff23c91"
      },
      "outputs": [
        {
          "output_type": "execute_result",
          "data": {
            "text/plain": [
              "0.028868811562403618"
            ]
          },
          "metadata": {},
          "execution_count": 34
        }
      ],
      "source": [
        "np.random.rand()"
      ],
      "id": "76bc8eaa"
    },
    {
      "cell_type": "code",
      "execution_count": null,
      "metadata": {
        "colab": {
          "base_uri": "https://localhost:8080/"
        },
        "id": "af3f5b1a",
        "outputId": "f6f7efb7-59f2-4396-da15-08f9a30b6ebb"
      },
      "outputs": [
        {
          "output_type": "execute_result",
          "data": {
            "text/plain": [
              "array([0.8571922 , 0.66384222, 0.3786986 ])"
            ]
          },
          "metadata": {},
          "execution_count": 35
        }
      ],
      "source": [
        "np.random.rand(3)"
      ],
      "id": "af3f5b1a"
    },
    {
      "cell_type": "markdown",
      "source": [],
      "metadata": {
        "id": "xhbytOkCt-hE"
      },
      "id": "xhbytOkCt-hE"
    },
    {
      "cell_type": "code",
      "execution_count": null,
      "metadata": {
        "colab": {
          "base_uri": "https://localhost:8080/"
        },
        "id": "e49cbbcb",
        "outputId": "ba84b3db-e32c-4a27-b5a9-8f2ebf07970b"
      },
      "outputs": [
        {
          "output_type": "execute_result",
          "data": {
            "text/plain": [
              "array([[0.48482988, 0.16224134, 0.99958991, 0.36339673, 0.56242839],\n",
              "       [0.14280044, 0.60663147, 0.09160874, 0.93200255, 0.97102628],\n",
              "       [0.63642484, 0.49111575, 0.7291369 , 0.61323839, 0.06439789],\n",
              "       [0.61237536, 0.48683499, 0.29049893, 0.89710473, 0.75814844]])"
            ]
          },
          "metadata": {},
          "execution_count": 36
        }
      ],
      "source": [
        "np.random.rand(4,5)"
      ],
      "id": "e49cbbcb"
    },
    {
      "cell_type": "markdown",
      "source": [
        "#15:numpy.random.randint\n",
        "[numpy.random.randint document](https://numpy.org/doc/stable/reference/random/generated/numpy.random.randint.html)\n",
        "\n",
        "Return random integers from low (inclusive) to high (exclusive).\n",
        "\n",
        "Return random integers from the “discrete uniform” distribution of the specified dtype in the “half-open” interval [low, high). If high is None (the default), then results are from [0, low)."
      ],
      "metadata": {
        "id": "pVDemZCXuEl7"
      },
      "id": "pVDemZCXuEl7"
    },
    {
      "cell_type": "code",
      "execution_count": null,
      "metadata": {
        "colab": {
          "base_uri": "https://localhost:8080/"
        },
        "id": "ef7b6de3",
        "outputId": "63f07e5f-cd55-4c4d-db9b-049b588429cb"
      },
      "outputs": [
        {
          "output_type": "execute_result",
          "data": {
            "text/plain": [
              "5"
            ]
          },
          "metadata": {},
          "execution_count": 37
        }
      ],
      "source": [
        "np.random.randint(10)"
      ],
      "id": "ef7b6de3"
    },
    {
      "cell_type": "code",
      "execution_count": null,
      "metadata": {
        "colab": {
          "base_uri": "https://localhost:8080/"
        },
        "id": "0f3d95c9",
        "outputId": "46d2b2c9-dfca-4a3e-e9c9-dbcd0c2d3bee"
      },
      "outputs": [
        {
          "output_type": "execute_result",
          "data": {
            "text/plain": [
              "array([[4, 4, 6, 2],\n",
              "       [3, 2, 2, 5],\n",
              "       [1, 5, 8, 5]])"
            ]
          },
          "metadata": {},
          "execution_count": 40
        }
      ],
      "source": [
        "np.random.randint(1,10,(3,4))"
      ],
      "id": "0f3d95c9"
    },
    {
      "cell_type": "markdown",
      "source": [
        "# 16: numpy.random.randn\n",
        "[numpy.random.randn document](https://numpy.org/doc/stable/reference/random/generated/numpy.random.randn.html)\n",
        "\n",
        "random.randn(d0, d1, ..., dn)\n",
        "Return a sample (or samples) from the “standard normal” distribution.\n"
      ],
      "metadata": {
        "id": "Sh_o9W2Nu5ZO"
      },
      "id": "Sh_o9W2Nu5ZO"
    },
    {
      "cell_type": "code",
      "execution_count": null,
      "metadata": {
        "colab": {
          "base_uri": "https://localhost:8080/"
        },
        "id": "8761329d",
        "outputId": "595e18a6-f806-4333-cf01-ee06360289f3"
      },
      "outputs": [
        {
          "output_type": "execute_result",
          "data": {
            "text/plain": [
              "array([[ 0.33592458, -0.58974666, -0.96866751, -0.56352723,  0.55582386],\n",
              "       [ 1.46607827, -0.30436702, -0.14482102, -2.02914682, -1.37259047],\n",
              "       [-0.23094475,  0.80393989,  0.62560032,  3.45313216, -0.10167666],\n",
              "       [ 2.38670841, -0.51019807,  0.84726001, -1.03908233, -0.41577056],\n",
              "       [-0.38115896, -1.37323646,  0.24208542,  0.10330874,  2.16892996]])"
            ]
          },
          "metadata": {},
          "execution_count": 38
        }
      ],
      "source": [
        "np.random.randn(5,5)"
      ],
      "id": "8761329d"
    },
    {
      "cell_type": "markdown",
      "source": [
        "#17: np.random.seed\n",
        "\n",
        "[np.random.seed document](https://numpy.org/doc/stable/reference/random/generated/numpy.random.seed.html)\n",
        "\n",
        "random.seed(seed=None)\n",
        "Reseed the singleton RandomState instance."
      ],
      "metadata": {
        "id": "nbDu_OLcxK13"
      },
      "id": "nbDu_OLcxK13"
    },
    {
      "cell_type": "code",
      "execution_count": null,
      "metadata": {
        "id": "7991b825"
      },
      "outputs": [],
      "source": [
        "np.random.seed()"
      ],
      "id": "7991b825"
    },
    {
      "cell_type": "code",
      "execution_count": null,
      "metadata": {
        "id": "e9305b63"
      },
      "outputs": [],
      "source": [
        "np.random.seed(20)"
      ],
      "id": "e9305b63"
    },
    {
      "cell_type": "code",
      "execution_count": null,
      "metadata": {
        "colab": {
          "base_uri": "https://localhost:8080/"
        },
        "id": "531af4c0",
        "outputId": "656c9b46-c648-426e-ef70-194630da4254"
      },
      "outputs": [
        {
          "output_type": "execute_result",
          "data": {
            "text/plain": [
              "99"
            ]
          },
          "metadata": {},
          "execution_count": 43
        }
      ],
      "source": [
        "np.random.randint(100)"
      ],
      "id": "531af4c0"
    },
    {
      "cell_type": "code",
      "execution_count": null,
      "metadata": {
        "colab": {
          "base_uri": "https://localhost:8080/"
        },
        "id": "23ccc789",
        "outputId": "34ab3648-ad20-4bb9-a313-97c219925bc2"
      },
      "outputs": [
        {
          "output_type": "execute_result",
          "data": {
            "text/plain": [
              "90"
            ]
          },
          "metadata": {},
          "execution_count": 44
        }
      ],
      "source": [
        "np.random.randint(100)"
      ],
      "id": "23ccc789"
    },
    {
      "cell_type": "code",
      "source": [
        "np.random.seed(20)"
      ],
      "metadata": {
        "id": "VSq_zbxBxtx4"
      },
      "id": "VSq_zbxBxtx4",
      "execution_count": null,
      "outputs": []
    },
    {
      "cell_type": "code",
      "source": [
        "np.random.randint(100)"
      ],
      "metadata": {
        "id": "wPdDLf3bxx2j"
      },
      "id": "wPdDLf3bxx2j",
      "execution_count": null,
      "outputs": []
    },
    {
      "cell_type": "code",
      "source": [
        "np.random.randint(100)"
      ],
      "metadata": {
        "id": "vn_jJZzlx2De"
      },
      "id": "vn_jJZzlx2De",
      "execution_count": null,
      "outputs": []
    },
    {
      "cell_type": "code",
      "execution_count": null,
      "metadata": {
        "id": "1abc1b1e"
      },
      "outputs": [],
      "source": [
        "np.random.seed(24)\n",
        "np.random.rand(3,5)"
      ],
      "id": "1abc1b1e"
    },
    {
      "cell_type": "code",
      "execution_count": null,
      "metadata": {
        "colab": {
          "base_uri": "https://localhost:8080/"
        },
        "id": "f28f02e4",
        "outputId": "1642cc4a-d915-4456-a19d-d5469c0201b5"
      },
      "outputs": [
        {
          "output_type": "execute_result",
          "data": {
            "text/plain": [
              "array([[0.9600173 , 0.69951205, 0.99986729, 0.2200673 , 0.36105635],\n",
              "       [0.73984099, 0.99645573, 0.31634698, 0.13654458, 0.38398001],\n",
              "       [0.32051928, 0.36641475, 0.70965156, 0.90014243, 0.53411544]])"
            ]
          },
          "metadata": {},
          "execution_count": 47
        }
      ],
      "source": [
        "np.random.seed(24)\n",
        "np.random.rand(3,5)"
      ],
      "id": "f28f02e4"
    },
    {
      "cell_type": "markdown",
      "metadata": {
        "id": "630c6d2a"
      },
      "source": [
        "#18: np.hstack\n",
        "\n",
        "[np.hstack document](https://numpy.org/doc/stable/reference/generated/numpy.hstack.html)\n",
        "\n",
        "Horizontal Stacking of Numpy Arrays\n"
      ],
      "id": "630c6d2a"
    },
    {
      "cell_type": "code",
      "execution_count": null,
      "metadata": {
        "colab": {
          "base_uri": "https://localhost:8080/"
        },
        "id": "515c9744",
        "outputId": "4a87e8b7-229d-4ced-b78a-f5784842e266"
      },
      "outputs": [
        {
          "output_type": "execute_result",
          "data": {
            "text/plain": [
              "array([[ 1,  2,  3,  7,  8,  9],\n",
              "       [ 4,  5,  6, 10, 11, 12]])"
            ]
          },
          "metadata": {},
          "execution_count": 48
        }
      ],
      "source": [
        "a1 = np.array([[1,2,3],\n",
        "               [4,5,6]])\n",
        "\n",
        "a2 = np.array([[7,8,9],\n",
        "               [10,11,12]])\n",
        "np.hstack((a1, a2))\n"
      ],
      "id": "515c9744"
    },
    {
      "cell_type": "markdown",
      "metadata": {
        "id": "994f613f"
      },
      "source": [
        "#19:np.vstack\n",
        "\n",
        "[np.vstack document](https://numpy.org/doc/stable/reference/generated/numpy.vstack.html)\n",
        "\n",
        "- Vertically Stacking of Numpy Arrays"
      ],
      "id": "994f613f"
    },
    {
      "cell_type": "code",
      "execution_count": null,
      "metadata": {
        "colab": {
          "base_uri": "https://localhost:8080/"
        },
        "id": "0ff4bbb1",
        "outputId": "5ddfdea3-14bc-4ef6-d901-0e93bf0be49e"
      },
      "outputs": [
        {
          "output_type": "execute_result",
          "data": {
            "text/plain": [
              "array([[ 1,  2],\n",
              "       [ 3,  4],\n",
              "       [ 5,  6],\n",
              "       [ 7,  8],\n",
              "       [ 9, 10]])"
            ]
          },
          "metadata": {},
          "execution_count": 49
        }
      ],
      "source": [
        "a1 = np.array([[1,2],[3,4],[5,6]])\n",
        "\n",
        "a2 = np.array([[7,8],[9,10]])\n",
        "\n",
        "np.vstack((a1, a2))\n"
      ],
      "id": "0ff4bbb1"
    },
    {
      "cell_type": "markdown",
      "metadata": {
        "id": "ce1efc5c"
      },
      "source": [
        "#20: np.where\n",
        "[numpy.where document](https://numpy.org/doc/stable/reference/generated/numpy.where.html)\n",
        "\n",
        "numpy.where(condition, [x, y, ]/)\n",
        "Return elements chosen from x or y depending on condition."
      ],
      "id": "ce1efc5c"
    },
    {
      "cell_type": "code",
      "execution_count": null,
      "metadata": {
        "colab": {
          "base_uri": "https://localhost:8080/"
        },
        "id": "c681f202",
        "outputId": "353765d9-8b41-45fc-cc19-0c8b5d50a319"
      },
      "outputs": [
        {
          "output_type": "stream",
          "name": "stdout",
          "text": [
            "(array([2]),)\n"
          ]
        }
      ],
      "source": [
        "a= np.array([1,2,3,4,5])\n",
        "\n",
        "b = np.array([1,3,2,4,5])\n",
        "\n",
        "print(np.where(a > b))"
      ],
      "id": "c681f202"
    },
    {
      "cell_type": "markdown",
      "metadata": {
        "id": "605671eb"
      },
      "source": [
        "# 21: np.tile\n",
        "[np.tile document](https://numpy.org/doc/stable/reference/generated/numpy.tile.html)\n",
        "\n",
        "numpy.tile(A, reps)\n",
        "Construct an array by repeating A the number of times given by reps."
      ],
      "id": "605671eb"
    },
    {
      "cell_type": "code",
      "execution_count": null,
      "metadata": {
        "colab": {
          "base_uri": "https://localhost:8080/"
        },
        "id": "dfe14f70",
        "outputId": "15438862-9ddc-4981-dd9b-fb787044d8e2"
      },
      "outputs": [
        {
          "output_type": "stream",
          "name": "stdout",
          "text": [
            "[[10  2 30 10  2 30 10  2 30 10  2 30 10  2 30]\n",
            " [ 4 50  6  4 50  6  4 50  6  4 50  6  4 50  6]\n",
            " [ 1  1  1  1  1  1  1  1  1  1  1  1  1  1  1]]\n"
          ]
        }
      ],
      "source": [
        "a = np.array([[10,2,30],\n",
        "              [4,50,6],[1,1,1]])\n",
        "o = np.tile(a, 5)\n",
        "print(o)"
      ],
      "id": "dfe14f70"
    },
    {
      "cell_type": "markdown",
      "metadata": {
        "id": "f30058ab"
      },
      "source": [
        "# Math operations in numpy"
      ],
      "id": "f30058ab"
    },
    {
      "cell_type": "code",
      "execution_count": null,
      "metadata": {
        "id": "1e14275f"
      },
      "outputs": [],
      "source": [
        "np1 = np.array([[1,2],[3,4]])"
      ],
      "id": "1e14275f"
    },
    {
      "cell_type": "code",
      "execution_count": null,
      "metadata": {
        "id": "93634378"
      },
      "outputs": [],
      "source": [
        "np2 = np.array([[5,6],[7,8]])"
      ],
      "id": "93634378"
    },
    {
      "cell_type": "code",
      "execution_count": null,
      "metadata": {
        "colab": {
          "base_uri": "https://localhost:8080/"
        },
        "id": "ab359320",
        "outputId": "c018388d-5f53-4466-fa23-cfaef4ecbfa8"
      },
      "outputs": [
        {
          "output_type": "execute_result",
          "data": {
            "text/plain": [
              "array([[1, 2],\n",
              "       [3, 4]])"
            ]
          },
          "metadata": {},
          "execution_count": 54
        }
      ],
      "source": [
        "np1"
      ],
      "id": "ab359320"
    },
    {
      "cell_type": "code",
      "execution_count": null,
      "metadata": {
        "colab": {
          "base_uri": "https://localhost:8080/"
        },
        "id": "f4775047",
        "outputId": "b8f61b85-5129-4ee5-e00e-ae0aa8263d49"
      },
      "outputs": [
        {
          "output_type": "execute_result",
          "data": {
            "text/plain": [
              "array([[5, 6],\n",
              "       [7, 8]])"
            ]
          },
          "metadata": {},
          "execution_count": 55
        }
      ],
      "source": [
        "np2"
      ],
      "id": "f4775047"
    },
    {
      "cell_type": "code",
      "execution_count": null,
      "metadata": {
        "colab": {
          "base_uri": "https://localhost:8080/"
        },
        "id": "19eddf2b",
        "outputId": "313991c8-f66b-4a0b-c701-07832acaa152"
      },
      "outputs": [
        {
          "output_type": "execute_result",
          "data": {
            "text/plain": [
              "[[1, 2], [3, 4]]"
            ]
          },
          "metadata": {},
          "execution_count": 56
        }
      ],
      "source": [
        "lst = list([[1,2],[3,4]])\n",
        "lst"
      ],
      "id": "19eddf2b"
    },
    {
      "cell_type": "code",
      "execution_count": null,
      "metadata": {
        "colab": {
          "base_uri": "https://localhost:8080/",
          "height": 170
        },
        "id": "be01cfaf",
        "outputId": "3c3ebfca-84d9-4ee2-9172-5a7321aaf876"
      },
      "outputs": [
        {
          "output_type": "error",
          "ename": "TypeError",
          "evalue": "ignored",
          "traceback": [
            "\u001b[0;31m---------------------------------------------------------------------------\u001b[0m",
            "\u001b[0;31mTypeError\u001b[0m                                 Traceback (most recent call last)",
            "\u001b[0;32m<ipython-input-57-4be592ddf9d9>\u001b[0m in \u001b[0;36m<cell line: 1>\u001b[0;34m()\u001b[0m\n\u001b[0;32m----> 1\u001b[0;31m \u001b[0mlst\u001b[0m \u001b[0;34m+\u001b[0m \u001b[0;36m5\u001b[0m\u001b[0;34m\u001b[0m\u001b[0;34m\u001b[0m\u001b[0m\n\u001b[0m",
            "\u001b[0;31mTypeError\u001b[0m: can only concatenate list (not \"int\") to list"
          ]
        }
      ],
      "source": [
        "lst + 5"
      ],
      "id": "be01cfaf"
    },
    {
      "cell_type": "code",
      "execution_count": null,
      "metadata": {
        "id": "5e36e074"
      },
      "outputs": [],
      "source": [
        "np1 + 5"
      ],
      "id": "5e36e074"
    },
    {
      "cell_type": "code",
      "execution_count": null,
      "metadata": {
        "colab": {
          "base_uri": "https://localhost:8080/"
        },
        "id": "655102b1",
        "outputId": "e287b059-aeba-4d44-8c53-8ffa21f15c93"
      },
      "outputs": [
        {
          "output_type": "execute_result",
          "data": {
            "text/plain": [
              "array([[0.20833333, 0.41666667],\n",
              "       [0.625     , 0.83333333]])"
            ]
          },
          "metadata": {},
          "execution_count": 58
        }
      ],
      "source": [
        "np1 / 4.8"
      ],
      "id": "655102b1"
    },
    {
      "cell_type": "code",
      "execution_count": null,
      "metadata": {
        "colab": {
          "base_uri": "https://localhost:8080/"
        },
        "id": "36154ab3",
        "outputId": "46090b77-e9af-4836-8356-f3a726fe4f41"
      },
      "outputs": [
        {
          "output_type": "execute_result",
          "data": {
            "text/plain": [
              "array([[ 5, 10],\n",
              "       [15, 20]])"
            ]
          },
          "metadata": {},
          "execution_count": 59
        }
      ],
      "source": [
        "np1 * 5"
      ],
      "id": "36154ab3"
    },
    {
      "cell_type": "code",
      "execution_count": null,
      "metadata": {
        "colab": {
          "base_uri": "https://localhost:8080/"
        },
        "id": "8b383cb7",
        "outputId": "aed0788a-715e-48fa-ed46-49c2bdf5b597"
      },
      "outputs": [
        {
          "output_type": "execute_result",
          "data": {
            "text/plain": [
              "array([[ 6,  8],\n",
              "       [10, 12]])"
            ]
          },
          "metadata": {},
          "execution_count": 60
        }
      ],
      "source": [
        "np1 + np2"
      ],
      "id": "8b383cb7"
    },
    {
      "cell_type": "code",
      "execution_count": null,
      "metadata": {
        "colab": {
          "base_uri": "https://localhost:8080/"
        },
        "id": "bdc50f01",
        "outputId": "3095dc79-ab90-4603-d774-317908913c62"
      },
      "outputs": [
        {
          "output_type": "execute_result",
          "data": {
            "text/plain": [
              "array([[4, 4],\n",
              "       [4, 4]])"
            ]
          },
          "metadata": {},
          "execution_count": 61
        }
      ],
      "source": [
        "np2 -  np1"
      ],
      "id": "bdc50f01"
    },
    {
      "cell_type": "code",
      "execution_count": null,
      "metadata": {
        "colab": {
          "base_uri": "https://localhost:8080/"
        },
        "id": "7d013e07",
        "outputId": "ee4d53d1-0374-4705-d595-afdc60685932"
      },
      "outputs": [
        {
          "output_type": "execute_result",
          "data": {
            "text/plain": [
              "array([[-4, -4],\n",
              "       [-4, -4]])"
            ]
          },
          "metadata": {},
          "execution_count": 62
        }
      ],
      "source": [
        "np1 - np2"
      ],
      "id": "7d013e07"
    },
    {
      "cell_type": "code",
      "execution_count": null,
      "metadata": {
        "colab": {
          "base_uri": "https://localhost:8080/"
        },
        "id": "b00c905b",
        "outputId": "a6f22042-3726-49fd-8767-c8d7709be4e3"
      },
      "outputs": [
        {
          "output_type": "execute_result",
          "data": {
            "text/plain": [
              "array([[4, 4],\n",
              "       [4, 4]])"
            ]
          },
          "metadata": {},
          "execution_count": 63
        }
      ],
      "source": [
        "np2 - np1"
      ],
      "id": "b00c905b"
    },
    {
      "cell_type": "markdown",
      "source": [
        "#22: np.subtract\n",
        "[numpy.subtract](https://numpy.org/doc/stable/reference/generated/numpy.subtract.html)\n",
        "\n",
        "Subtract arguments, element-wise."
      ],
      "metadata": {
        "id": "ycA1fRgH0md2"
      },
      "id": "ycA1fRgH0md2"
    },
    {
      "cell_type": "code",
      "execution_count": null,
      "metadata": {
        "colab": {
          "base_uri": "https://localhost:8080/"
        },
        "id": "a48a0db9",
        "outputId": "4e5eb420-4bfc-46b7-dabb-25e164de8bca"
      },
      "outputs": [
        {
          "output_type": "execute_result",
          "data": {
            "text/plain": [
              "array([[-4, -4],\n",
              "       [-4, -4]])"
            ]
          },
          "metadata": {},
          "execution_count": 64
        }
      ],
      "source": [
        "np.subtract(np1, np2)"
      ],
      "id": "a48a0db9"
    },
    {
      "cell_type": "code",
      "execution_count": null,
      "metadata": {
        "colab": {
          "base_uri": "https://localhost:8080/"
        },
        "id": "10cf1c2f",
        "outputId": "271bfc57-726e-46af-ea46-771c7f47e8d2"
      },
      "outputs": [
        {
          "output_type": "execute_result",
          "data": {
            "text/plain": [
              "array([[4, 4],\n",
              "       [4, 4]])"
            ]
          },
          "metadata": {},
          "execution_count": 65
        }
      ],
      "source": [
        "np.subtract(np2, np1)"
      ],
      "id": "10cf1c2f"
    },
    {
      "cell_type": "code",
      "execution_count": null,
      "metadata": {
        "colab": {
          "base_uri": "https://localhost:8080/"
        },
        "id": "ae979987",
        "outputId": "3e32b26c-c5e8-439d-c692-e7ee39ca831a"
      },
      "outputs": [
        {
          "output_type": "execute_result",
          "data": {
            "text/plain": [
              "array([[ 3,  6],\n",
              "       [ 9, 12]])"
            ]
          },
          "metadata": {},
          "execution_count": 66
        }
      ],
      "source": [
        "np1 * 3"
      ],
      "id": "ae979987"
    },
    {
      "cell_type": "code",
      "execution_count": null,
      "metadata": {
        "colab": {
          "base_uri": "https://localhost:8080/"
        },
        "id": "bt5BB1TTQgqk",
        "outputId": "138b407a-5771-4974-ce75-75f007e68039"
      },
      "outputs": [
        {
          "output_type": "execute_result",
          "data": {
            "text/plain": [
              "array([[1, 2],\n",
              "       [3, 4]])"
            ]
          },
          "metadata": {},
          "execution_count": 67
        }
      ],
      "source": [
        "np1"
      ],
      "id": "bt5BB1TTQgqk"
    },
    {
      "cell_type": "code",
      "execution_count": null,
      "metadata": {
        "colab": {
          "base_uri": "https://localhost:8080/"
        },
        "id": "ZTnIltPlQizG",
        "outputId": "3ccfaf15-e669-4fb7-bce9-9b2241cc8e34"
      },
      "outputs": [
        {
          "output_type": "execute_result",
          "data": {
            "text/plain": [
              "array([[5, 6],\n",
              "       [7, 8]])"
            ]
          },
          "metadata": {},
          "execution_count": 68
        }
      ],
      "source": [
        "np2"
      ],
      "id": "ZTnIltPlQizG"
    },
    {
      "cell_type": "code",
      "execution_count": null,
      "metadata": {
        "colab": {
          "base_uri": "https://localhost:8080/"
        },
        "id": "df30a01c",
        "outputId": "e4130973-b94f-4cc6-ade0-986d7a9984a6"
      },
      "outputs": [
        {
          "output_type": "execute_result",
          "data": {
            "text/plain": [
              "array([[ 5, 12],\n",
              "       [21, 32]])"
            ]
          },
          "metadata": {},
          "execution_count": 69
        }
      ],
      "source": [
        "np1 * np2"
      ],
      "id": "df30a01c"
    },
    {
      "cell_type": "code",
      "execution_count": null,
      "metadata": {
        "colab": {
          "base_uri": "https://localhost:8080/"
        },
        "id": "897f2c49",
        "outputId": "6cf7dbd3-a91f-4ff1-dd7c-95c841944841"
      },
      "outputs": [
        {
          "output_type": "execute_result",
          "data": {
            "text/plain": [
              "array([[1, 2],\n",
              "       [3, 4]])"
            ]
          },
          "metadata": {},
          "execution_count": 70
        }
      ],
      "source": [
        "np1"
      ],
      "id": "897f2c49"
    },
    {
      "cell_type": "code",
      "execution_count": null,
      "metadata": {
        "colab": {
          "base_uri": "https://localhost:8080/"
        },
        "id": "6b1f963b",
        "outputId": "7fa9e5ca-b6ac-4f5c-924c-5d73374cc98c"
      },
      "outputs": [
        {
          "output_type": "execute_result",
          "data": {
            "text/plain": [
              "array([[5, 6],\n",
              "       [7, 8]])"
            ]
          },
          "metadata": {},
          "execution_count": 71
        }
      ],
      "source": [
        "np2"
      ],
      "id": "6b1f963b"
    },
    {
      "cell_type": "code",
      "execution_count": null,
      "metadata": {
        "colab": {
          "base_uri": "https://localhost:8080/"
        },
        "id": "cc87f916",
        "outputId": "6e5d9df8-1f51-4386-9bd5-fcf0455de7bf"
      },
      "outputs": [
        {
          "output_type": "execute_result",
          "data": {
            "text/plain": [
              "array([[0.25, 0.5 ],\n",
              "       [0.75, 1.  ]])"
            ]
          },
          "metadata": {},
          "execution_count": 72
        }
      ],
      "source": [
        "np1 / 4"
      ],
      "id": "cc87f916"
    },
    {
      "cell_type": "code",
      "execution_count": null,
      "metadata": {
        "colab": {
          "base_uri": "https://localhost:8080/"
        },
        "id": "beed1d68",
        "outputId": "47791c7e-5623-45e1-ce4f-d868264d423e"
      },
      "outputs": [
        {
          "output_type": "execute_result",
          "data": {
            "text/plain": [
              "array([[0.2       , 0.33333333],\n",
              "       [0.42857143, 0.5       ]])"
            ]
          },
          "metadata": {},
          "execution_count": 73
        }
      ],
      "source": [
        "np1 / np2"
      ],
      "id": "beed1d68"
    },
    {
      "cell_type": "code",
      "execution_count": null,
      "metadata": {
        "colab": {
          "base_uri": "https://localhost:8080/"
        },
        "id": "0ad779dd",
        "outputId": "53a2201f-125f-47b2-ac44-cb422da9bb26"
      },
      "outputs": [
        {
          "output_type": "execute_result",
          "data": {
            "text/plain": [
              "array([[1, 2],\n",
              "       [3, 4]])"
            ]
          },
          "metadata": {},
          "execution_count": 74
        }
      ],
      "source": [
        "np1"
      ],
      "id": "0ad779dd"
    },
    {
      "cell_type": "code",
      "execution_count": null,
      "metadata": {
        "colab": {
          "base_uri": "https://localhost:8080/"
        },
        "id": "5d342fb4",
        "outputId": "b183ccf5-1925-4c68-9c79-7659ad3745a9"
      },
      "outputs": [
        {
          "output_type": "execute_result",
          "data": {
            "text/plain": [
              "array([[5, 6],\n",
              "       [7, 8]])"
            ]
          },
          "metadata": {},
          "execution_count": 75
        }
      ],
      "source": [
        "np2"
      ],
      "id": "5d342fb4"
    },
    {
      "cell_type": "code",
      "execution_count": null,
      "metadata": {
        "id": "75e569f9"
      },
      "outputs": [],
      "source": [
        "np3 = np.array([[2,0],[5,7]])"
      ],
      "id": "75e569f9"
    },
    {
      "cell_type": "code",
      "execution_count": null,
      "metadata": {
        "colab": {
          "base_uri": "https://localhost:8080/"
        },
        "id": "d2cff863",
        "outputId": "c5e85fcc-46dc-4d89-8d01-29e27fa65c4e"
      },
      "outputs": [
        {
          "output_type": "execute_result",
          "data": {
            "text/plain": [
              "array([[2, 0],\n",
              "       [5, 7]])"
            ]
          },
          "metadata": {},
          "execution_count": 77
        }
      ],
      "source": [
        "np3"
      ],
      "id": "d2cff863"
    },
    {
      "cell_type": "code",
      "execution_count": null,
      "metadata": {
        "colab": {
          "base_uri": "https://localhost:8080/"
        },
        "id": "291004da",
        "outputId": "f7794c2d-8bf5-40e3-b13e-fc5da0a7dfcd"
      },
      "outputs": [
        {
          "output_type": "stream",
          "name": "stderr",
          "text": [
            "<ipython-input-78-3fc235fbd4f0>:1: RuntimeWarning: divide by zero encountered in true_divide\n",
            "  np1 / np3\n"
          ]
        },
        {
          "output_type": "execute_result",
          "data": {
            "text/plain": [
              "array([[0.5       ,        inf],\n",
              "       [0.6       , 0.57142857]])"
            ]
          },
          "metadata": {},
          "execution_count": 78
        }
      ],
      "source": [
        "np1 / np3"
      ],
      "id": "291004da"
    },
    {
      "cell_type": "code",
      "execution_count": null,
      "metadata": {
        "colab": {
          "base_uri": "https://localhost:8080/"
        },
        "id": "2b86a0dd",
        "outputId": "b19437d4-c5b3-4f3c-b8c5-7015a2c5fb8f"
      },
      "outputs": [
        {
          "output_type": "stream",
          "name": "stderr",
          "text": [
            "<ipython-input-79-5a8b48bcd4ca>:1: RuntimeWarning: divide by zero encountered in true_divide\n",
            "  np1 / 0\n"
          ]
        },
        {
          "output_type": "execute_result",
          "data": {
            "text/plain": [
              "array([[inf, inf],\n",
              "       [inf, inf]])"
            ]
          },
          "metadata": {},
          "execution_count": 79
        }
      ],
      "source": [
        "np1 / 0"
      ],
      "id": "2b86a0dd"
    },
    {
      "cell_type": "code",
      "execution_count": null,
      "metadata": {
        "colab": {
          "base_uri": "https://localhost:8080/",
          "height": 170
        },
        "id": "9d5a6d1b",
        "outputId": "38cdd268-7017-46fd-f876-6fb645a8ff16"
      },
      "outputs": [
        {
          "output_type": "error",
          "ename": "ZeroDivisionError",
          "evalue": "ignored",
          "traceback": [
            "\u001b[0;31m---------------------------------------------------------------------------\u001b[0m",
            "\u001b[0;31mZeroDivisionError\u001b[0m                         Traceback (most recent call last)",
            "\u001b[0;32m<ipython-input-80-bc757c3fda29>\u001b[0m in \u001b[0;36m<cell line: 1>\u001b[0;34m()\u001b[0m\n\u001b[0;32m----> 1\u001b[0;31m \u001b[0;36m1\u001b[0m \u001b[0;34m/\u001b[0m \u001b[0;36m0\u001b[0m\u001b[0;34m\u001b[0m\u001b[0;34m\u001b[0m\u001b[0m\n\u001b[0m",
            "\u001b[0;31mZeroDivisionError\u001b[0m: division by zero"
          ]
        }
      ],
      "source": [
        "1 / 0"
      ],
      "id": "9d5a6d1b"
    },
    {
      "cell_type": "markdown",
      "metadata": {
        "id": "875c5ba1"
      },
      "source": [
        "## matrix multiplication"
      ],
      "id": "875c5ba1"
    },
    {
      "cell_type": "code",
      "execution_count": null,
      "metadata": {
        "id": "95db08a9"
      },
      "outputs": [],
      "source": [
        "A = np.array([[1,2,3],[4,5,6]])\n",
        "B = np.array([[2,4,6,8],[8,10,12,14],[10,12,14,16]])"
      ],
      "id": "95db08a9"
    },
    {
      "cell_type": "markdown",
      "source": [
        "#22: np.shape\n",
        "\n",
        "[numpy.shape](https://numpy.org/doc/stable/reference/generated/numpy.shape.html)\n",
        "\n",
        "numpy.shape(a)\n",
        "\n",
        "Return the shape of an array."
      ],
      "metadata": {
        "id": "VGhRry5n1GcI"
      },
      "id": "VGhRry5n1GcI"
    },
    {
      "cell_type": "code",
      "execution_count": null,
      "metadata": {
        "colab": {
          "base_uri": "https://localhost:8080/"
        },
        "id": "80c0409d",
        "outputId": "126fe18e-cf68-43fb-c45e-d07b091d3122"
      },
      "outputs": [
        {
          "output_type": "execute_result",
          "data": {
            "text/plain": [
              "(2, 3)"
            ]
          },
          "metadata": {},
          "execution_count": 82
        }
      ],
      "source": [
        "A.shape"
      ],
      "id": "80c0409d"
    },
    {
      "cell_type": "code",
      "execution_count": null,
      "metadata": {
        "colab": {
          "base_uri": "https://localhost:8080/"
        },
        "id": "8106b9b8",
        "outputId": "02b2b5ee-326d-444f-f32e-84777fb6ea66"
      },
      "outputs": [
        {
          "output_type": "execute_result",
          "data": {
            "text/plain": [
              "(3, 4)"
            ]
          },
          "metadata": {},
          "execution_count": 83
        }
      ],
      "source": [
        "B.shape"
      ],
      "id": "8106b9b8"
    },
    {
      "cell_type": "markdown",
      "source": [
        "#23: @"
      ],
      "metadata": {
        "id": "8trpYlCd1bzx"
      },
      "id": "8trpYlCd1bzx"
    },
    {
      "cell_type": "code",
      "execution_count": null,
      "metadata": {
        "colab": {
          "base_uri": "https://localhost:8080/"
        },
        "id": "d4e86cb6",
        "outputId": "eabd1ae8-c8fc-4060-efcd-82a2b1a5c807"
      },
      "outputs": [
        {
          "output_type": "execute_result",
          "data": {
            "text/plain": [
              "array([[ 51,  63,  75,  87],\n",
              "       [111, 141, 171, 201]])"
            ]
          },
          "metadata": {},
          "execution_count": 84
        }
      ],
      "source": [
        "A @ B + 3"
      ],
      "id": "d4e86cb6"
    },
    {
      "cell_type": "markdown",
      "source": [
        "#24: np.dot\n",
        "\n",
        "[np.dot document](https://numpy.org/doc/stable/reference/generated/numpy.dot.html)\n",
        "\n",
        "numpy.dot\n",
        "numpy.dot(a, b, out=None)\n",
        "Dot product of two arrays."
      ],
      "metadata": {
        "id": "swNot4D31jsT"
      },
      "id": "swNot4D31jsT"
    },
    {
      "cell_type": "code",
      "execution_count": null,
      "metadata": {
        "colab": {
          "base_uri": "https://localhost:8080/"
        },
        "id": "17be772f",
        "outputId": "7fa66eeb-95f3-4668-c801-85877f283bca"
      },
      "outputs": [
        {
          "output_type": "execute_result",
          "data": {
            "text/plain": [
              "array([[ 51,  63,  75,  87],\n",
              "       [111, 141, 171, 201]])"
            ]
          },
          "metadata": {},
          "execution_count": 85
        }
      ],
      "source": [
        "np.dot(A,B) + 3"
      ],
      "id": "17be772f"
    },
    {
      "cell_type": "code",
      "execution_count": null,
      "metadata": {
        "colab": {
          "base_uri": "https://localhost:8080/"
        },
        "id": "c4b9c835",
        "outputId": "caadd97d-3a0a-402b-cfc6-0e36026cbb1e"
      },
      "outputs": [
        {
          "output_type": "execute_result",
          "data": {
            "text/plain": [
              "array([[ 51,  63,  75,  87],\n",
              "       [111, 141, 171, 201]])"
            ]
          },
          "metadata": {},
          "execution_count": 86
        }
      ],
      "source": [
        "A.dot(B) + 3"
      ],
      "id": "c4b9c835"
    },
    {
      "cell_type": "code",
      "execution_count": null,
      "metadata": {
        "colab": {
          "base_uri": "https://localhost:8080/"
        },
        "id": "a5776d33",
        "outputId": "696b488d-3203-48e9-d64b-cc7d34d391c8"
      },
      "outputs": [
        {
          "output_type": "execute_result",
          "data": {
            "text/plain": [
              "array([[1, 2, 3],\n",
              "       [4, 5, 6]])"
            ]
          },
          "metadata": {},
          "execution_count": 87
        }
      ],
      "source": [
        "A"
      ],
      "id": "a5776d33"
    },
    {
      "cell_type": "markdown",
      "source": [
        "#25: np.sum\n",
        "\n",
        "[np.sum document](https://numpy.org/doc/stable/reference/generated/numpy.sum.html)\n",
        "\n",
        "Sum of array elements over a given axis.\n",
        "\n"
      ],
      "metadata": {
        "id": "MDtiVxub2Fok"
      },
      "id": "MDtiVxub2Fok"
    },
    {
      "cell_type": "code",
      "execution_count": null,
      "metadata": {
        "colab": {
          "base_uri": "https://localhost:8080/"
        },
        "id": "0361a0ae",
        "outputId": "061893da-2bc2-4be8-81c8-51c6fb332554"
      },
      "outputs": [
        {
          "output_type": "execute_result",
          "data": {
            "text/plain": [
              "array([ 6, 15])"
            ]
          },
          "metadata": {},
          "execution_count": 88
        }
      ],
      "source": [
        "np.sum(A,axis = 1 )"
      ],
      "id": "0361a0ae"
    },
    {
      "cell_type": "code",
      "execution_count": null,
      "metadata": {
        "colab": {
          "base_uri": "https://localhost:8080/"
        },
        "id": "19952f15",
        "outputId": "a13b9021-6ebc-4136-813f-6c7c3fb56222"
      },
      "outputs": [
        {
          "output_type": "execute_result",
          "data": {
            "text/plain": [
              "21"
            ]
          },
          "metadata": {},
          "execution_count": 89
        }
      ],
      "source": [
        "A.sum()"
      ],
      "id": "19952f15"
    },
    {
      "cell_type": "code",
      "execution_count": null,
      "metadata": {
        "colab": {
          "base_uri": "https://localhost:8080/"
        },
        "id": "280640ac",
        "outputId": "dc899fb5-9ac5-4a8e-f776-d8cb21ed52e4"
      },
      "outputs": [
        {
          "output_type": "execute_result",
          "data": {
            "text/plain": [
              "array([5, 7, 9])"
            ]
          },
          "metadata": {},
          "execution_count": 90
        }
      ],
      "source": [
        "A.sum(axis= 0 )"
      ],
      "id": "280640ac"
    },
    {
      "cell_type": "code",
      "execution_count": null,
      "metadata": {
        "colab": {
          "base_uri": "https://localhost:8080/"
        },
        "id": "824063f0",
        "outputId": "be93f05e-8949-4ac8-d90e-36f86c268f75"
      },
      "outputs": [
        {
          "output_type": "execute_result",
          "data": {
            "text/plain": [
              "array([ 6, 15])"
            ]
          },
          "metadata": {},
          "execution_count": 91
        }
      ],
      "source": [
        "A.sum(axis= 1 )"
      ],
      "id": "824063f0"
    },
    {
      "cell_type": "code",
      "execution_count": null,
      "metadata": {
        "colab": {
          "base_uri": "https://localhost:8080/"
        },
        "id": "6dee93fc",
        "outputId": "9a7995ca-fd93-488f-ed6f-64e7824d232d"
      },
      "outputs": [
        {
          "output_type": "execute_result",
          "data": {
            "text/plain": [
              "array([[0.33333333, 0.66666667, 1.        ],\n",
              "       [1.33333333, 1.66666667, 2.        ]])"
            ]
          },
          "metadata": {},
          "execution_count": 92
        }
      ],
      "source": [
        "A / 3"
      ],
      "id": "6dee93fc"
    },
    {
      "cell_type": "markdown",
      "source": [
        "#26: np.floor_divide\n",
        "[np.floor_divide document](https://numpy.org/doc/stable/reference/generated/numpy.floor_divide.html)\n",
        "\n",
        "Return the largest integer smaller or equal to the division of the inputs. It is equivalent to the Python // operator and pairs with the Python % (remainder), function so that a = a % b + b * (a // b) up to roundoff."
      ],
      "metadata": {
        "id": "JkqmRZG42Zxg"
      },
      "id": "JkqmRZG42Zxg"
    },
    {
      "cell_type": "code",
      "execution_count": null,
      "metadata": {
        "colab": {
          "base_uri": "https://localhost:8080/"
        },
        "id": "0e82ce4a",
        "outputId": "f471dfef-4ac7-4f4e-ab5f-17a010d23d14"
      },
      "outputs": [
        {
          "output_type": "execute_result",
          "data": {
            "text/plain": [
              "array([[0, 0, 1],\n",
              "       [1, 1, 2]])"
            ]
          },
          "metadata": {},
          "execution_count": 93
        }
      ],
      "source": [
        "np.floor_divide(A, 3)"
      ],
      "id": "0e82ce4a"
    },
    {
      "cell_type": "code",
      "execution_count": null,
      "metadata": {
        "colab": {
          "base_uri": "https://localhost:8080/"
        },
        "id": "823177e8",
        "outputId": "24a3002b-ea1c-4597-8a24-0c53421a9865"
      },
      "outputs": [
        {
          "output_type": "execute_result",
          "data": {
            "text/plain": [
              "array([[0, 0, 1],\n",
              "       [1, 1, 2]])"
            ]
          },
          "metadata": {},
          "execution_count": 94
        }
      ],
      "source": [
        "np.floor_divide(A,3)"
      ],
      "id": "823177e8"
    },
    {
      "cell_type": "markdown",
      "source": [
        "#27: np.sqrt\n",
        "\n",
        "[np.sqrt](https://numpy.org/doc/stable/reference/generated/numpy.sqrt.html)\n",
        "\n",
        "Return the non-negative square-root of an array, element-wise."
      ],
      "metadata": {
        "id": "xnvzOhe03Lk8"
      },
      "id": "xnvzOhe03Lk8"
    },
    {
      "cell_type": "code",
      "execution_count": null,
      "metadata": {
        "colab": {
          "base_uri": "https://localhost:8080/"
        },
        "id": "9fe1ce3f",
        "outputId": "f8192129-cf24-4308-87a5-e41c95cbd954"
      },
      "outputs": [
        {
          "output_type": "execute_result",
          "data": {
            "text/plain": [
              "3.4641016151377544"
            ]
          },
          "metadata": {},
          "execution_count": 95
        }
      ],
      "source": [
        "np.math.sqrt(12)"
      ],
      "id": "9fe1ce3f"
    },
    {
      "cell_type": "code",
      "execution_count": null,
      "metadata": {
        "colab": {
          "base_uri": "https://localhost:8080/"
        },
        "id": "dede3f0e",
        "outputId": "5a400090-f196-46db-8492-5c6cbf9e1b70"
      },
      "outputs": [
        {
          "output_type": "execute_result",
          "data": {
            "text/plain": [
              "array([[1.        , 1.41421356, 1.73205081],\n",
              "       [2.        , 2.23606798, 2.44948974]])"
            ]
          },
          "metadata": {},
          "execution_count": 96
        }
      ],
      "source": [
        "np.sqrt(A)"
      ],
      "id": "dede3f0e"
    },
    {
      "cell_type": "markdown",
      "metadata": {
        "id": "c0672fbb"
      },
      "source": [
        "#28: np.sin\n",
        "\n",
        "[np.sin document](https://numpy.org/doc/stable/reference/generated/numpy.sin.html)\n",
        "\n",
        "Trigonometric sine, element-wise.\n"
      ],
      "id": "c0672fbb"
    },
    {
      "cell_type": "code",
      "execution_count": null,
      "metadata": {
        "colab": {
          "base_uri": "https://localhost:8080/"
        },
        "id": "644cd65d",
        "outputId": "42dfe5e4-ed0f-47c4-acc5-10082be55c06"
      },
      "outputs": [
        {
          "output_type": "stream",
          "name": "stdout",
          "text": [
            "Sine of the given array of angles =  [ 0.00159265  0.99999968 -0.0031853 ]\n"
          ]
        }
      ],
      "source": [
        "angles = np.array([3.14, 3.14/2, 6.28])\n",
        "\n",
        "sine_of_angles = np.sin(angles)\n",
        "\n",
        "print('Sine of the given array of angles = ', sine_of_angles)"
      ],
      "id": "644cd65d"
    },
    {
      "cell_type": "markdown",
      "metadata": {
        "id": "e3849adc"
      },
      "source": [
        "#29: np.cos\n",
        "\n",
        "[np.cos document](https://numpy.org/doc/stable/reference/generated/numpy.cos.html)\n",
        "\n",
        "Cosine element-wise."
      ],
      "id": "e3849adc"
    },
    {
      "cell_type": "code",
      "execution_count": null,
      "metadata": {
        "colab": {
          "base_uri": "https://localhost:8080/"
        },
        "id": "c780a529",
        "outputId": "bab98520-0496-4bf0-e3d6-fde96ec8cccb"
      },
      "outputs": [
        {
          "output_type": "stream",
          "name": "stdout",
          "text": [
            "Cosine of the given array of angles =  [-9.99998732e-01  7.96326711e-04  9.99994927e-01]\n"
          ]
        }
      ],
      "source": [
        "angles = np.array([3.14, 3.14/2, 6.28])\n",
        "\n",
        "cosine_of_angles = np.cos(angles)\n",
        "\n",
        "print('Cosine of the given array of angles = ', cosine_of_angles)\n"
      ],
      "id": "c780a529"
    },
    {
      "cell_type": "markdown",
      "metadata": {
        "id": "750569f8"
      },
      "source": [
        "#30: np.argsort\n",
        "[np.argsort document](https://numpy.org/doc/stable/reference/generated/numpy.argsort.html)\n",
        "\n",
        "Returns the indices that would sort an array."
      ],
      "id": "750569f8"
    },
    {
      "cell_type": "code",
      "execution_count": null,
      "metadata": {
        "colab": {
          "base_uri": "https://localhost:8080/"
        },
        "id": "1db6ed8e",
        "outputId": "5c412f4f-2a56-4696-bd6f-6abaffa9f45e"
      },
      "outputs": [
        {
          "output_type": "stream",
          "name": "stdout",
          "text": [
            "[1 3 2 0]\n"
          ]
        }
      ],
      "source": [
        "array = np.array([10,1,5,2])\n",
        "indexes = np.argsort(array)\n",
        "print(indexes)"
      ],
      "id": "1db6ed8e"
    },
    {
      "cell_type": "markdown",
      "source": [
        "#31: np.mean\n",
        "\n",
        "[np.mean document](https://numpy.org/doc/stable/reference/generated/numpy.mean.html)\n",
        "\n",
        "Compute the arithmetic mean along the specified axis.\n",
        "\n",
        "Returns the average of the array elements. The average is taken over the flattened array by default, otherwise over the specified axis. float64 intermediate and return values are used for integer inputs."
      ],
      "metadata": {
        "id": "1qQD_8yX5myc"
      },
      "id": "1qQD_8yX5myc"
    },
    {
      "cell_type": "code",
      "execution_count": null,
      "metadata": {
        "colab": {
          "base_uri": "https://localhost:8080/"
        },
        "id": "nNUSxKzaZUqK",
        "outputId": "57169f96-fb7e-4a67-b3b6-ef2fe301ac39"
      },
      "outputs": [
        {
          "output_type": "execute_result",
          "data": {
            "text/plain": [
              "array([[13, 96, 34,  2],\n",
              "       [61, 56, 71, 98],\n",
              "       [82,  7, 47, 66],\n",
              "       [48, 90, 75, 36],\n",
              "       [65, 28, 98, 34]])"
            ]
          },
          "metadata": {},
          "execution_count": 105
        }
      ],
      "source": [
        "ar"
      ],
      "id": "nNUSxKzaZUqK"
    },
    {
      "cell_type": "code",
      "execution_count": null,
      "metadata": {
        "colab": {
          "base_uri": "https://localhost:8080/"
        },
        "id": "b2b5e03c",
        "outputId": "a49f4d8a-b1a0-4e21-b690-3d302529f29f"
      },
      "outputs": [
        {
          "output_type": "execute_result",
          "data": {
            "text/plain": [
              "55.35"
            ]
          },
          "metadata": {},
          "execution_count": 103
        }
      ],
      "source": [
        "np.mean(ar)"
      ],
      "id": "b2b5e03c"
    },
    {
      "cell_type": "code",
      "execution_count": null,
      "metadata": {
        "colab": {
          "base_uri": "https://localhost:8080/"
        },
        "id": "4cf78437",
        "outputId": "37bc29b2-aca3-42f0-9886-acc22fc6f279"
      },
      "outputs": [
        {
          "output_type": "execute_result",
          "data": {
            "text/plain": [
              "55.35"
            ]
          },
          "metadata": {},
          "execution_count": 104
        }
      ],
      "source": [
        "ar.mean()"
      ],
      "id": "4cf78437"
    },
    {
      "cell_type": "markdown",
      "source": [
        "#32: np.median\n",
        "\n",
        "[np.median document](https://numpy.org/doc/stable/reference/generated/numpy.median.html)\n",
        "\n",
        "Compute the median along the specified axis.\n",
        "\n",
        "Returns the median of the array elements."
      ],
      "metadata": {
        "id": "U6fhuspD6Rx2"
      },
      "id": "U6fhuspD6Rx2"
    },
    {
      "cell_type": "code",
      "execution_count": null,
      "metadata": {
        "colab": {
          "base_uri": "https://localhost:8080/"
        },
        "id": "8a21d3f4",
        "outputId": "48ad402d-739c-4dd8-d837-16df7f93fa1d"
      },
      "outputs": [
        {
          "output_type": "execute_result",
          "data": {
            "text/plain": [
              "array([61., 56., 71., 36.])"
            ]
          },
          "metadata": {},
          "execution_count": 106
        }
      ],
      "source": [
        "np.median(ar, axis= 0 )"
      ],
      "id": "8a21d3f4"
    },
    {
      "cell_type": "code",
      "execution_count": null,
      "metadata": {
        "colab": {
          "base_uri": "https://localhost:8080/"
        },
        "id": "baa08dd9",
        "outputId": "0de77589-1e97-482f-fde1-5d3275f4e0f7"
      },
      "outputs": [
        {
          "output_type": "execute_result",
          "data": {
            "text/plain": [
              "array([23.5, 66. , 56.5, 61.5, 49.5])"
            ]
          },
          "metadata": {},
          "execution_count": 107
        }
      ],
      "source": [
        "np.median(ar, axis= 1 )"
      ],
      "id": "baa08dd9"
    },
    {
      "cell_type": "markdown",
      "source": [
        "#33: mode in Numpy"
      ],
      "metadata": {
        "id": "NOVAySeg7Rom"
      },
      "id": "NOVAySeg7Rom"
    },
    {
      "cell_type": "code",
      "execution_count": null,
      "metadata": {
        "colab": {
          "base_uri": "https://localhost:8080/",
          "height": 170
        },
        "id": "b7e1f17b",
        "outputId": "b3a67380-ba90-4a73-dc0a-eb995e18bb6c"
      },
      "outputs": [
        {
          "output_type": "error",
          "ename": "AttributeError",
          "evalue": "ignored",
          "traceback": [
            "\u001b[0;31m---------------------------------------------------------------------------\u001b[0m",
            "\u001b[0;31mAttributeError\u001b[0m                            Traceback (most recent call last)",
            "\u001b[0;32m<ipython-input-108-172428922d7a>\u001b[0m in \u001b[0;36m<cell line: 1>\u001b[0;34m()\u001b[0m\n\u001b[0;32m----> 1\u001b[0;31m \u001b[0mar\u001b[0m\u001b[0;34m.\u001b[0m\u001b[0mmode\u001b[0m\u001b[0;34m(\u001b[0m\u001b[0;34m)\u001b[0m\u001b[0;34m\u001b[0m\u001b[0;34m\u001b[0m\u001b[0m\n\u001b[0m",
            "\u001b[0;31mAttributeError\u001b[0m: 'numpy.ndarray' object has no attribute 'mode'"
          ]
        }
      ],
      "source": [
        "# mod is not implement in numpy\n",
        "ar.mode()"
      ],
      "id": "b7e1f17b"
    },
    {
      "cell_type": "code",
      "execution_count": null,
      "metadata": {
        "colab": {
          "base_uri": "https://localhost:8080/",
          "height": 170
        },
        "id": "170c1781",
        "outputId": "7886d33a-7f55-4708-d851-8afd6b19ced7"
      },
      "outputs": [
        {
          "output_type": "error",
          "ename": "AttributeError",
          "evalue": "ignored",
          "traceback": [
            "\u001b[0;31m---------------------------------------------------------------------------\u001b[0m",
            "\u001b[0;31mAttributeError\u001b[0m                            Traceback (most recent call last)",
            "\u001b[0;32m<ipython-input-109-01a093872b4f>\u001b[0m in \u001b[0;36m<cell line: 1>\u001b[0;34m()\u001b[0m\n\u001b[0;32m----> 1\u001b[0;31m \u001b[0mar\u001b[0m\u001b[0;34m.\u001b[0m\u001b[0mmod\u001b[0m\u001b[0;34m(\u001b[0m\u001b[0maxis\u001b[0m \u001b[0;34m=\u001b[0m \u001b[0;36m0\u001b[0m \u001b[0;34m)\u001b[0m\u001b[0;34m\u001b[0m\u001b[0;34m\u001b[0m\u001b[0m\n\u001b[0m",
            "\u001b[0;31mAttributeError\u001b[0m: 'numpy.ndarray' object has no attribute 'mod'"
          ]
        }
      ],
      "source": [
        "ar.mod(axis = 0 )"
      ],
      "id": "170c1781"
    },
    {
      "cell_type": "code",
      "execution_count": null,
      "metadata": {
        "colab": {
          "base_uri": "https://localhost:8080/"
        },
        "id": "8f1760c9",
        "outputId": "bb88814d-ab13-4145-f7f4-eea2332da55c"
      },
      "outputs": [
        {
          "output_type": "stream",
          "name": "stderr",
          "text": [
            "<ipython-input-110-6996455f1c41>:2: FutureWarning: Unlike other reduction functions (e.g. `skew`, `kurtosis`), the default behavior of `mode` typically preserves the axis it acts along. In SciPy 1.11.0, this behavior will change: the default value of `keepdims` will become False, the `axis` over which the statistic is taken will be eliminated, and the value None will no longer be accepted. Set `keepdims` to True or False to avoid this warning.\n",
            "  x = stats.mode(ar)\n"
          ]
        }
      ],
      "source": [
        "from scipy import stats\n",
        "x = stats.mode(ar)\n"
      ],
      "id": "8f1760c9"
    },
    {
      "cell_type": "code",
      "execution_count": null,
      "metadata": {
        "colab": {
          "base_uri": "https://localhost:8080/"
        },
        "id": "f5eea1cd",
        "outputId": "9d777946-565a-460e-d076-fcb91f65623d"
      },
      "outputs": [
        {
          "output_type": "execute_result",
          "data": {
            "text/plain": [
              "ModeResult(mode=array([[13,  7, 34,  2]]), count=array([[1, 1, 1, 1]]))"
            ]
          },
          "metadata": {},
          "execution_count": 111
        }
      ],
      "source": [
        "x"
      ],
      "id": "f5eea1cd"
    },
    {
      "cell_type": "markdown",
      "source": [
        "#34: np.var\n",
        "[np.var document](https://numpy.org/doc/stable/reference/generated/numpy.var.html)\n",
        "\n",
        "Compute the variance along the specified axis.\n",
        "\n",
        "Returns the variance of the array elements, a measure of the spread of a distribution. The variance is computed for the flattened array by default, otherwise over the specified axis."
      ],
      "metadata": {
        "id": "a8vjDi0j7v61"
      },
      "id": "a8vjDi0j7v61"
    },
    {
      "cell_type": "code",
      "execution_count": null,
      "metadata": {
        "colab": {
          "base_uri": "https://localhost:8080/"
        },
        "id": "b3674c35",
        "outputId": "25dfb08c-5bd5-4d84-894c-37945713a99a"
      },
      "outputs": [
        {
          "output_type": "execute_result",
          "data": {
            "text/plain": [
              "860.3275"
            ]
          },
          "metadata": {},
          "execution_count": 112
        }
      ],
      "source": [
        "ar.var()"
      ],
      "id": "b3674c35"
    },
    {
      "cell_type": "code",
      "execution_count": null,
      "metadata": {
        "colab": {
          "base_uri": "https://localhost:8080/"
        },
        "id": "5c44b9d7",
        "outputId": "e62f257b-4651-4d8c-a6e6-702dda3b0b4b"
      },
      "outputs": [
        {
          "output_type": "execute_result",
          "data": {
            "text/plain": [
              "array([1322.1875,  263.25  ,  784.25  ,  456.1875,  778.1875])"
            ]
          },
          "metadata": {},
          "execution_count": 113
        }
      ],
      "source": [
        "ar.var(axis=1)"
      ],
      "id": "5c44b9d7"
    },
    {
      "cell_type": "markdown",
      "source": [
        "#35: np.std\n",
        "\n",
        "[np.std document](https://numpy.org/doc/stable/reference/generated/numpy.std.html)\n",
        "\n",
        "Compute the standard deviation along the specified axis.\n",
        "\n",
        "Returns the standard deviation, a measure of the spread of a distribution, of the array elements. The standard deviation is computed for the flattened array by default, otherwise over the specified axis."
      ],
      "metadata": {
        "id": "Cb423GZz8HuZ"
      },
      "id": "Cb423GZz8HuZ"
    },
    {
      "cell_type": "code",
      "execution_count": null,
      "metadata": {
        "colab": {
          "base_uri": "https://localhost:8080/"
        },
        "id": "036db586",
        "outputId": "f9e0cd80-6017-4d2f-c5d6-8b184806adff"
      },
      "outputs": [
        {
          "output_type": "execute_result",
          "data": {
            "text/plain": [
              "29.331339894386005"
            ]
          },
          "metadata": {},
          "execution_count": 114
        }
      ],
      "source": [
        "np.std(ar)"
      ],
      "id": "036db586"
    },
    {
      "cell_type": "code",
      "execution_count": null,
      "metadata": {
        "colab": {
          "base_uri": "https://localhost:8080/"
        },
        "id": "07f5ff80",
        "outputId": "d3a1d61b-22b8-4730-a71a-1a8d02479b19"
      },
      "outputs": [
        {
          "output_type": "execute_result",
          "data": {
            "text/plain": [
              "array([[13, 96, 34,  2],\n",
              "       [61, 56, 71, 98],\n",
              "       [82,  7, 47, 66],\n",
              "       [48, 90, 75, 36],\n",
              "       [65, 28, 98, 34]])"
            ]
          },
          "metadata": {},
          "execution_count": 116
        }
      ],
      "source": [
        "ar"
      ],
      "id": "07f5ff80"
    },
    {
      "cell_type": "markdown",
      "source": [
        "#36: np.max"
      ],
      "metadata": {
        "id": "Z2drAqph8qCm"
      },
      "id": "Z2drAqph8qCm"
    },
    {
      "cell_type": "code",
      "execution_count": null,
      "metadata": {
        "colab": {
          "base_uri": "https://localhost:8080/"
        },
        "id": "215a20ce",
        "outputId": "f65beeb2-76ec-4c02-dcc8-54d88aac48fa"
      },
      "outputs": [
        {
          "output_type": "execute_result",
          "data": {
            "text/plain": [
              "98"
            ]
          },
          "metadata": {},
          "execution_count": 117
        }
      ],
      "source": [
        "ar.max()"
      ],
      "id": "215a20ce"
    },
    {
      "cell_type": "markdown",
      "source": [
        "#37: np.min"
      ],
      "metadata": {
        "id": "1vMgD32n8tj6"
      },
      "id": "1vMgD32n8tj6"
    },
    {
      "cell_type": "code",
      "execution_count": null,
      "metadata": {
        "colab": {
          "base_uri": "https://localhost:8080/"
        },
        "id": "ac3bc4d5",
        "outputId": "399d5f08-6672-497c-d90b-7d4b41a386c7"
      },
      "outputs": [
        {
          "output_type": "execute_result",
          "data": {
            "text/plain": [
              "2"
            ]
          },
          "metadata": {},
          "execution_count": 118
        }
      ],
      "source": [
        "ar.min()"
      ],
      "id": "ac3bc4d5"
    },
    {
      "cell_type": "markdown",
      "source": [
        "#38: np.argmax"
      ],
      "metadata": {
        "id": "qJcrnob28z9Y"
      },
      "id": "qJcrnob28z9Y"
    },
    {
      "cell_type": "code",
      "execution_count": null,
      "metadata": {
        "colab": {
          "base_uri": "https://localhost:8080/"
        },
        "id": "53983c36",
        "outputId": "ec9ae3dc-a0c5-4764-e2eb-b32ba5254297"
      },
      "outputs": [
        {
          "output_type": "execute_result",
          "data": {
            "text/plain": [
              "7"
            ]
          },
          "metadata": {},
          "execution_count": 119
        }
      ],
      "source": [
        "ar.argmax()"
      ],
      "id": "53983c36"
    },
    {
      "cell_type": "code",
      "execution_count": null,
      "metadata": {
        "colab": {
          "base_uri": "https://localhost:8080/"
        },
        "id": "eae78538",
        "outputId": "d955da52-4ad7-4e21-e26d-c1b618ccd882"
      },
      "outputs": [
        {
          "output_type": "execute_result",
          "data": {
            "text/plain": [
              "array([[13, 96, 34,  2],\n",
              "       [61, 56, 71, 98],\n",
              "       [82,  7, 47, 66],\n",
              "       [48, 90, 75, 36],\n",
              "       [65, 28, 98, 34]])"
            ]
          },
          "metadata": {},
          "execution_count": 120
        }
      ],
      "source": [
        "ar"
      ],
      "id": "eae78538"
    },
    {
      "cell_type": "markdown",
      "source": [
        "#39: np.argmin"
      ],
      "metadata": {
        "id": "YfhDI7PW84_x"
      },
      "id": "YfhDI7PW84_x"
    },
    {
      "cell_type": "code",
      "execution_count": null,
      "metadata": {
        "colab": {
          "base_uri": "https://localhost:8080/"
        },
        "id": "19a00c72",
        "outputId": "b9588279-1774-4ab7-f585-fa0072368c50"
      },
      "outputs": [
        {
          "output_type": "execute_result",
          "data": {
            "text/plain": [
              "3"
            ]
          },
          "metadata": {},
          "execution_count": 121
        }
      ],
      "source": [
        "ar.argmin()"
      ],
      "id": "19a00c72"
    },
    {
      "cell_type": "markdown",
      "source": [
        "#40: np.reshape\n",
        "\n",
        "[np.reshape document](https://numpy.org/doc/stable/reference/generated/numpy.reshape.html)\n",
        "\n",
        "Gives a new shape to an array without changing its data."
      ],
      "metadata": {
        "id": "RhzZ6buG9B00"
      },
      "id": "RhzZ6buG9B00"
    },
    {
      "cell_type": "code",
      "execution_count": null,
      "metadata": {
        "colab": {
          "base_uri": "https://localhost:8080/"
        },
        "id": "478262c5",
        "outputId": "c28209fd-92a1-4b2a-f4d4-98061b1ec4e0"
      },
      "outputs": [
        {
          "output_type": "execute_result",
          "data": {
            "text/plain": [
              "array([[ 1.        ,  2.68965517,  4.37931034],\n",
              "       [ 6.06896552,  7.75862069,  9.44827586],\n",
              "       [11.13793103, 12.82758621, 14.51724138],\n",
              "       [16.20689655, 17.89655172, 19.5862069 ],\n",
              "       [21.27586207, 22.96551724, 24.65517241],\n",
              "       [26.34482759, 28.03448276, 29.72413793],\n",
              "       [31.4137931 , 33.10344828, 34.79310345],\n",
              "       [36.48275862, 38.17241379, 39.86206897],\n",
              "       [41.55172414, 43.24137931, 44.93103448],\n",
              "       [46.62068966, 48.31034483, 50.        ]])"
            ]
          },
          "metadata": {},
          "execution_count": 125
        }
      ],
      "source": [
        "ar2.reshape(10,-1)"
      ],
      "id": "478262c5"
    },
    {
      "cell_type": "code",
      "execution_count": null,
      "metadata": {
        "colab": {
          "base_uri": "https://localhost:8080/"
        },
        "id": "f5b60106",
        "outputId": "1f1c93d5-eafb-4658-acfd-e44a7da28cbc"
      },
      "outputs": [
        {
          "output_type": "execute_result",
          "data": {
            "text/plain": [
              "array([[ 1.        ,  2.68965517,  4.37931034,  6.06896552,  7.75862069,\n",
              "         9.44827586],\n",
              "       [11.13793103, 12.82758621, 14.51724138, 16.20689655, 17.89655172,\n",
              "        19.5862069 ],\n",
              "       [21.27586207, 22.96551724, 24.65517241, 26.34482759, 28.03448276,\n",
              "        29.72413793],\n",
              "       [31.4137931 , 33.10344828, 34.79310345, 36.48275862, 38.17241379,\n",
              "        39.86206897],\n",
              "       [41.55172414, 43.24137931, 44.93103448, 46.62068966, 48.31034483,\n",
              "        50.        ]])"
            ]
          },
          "metadata": {},
          "execution_count": 126
        }
      ],
      "source": [
        "df = ar2.reshape(5,6)\n",
        "df"
      ],
      "id": "f5b60106"
    },
    {
      "cell_type": "code",
      "execution_count": null,
      "metadata": {
        "colab": {
          "base_uri": "https://localhost:8080/"
        },
        "id": "f34adcbb",
        "outputId": "ad4fa80b-b370-4848-cdd2-b921be722c5e"
      },
      "outputs": [
        {
          "output_type": "execute_result",
          "data": {
            "text/plain": [
              "(5, 6)"
            ]
          },
          "metadata": {},
          "execution_count": 127
        }
      ],
      "source": [
        "df.shape"
      ],
      "id": "f34adcbb"
    },
    {
      "cell_type": "code",
      "execution_count": null,
      "metadata": {
        "colab": {
          "base_uri": "https://localhost:8080/"
        },
        "id": "af74a69b",
        "outputId": "41515d9d-956e-4871-81a6-5b50276dda69"
      },
      "outputs": [
        {
          "output_type": "execute_result",
          "data": {
            "text/plain": [
              "(30,)"
            ]
          },
          "metadata": {},
          "execution_count": 128
        }
      ],
      "source": [
        "ar2.shape"
      ],
      "id": "af74a69b"
    },
    {
      "cell_type": "code",
      "execution_count": null,
      "metadata": {
        "id": "cd9c3690"
      },
      "outputs": [],
      "source": [
        "df2 = ar2.reshape(30,1)"
      ],
      "id": "cd9c3690"
    },
    {
      "cell_type": "code",
      "execution_count": null,
      "metadata": {
        "colab": {
          "base_uri": "https://localhost:8080/"
        },
        "id": "66d61e2b",
        "outputId": "3d8a5214-0845-4f82-b7c2-d1530c1cba7d"
      },
      "outputs": [
        {
          "output_type": "execute_result",
          "data": {
            "text/plain": [
              "(5, 6)"
            ]
          },
          "metadata": {},
          "execution_count": 130
        }
      ],
      "source": [
        "df.shape"
      ],
      "id": "66d61e2b"
    },
    {
      "cell_type": "code",
      "execution_count": null,
      "metadata": {
        "id": "f65f9a25",
        "outputId": "4c3fb8cf-5c20-4820-98de-b02113e2d325",
        "colab": {
          "base_uri": "https://localhost:8080/"
        }
      },
      "outputs": [
        {
          "output_type": "execute_result",
          "data": {
            "text/plain": [
              "array([[[ 1.        ,  2.68965517],\n",
              "        [ 4.37931034,  6.06896552],\n",
              "        [ 7.75862069,  9.44827586]],\n",
              "\n",
              "       [[11.13793103, 12.82758621],\n",
              "        [14.51724138, 16.20689655],\n",
              "        [17.89655172, 19.5862069 ]],\n",
              "\n",
              "       [[21.27586207, 22.96551724],\n",
              "        [24.65517241, 26.34482759],\n",
              "        [28.03448276, 29.72413793]],\n",
              "\n",
              "       [[31.4137931 , 33.10344828],\n",
              "        [34.79310345, 36.48275862],\n",
              "        [38.17241379, 39.86206897]],\n",
              "\n",
              "       [[41.55172414, 43.24137931],\n",
              "        [44.93103448, 46.62068966],\n",
              "        [48.31034483, 50.        ]]])"
            ]
          },
          "metadata": {},
          "execution_count": 131
        }
      ],
      "source": [
        "ar2.reshape(5,3,-1)"
      ],
      "id": "f65f9a25"
    },
    {
      "cell_type": "code",
      "execution_count": null,
      "metadata": {
        "id": "ad029d44",
        "outputId": "5f7f1204-1054-4ba5-fdc0-4deba019f974",
        "colab": {
          "base_uri": "https://localhost:8080/"
        }
      },
      "outputs": [
        {
          "output_type": "execute_result",
          "data": {
            "text/plain": [
              "array([[[ 1.        ,  2.68965517,  4.37931034,  6.06896552,\n",
              "          7.75862069],\n",
              "        [ 9.44827586, 11.13793103, 12.82758621, 14.51724138,\n",
              "         16.20689655],\n",
              "        [17.89655172, 19.5862069 , 21.27586207, 22.96551724,\n",
              "         24.65517241]],\n",
              "\n",
              "       [[26.34482759, 28.03448276, 29.72413793, 31.4137931 ,\n",
              "         33.10344828],\n",
              "        [34.79310345, 36.48275862, 38.17241379, 39.86206897,\n",
              "         41.55172414],\n",
              "        [43.24137931, 44.93103448, 46.62068966, 48.31034483,\n",
              "         50.        ]]])"
            ]
          },
          "metadata": {},
          "execution_count": 132
        }
      ],
      "source": [
        "ar2.reshape(2,3,5)"
      ],
      "id": "ad029d44"
    },
    {
      "cell_type": "code",
      "execution_count": null,
      "metadata": {
        "id": "e66738b6",
        "outputId": "1e0fc97c-bc7b-4dee-cb3a-af14fbae7e54",
        "colab": {
          "base_uri": "https://localhost:8080/"
        }
      },
      "outputs": [
        {
          "output_type": "execute_result",
          "data": {
            "text/plain": [
              "array([[ 1.        ],\n",
              "       [ 2.68965517],\n",
              "       [ 4.37931034],\n",
              "       [ 6.06896552],\n",
              "       [ 7.75862069],\n",
              "       [ 9.44827586],\n",
              "       [11.13793103],\n",
              "       [12.82758621],\n",
              "       [14.51724138],\n",
              "       [16.20689655],\n",
              "       [17.89655172],\n",
              "       [19.5862069 ],\n",
              "       [21.27586207],\n",
              "       [22.96551724],\n",
              "       [24.65517241],\n",
              "       [26.34482759],\n",
              "       [28.03448276],\n",
              "       [29.72413793],\n",
              "       [31.4137931 ],\n",
              "       [33.10344828],\n",
              "       [34.79310345],\n",
              "       [36.48275862],\n",
              "       [38.17241379],\n",
              "       [39.86206897],\n",
              "       [41.55172414],\n",
              "       [43.24137931],\n",
              "       [44.93103448],\n",
              "       [46.62068966],\n",
              "       [48.31034483],\n",
              "       [50.        ]])"
            ]
          },
          "metadata": {},
          "execution_count": 133
        }
      ],
      "source": [
        "ar2.reshape(-1, 1)"
      ],
      "id": "e66738b6"
    },
    {
      "cell_type": "code",
      "execution_count": null,
      "metadata": {
        "id": "bc2a26d1",
        "outputId": "6a85dcf3-5de9-4f77-e71d-c19d2ededaf5",
        "colab": {
          "base_uri": "https://localhost:8080/"
        }
      },
      "outputs": [
        {
          "output_type": "execute_result",
          "data": {
            "text/plain": [
              "array([[[ 1.        ,  2.68965517,  4.37931034,  6.06896552,\n",
              "          7.75862069],\n",
              "        [ 9.44827586, 11.13793103, 12.82758621, 14.51724138,\n",
              "         16.20689655],\n",
              "        [17.89655172, 19.5862069 , 21.27586207, 22.96551724,\n",
              "         24.65517241]],\n",
              "\n",
              "       [[26.34482759, 28.03448276, 29.72413793, 31.4137931 ,\n",
              "         33.10344828],\n",
              "        [34.79310345, 36.48275862, 38.17241379, 39.86206897,\n",
              "         41.55172414],\n",
              "        [43.24137931, 44.93103448, 46.62068966, 48.31034483,\n",
              "         50.        ]]])"
            ]
          },
          "metadata": {},
          "execution_count": 134
        }
      ],
      "source": [
        "ar2.reshape(2,3,-1)"
      ],
      "id": "bc2a26d1"
    },
    {
      "cell_type": "code",
      "execution_count": null,
      "metadata": {
        "id": "e458b9db",
        "outputId": "dfba6cc9-45ba-4554-eb6a-32f4c5ab844e",
        "colab": {
          "base_uri": "https://localhost:8080/",
          "height": 170
        }
      },
      "outputs": [
        {
          "output_type": "error",
          "ename": "ValueError",
          "evalue": "ignored",
          "traceback": [
            "\u001b[0;31m---------------------------------------------------------------------------\u001b[0m",
            "\u001b[0;31mValueError\u001b[0m                                Traceback (most recent call last)",
            "\u001b[0;32m<ipython-input-135-5113bb5a7317>\u001b[0m in \u001b[0;36m<cell line: 1>\u001b[0;34m()\u001b[0m\n\u001b[0;32m----> 1\u001b[0;31m \u001b[0mar2\u001b[0m\u001b[0;34m.\u001b[0m\u001b[0mreshape\u001b[0m\u001b[0;34m(\u001b[0m\u001b[0;36m7\u001b[0m\u001b[0;34m,\u001b[0m\u001b[0;34m-\u001b[0m\u001b[0;36m1\u001b[0m\u001b[0;34m)\u001b[0m\u001b[0;34m\u001b[0m\u001b[0;34m\u001b[0m\u001b[0m\n\u001b[0m",
            "\u001b[0;31mValueError\u001b[0m: cannot reshape array of size 30 into shape (7,newaxis)"
          ]
        }
      ],
      "source": [
        "ar2.reshape(7,-1)"
      ],
      "id": "e458b9db"
    },
    {
      "cell_type": "markdown",
      "source": [
        "#** Slicing in numpy**"
      ],
      "metadata": {
        "id": "F0xId0jT9ZCs"
      },
      "id": "F0xId0jT9ZCs"
    },
    {
      "cell_type": "code",
      "execution_count": null,
      "metadata": {
        "id": "94fc228f"
      },
      "outputs": [],
      "source": [
        "ar = np.random.randint(1,100,(20,5))"
      ],
      "id": "94fc228f"
    },
    {
      "cell_type": "code",
      "execution_count": null,
      "metadata": {
        "id": "bbf883ff",
        "outputId": "cb423eea-9ab2-4c38-9857-7f4324cba620",
        "colab": {
          "base_uri": "https://localhost:8080/"
        }
      },
      "outputs": [
        {
          "output_type": "execute_result",
          "data": {
            "text/plain": [
              "array([[ 4,  5, 66, 11, 42],\n",
              "       [57, 46,  8,  6, 61],\n",
              "       [84, 43,  1, 28, 22],\n",
              "       [67, 37, 55, 46, 97],\n",
              "       [87, 35, 76, 95, 86],\n",
              "       [40, 69, 64, 68, 72],\n",
              "       [ 9, 68, 71, 24, 43],\n",
              "       [75, 76, 81, 28, 66],\n",
              "       [ 7, 33, 91, 99, 97],\n",
              "       [25, 87, 45, 76, 63],\n",
              "       [96, 13, 22, 43, 77],\n",
              "       [36, 37, 39, 53, 53],\n",
              "       [44, 51, 46, 33, 24],\n",
              "       [39, 93, 44, 81, 14],\n",
              "       [67, 90, 41, 38, 43],\n",
              "       [13, 22, 21, 16, 23],\n",
              "       [29, 21, 42,  9, 60],\n",
              "       [40, 10, 98, 21, 85],\n",
              "       [99, 28, 82,  7, 11],\n",
              "       [58,  2, 53, 80, 68]])"
            ]
          },
          "metadata": {},
          "execution_count": 140
        }
      ],
      "source": [
        "ar"
      ],
      "id": "bbf883ff"
    },
    {
      "cell_type": "code",
      "execution_count": null,
      "metadata": {
        "id": "1d628bfd",
        "outputId": "93055604-7ad6-40aa-a517-569ee1d28238",
        "colab": {
          "base_uri": "https://localhost:8080/"
        }
      },
      "outputs": [
        {
          "output_type": "execute_result",
          "data": {
            "text/plain": [
              "array([[ 4,  5, 66, 11, 42],\n",
              "       [57, 46,  8,  6, 61],\n",
              "       [84, 43,  1, 28, 22],\n",
              "       [67, 37, 55, 46, 97],\n",
              "       [87, 35, 76, 95, 86]])"
            ]
          },
          "metadata": {},
          "execution_count": 142
        }
      ],
      "source": [
        "ar[0:5,:]"
      ],
      "id": "1d628bfd"
    },
    {
      "cell_type": "code",
      "execution_count": null,
      "metadata": {
        "id": "ea000354",
        "outputId": "bb63b7e0-379a-4b27-d405-5b975ccb5400",
        "colab": {
          "base_uri": "https://localhost:8080/"
        }
      },
      "outputs": [
        {
          "output_type": "execute_result",
          "data": {
            "text/plain": [
              "array([[ 4,  5, 66],\n",
              "       [57, 46,  8],\n",
              "       [84, 43,  1],\n",
              "       [67, 37, 55],\n",
              "       [87, 35, 76],\n",
              "       [40, 69, 64],\n",
              "       [ 9, 68, 71],\n",
              "       [75, 76, 81],\n",
              "       [ 7, 33, 91],\n",
              "       [25, 87, 45],\n",
              "       [96, 13, 22],\n",
              "       [36, 37, 39],\n",
              "       [44, 51, 46],\n",
              "       [39, 93, 44],\n",
              "       [67, 90, 41],\n",
              "       [13, 22, 21],\n",
              "       [29, 21, 42],\n",
              "       [40, 10, 98],\n",
              "       [99, 28, 82],\n",
              "       [58,  2, 53]])"
            ]
          },
          "metadata": {},
          "execution_count": 146
        }
      ],
      "source": [
        "ar[:, 0:3]"
      ],
      "id": "ea000354"
    },
    {
      "cell_type": "code",
      "execution_count": null,
      "metadata": {
        "id": "dc1d7a6a",
        "outputId": "8b35349f-3ebe-4056-d4ef-cd17fc2de3c7",
        "colab": {
          "base_uri": "https://localhost:8080/"
        }
      },
      "outputs": [
        {
          "output_type": "execute_result",
          "data": {
            "text/plain": [
              "array([[43,  1],\n",
              "       [37, 55],\n",
              "       [35, 76]])"
            ]
          },
          "metadata": {},
          "execution_count": 147
        }
      ],
      "source": [
        "ar[2:5,1:3]"
      ],
      "id": "dc1d7a6a"
    },
    {
      "cell_type": "code",
      "execution_count": null,
      "metadata": {
        "id": "0f4ce878"
      },
      "outputs": [],
      "source": [
        "B = ar[2:5,1:3]"
      ],
      "id": "0f4ce878"
    },
    {
      "cell_type": "code",
      "execution_count": null,
      "metadata": {
        "id": "b48d7069",
        "outputId": "e1eecb19-ba8e-41ff-c5f9-7d0418c5706e",
        "colab": {
          "base_uri": "https://localhost:8080/"
        }
      },
      "outputs": [
        {
          "output_type": "execute_result",
          "data": {
            "text/plain": [
              "array([[ 4,  5, 66, 11, 42],\n",
              "       [57, 46,  8,  6, 61],\n",
              "       [84, 43,  1, 28, 22],\n",
              "       [67, 37, 55, 46, 97],\n",
              "       [87, 35, 76, 95, 86],\n",
              "       [40, 69, 64, 68, 72],\n",
              "       [ 9, 68, 71, 24, 43],\n",
              "       [75, 76, 81, 28, 66],\n",
              "       [ 7, 33, 91, 99, 97],\n",
              "       [25, 87, 45, 76, 63],\n",
              "       [96, 13, 22, 43, 77],\n",
              "       [36, 37, 39, 53, 53],\n",
              "       [44, 51, 46, 33, 24],\n",
              "       [39, 93, 44, 81, 14],\n",
              "       [67, 90, 41, 38, 43],\n",
              "       [13, 22, 21, 16, 23],\n",
              "       [29, 21, 42,  9, 60],\n",
              "       [40, 10, 98, 21, 85],\n",
              "       [99, 28, 82,  7, 11],\n",
              "       [58,  2, 53, 80, 68]])"
            ]
          },
          "metadata": {},
          "execution_count": 149
        }
      ],
      "source": [
        "ar"
      ],
      "id": "b48d7069"
    },
    {
      "cell_type": "code",
      "execution_count": null,
      "metadata": {
        "id": "832e84d4",
        "outputId": "b3974366-8a93-470e-8e49-b14880d79d48",
        "colab": {
          "base_uri": "https://localhost:8080/"
        }
      },
      "outputs": [
        {
          "output_type": "execute_result",
          "data": {
            "text/plain": [
              "array([[43,  1],\n",
              "       [37, 55],\n",
              "       [35, 76]])"
            ]
          },
          "metadata": {},
          "execution_count": 150
        }
      ],
      "source": [
        "B"
      ],
      "id": "832e84d4"
    },
    {
      "cell_type": "code",
      "execution_count": null,
      "metadata": {
        "id": "84178488"
      },
      "outputs": [],
      "source": [
        "B[:] = 1000"
      ],
      "id": "84178488"
    },
    {
      "cell_type": "code",
      "execution_count": null,
      "metadata": {
        "id": "209bb1f5",
        "outputId": "6508b354-3a04-4ed6-834c-1e45dfeedc58",
        "colab": {
          "base_uri": "https://localhost:8080/"
        }
      },
      "outputs": [
        {
          "output_type": "execute_result",
          "data": {
            "text/plain": [
              "array([[1000, 1000],\n",
              "       [1000, 1000],\n",
              "       [1000, 1000]])"
            ]
          },
          "metadata": {},
          "execution_count": 152
        }
      ],
      "source": [
        "B"
      ],
      "id": "209bb1f5"
    },
    {
      "cell_type": "code",
      "execution_count": null,
      "metadata": {
        "id": "3453a4a1",
        "outputId": "a9c40242-b305-422f-e3a0-66732d90d196",
        "colab": {
          "base_uri": "https://localhost:8080/"
        }
      },
      "outputs": [
        {
          "output_type": "execute_result",
          "data": {
            "text/plain": [
              "array([[   4,    5,   66,   11,   42],\n",
              "       [  57,   46,    8,    6,   61],\n",
              "       [  84, 1000, 1000,   28,   22],\n",
              "       [  67, 1000, 1000,   46,   97],\n",
              "       [  87, 1000, 1000,   95,   86],\n",
              "       [  40,   69,   64,   68,   72],\n",
              "       [   9,   68,   71,   24,   43],\n",
              "       [  75,   76,   81,   28,   66],\n",
              "       [   7,   33,   91,   99,   97],\n",
              "       [  25,   87,   45,   76,   63],\n",
              "       [  96,   13,   22,   43,   77],\n",
              "       [  36,   37,   39,   53,   53],\n",
              "       [  44,   51,   46,   33,   24],\n",
              "       [  39,   93,   44,   81,   14],\n",
              "       [  67,   90,   41,   38,   43],\n",
              "       [  13,   22,   21,   16,   23],\n",
              "       [  29,   21,   42,    9,   60],\n",
              "       [  40,   10,   98,   21,   85],\n",
              "       [  99,   28,   82,    7,   11],\n",
              "       [  58,    2,   53,   80,   68]])"
            ]
          },
          "metadata": {},
          "execution_count": 153
        }
      ],
      "source": [
        "ar"
      ],
      "id": "3453a4a1"
    },
    {
      "cell_type": "markdown",
      "source": [
        "#41: np.copy\n",
        "[np.copy document](https://numpy.org/doc/stable/reference/generated/numpy.copy.html)\n",
        "Return an array copy of the given object.\n",
        "\n"
      ],
      "metadata": {
        "id": "ltVBoyUo9ttw"
      },
      "id": "ltVBoyUo9ttw"
    },
    {
      "cell_type": "code",
      "execution_count": null,
      "metadata": {
        "id": "ee18eb4a",
        "colab": {
          "base_uri": "https://localhost:8080/"
        },
        "outputId": "937e8ec8-804c-4cb3-cff4-881957e43a32"
      },
      "outputs": [
        {
          "output_type": "execute_result",
          "data": {
            "text/plain": [
              "array([[   4,    5,   66,   11,   42],\n",
              "       [  57,   46,    8,    6,   61],\n",
              "       [  84, 1000, 1000,   28,   22],\n",
              "       [  67, 1000, 1000,   46,   97],\n",
              "       [  87, 1000, 1000,   95,   86],\n",
              "       [  40,   69,   64,   68,   72],\n",
              "       [   9,   68,   71,   24,   43],\n",
              "       [  75,   76,   81,   28,   66],\n",
              "       [   7,   33,   91,   99,   97],\n",
              "       [  25,   87,   45,   76,   63],\n",
              "       [  96,   13,   22,   43,   77],\n",
              "       [  36,   37,   39,   53,   53],\n",
              "       [  44,   51,   46,   33,   24],\n",
              "       [  39,   93,   44,   81,   14],\n",
              "       [  67,   90,   41,   38,   43],\n",
              "       [  13,   22,   21,   16,   23],\n",
              "       [  29,   21,   42,    9,   60],\n",
              "       [  40,   10,   98,   21,   85],\n",
              "       [  99,   28,   82,    7,   11],\n",
              "       [  58,    2,   53,   80,   68]])"
            ]
          },
          "metadata": {},
          "execution_count": 155
        }
      ],
      "source": [
        "B = ar.copy()\n",
        "B"
      ],
      "id": "ee18eb4a"
    },
    {
      "cell_type": "code",
      "source": [
        "ar"
      ],
      "metadata": {
        "colab": {
          "base_uri": "https://localhost:8080/"
        },
        "id": "h3pU3zB8iSUO",
        "outputId": "6eaa4f99-d7fd-489b-e164-55d239b58c8d"
      },
      "id": "h3pU3zB8iSUO",
      "execution_count": null,
      "outputs": [
        {
          "output_type": "execute_result",
          "data": {
            "text/plain": [
              "array([[   4,    5,   66,   11,   42],\n",
              "       [  57,   46,    8,    6,   61],\n",
              "       [  84, 1000, 1000,   28,   22],\n",
              "       [  67, 1000, 1000,   46,   97],\n",
              "       [  87, 1000, 1000,   95,   86],\n",
              "       [  40,   69,   64,   68,   72],\n",
              "       [   9,   68,   71,   24,   43],\n",
              "       [  75,   76,   81,   28,   66],\n",
              "       [   7,   33,   91,   99,   97],\n",
              "       [  25,   87,   45,   76,   63],\n",
              "       [  96,   13,   22,   43,   77],\n",
              "       [  36,   37,   39,   53,   53],\n",
              "       [  44,   51,   46,   33,   24],\n",
              "       [  39,   93,   44,   81,   14],\n",
              "       [  67,   90,   41,   38,   43],\n",
              "       [  13,   22,   21,   16,   23],\n",
              "       [  29,   21,   42,    9,   60],\n",
              "       [  40,   10,   98,   21,   85],\n",
              "       [  99,   28,   82,    7,   11],\n",
              "       [  58,    2,   53,   80,   68]])"
            ]
          },
          "metadata": {},
          "execution_count": 156
        }
      ]
    },
    {
      "cell_type": "code",
      "execution_count": null,
      "metadata": {
        "id": "650e8385"
      },
      "outputs": [],
      "source": [
        "B[:] = 2589"
      ],
      "id": "650e8385"
    },
    {
      "cell_type": "code",
      "execution_count": null,
      "metadata": {
        "id": "1ea1f463",
        "outputId": "18cdd1cd-5e02-49a1-ba28-85b8100143f3",
        "colab": {
          "base_uri": "https://localhost:8080/"
        }
      },
      "outputs": [
        {
          "output_type": "execute_result",
          "data": {
            "text/plain": [
              "array([[   4,    5,   66,   11,   42],\n",
              "       [  57,   46,    8,    6,   61],\n",
              "       [  84, 1000, 1000,   28,   22],\n",
              "       [  67, 1000, 1000,   46,   97],\n",
              "       [  87, 1000, 1000,   95,   86],\n",
              "       [  40,   69,   64,   68,   72],\n",
              "       [   9,   68,   71,   24,   43],\n",
              "       [  75,   76,   81,   28,   66],\n",
              "       [   7,   33,   91,   99,   97],\n",
              "       [  25,   87,   45,   76,   63],\n",
              "       [  96,   13,   22,   43,   77],\n",
              "       [  36,   37,   39,   53,   53],\n",
              "       [  44,   51,   46,   33,   24],\n",
              "       [  39,   93,   44,   81,   14],\n",
              "       [  67,   90,   41,   38,   43],\n",
              "       [  13,   22,   21,   16,   23],\n",
              "       [  29,   21,   42,    9,   60],\n",
              "       [  40,   10,   98,   21,   85],\n",
              "       [  99,   28,   82,    7,   11],\n",
              "       [  58,    2,   53,   80,   68]])"
            ]
          },
          "metadata": {},
          "execution_count": 158
        }
      ],
      "source": [
        "ar"
      ],
      "id": "1ea1f463"
    },
    {
      "cell_type": "code",
      "execution_count": null,
      "metadata": {
        "id": "9d3b0a3d",
        "outputId": "483947d6-5eb6-426e-9e9a-8891d01c6698",
        "colab": {
          "base_uri": "https://localhost:8080/"
        }
      },
      "outputs": [
        {
          "output_type": "execute_result",
          "data": {
            "text/plain": [
              "array([[2589, 2589, 2589, 2589, 2589],\n",
              "       [2589, 2589, 2589, 2589, 2589],\n",
              "       [2589, 2589, 2589, 2589, 2589],\n",
              "       [2589, 2589, 2589, 2589, 2589],\n",
              "       [2589, 2589, 2589, 2589, 2589],\n",
              "       [2589, 2589, 2589, 2589, 2589],\n",
              "       [2589, 2589, 2589, 2589, 2589],\n",
              "       [2589, 2589, 2589, 2589, 2589],\n",
              "       [2589, 2589, 2589, 2589, 2589],\n",
              "       [2589, 2589, 2589, 2589, 2589],\n",
              "       [2589, 2589, 2589, 2589, 2589],\n",
              "       [2589, 2589, 2589, 2589, 2589],\n",
              "       [2589, 2589, 2589, 2589, 2589],\n",
              "       [2589, 2589, 2589, 2589, 2589],\n",
              "       [2589, 2589, 2589, 2589, 2589],\n",
              "       [2589, 2589, 2589, 2589, 2589],\n",
              "       [2589, 2589, 2589, 2589, 2589],\n",
              "       [2589, 2589, 2589, 2589, 2589],\n",
              "       [2589, 2589, 2589, 2589, 2589],\n",
              "       [2589, 2589, 2589, 2589, 2589]])"
            ]
          },
          "metadata": {},
          "execution_count": 159
        }
      ],
      "source": [
        "B"
      ],
      "id": "9d3b0a3d"
    },
    {
      "cell_type": "markdown",
      "source": [
        "# **logical indexing in numpy **"
      ],
      "metadata": {
        "id": "r4hS4ivv-D7K"
      },
      "id": "r4hS4ivv-D7K"
    },
    {
      "cell_type": "code",
      "execution_count": null,
      "metadata": {
        "id": "90071366",
        "outputId": "e3376dee-b9b5-4161-ca45-7395ac814fff",
        "colab": {
          "base_uri": "https://localhost:8080/"
        }
      },
      "outputs": [
        {
          "output_type": "execute_result",
          "data": {
            "text/plain": [
              "array([[   4,    5,   66,   11,   42],\n",
              "       [  57,   46,    8,    6,   61],\n",
              "       [  84, 1000, 1000,   28,   22],\n",
              "       [  67, 1000, 1000,   46,   97],\n",
              "       [  87, 1000, 1000,   95,   86],\n",
              "       [  40,   69,   64,   68,   72],\n",
              "       [   9,   68,   71,   24,   43],\n",
              "       [  75,   76,   81,   28,   66],\n",
              "       [   7,   33,   91,   99,   97],\n",
              "       [  25,   87,   45,   76,   63],\n",
              "       [  96,   13,   22,   43,   77],\n",
              "       [  36,   37,   39,   53,   53],\n",
              "       [  44,   51,   46,   33,   24],\n",
              "       [  39,   93,   44,   81,   14],\n",
              "       [  67,   90,   41,   38,   43],\n",
              "       [  13,   22,   21,   16,   23],\n",
              "       [  29,   21,   42,    9,   60],\n",
              "       [  40,   10,   98,   21,   85],\n",
              "       [  99,   28,   82,    7,   11],\n",
              "       [  58,    2,   53,   80,   68]])"
            ]
          },
          "metadata": {},
          "execution_count": 160
        }
      ],
      "source": [
        "ar"
      ],
      "id": "90071366"
    },
    {
      "cell_type": "code",
      "execution_count": null,
      "metadata": {
        "id": "c9834947",
        "outputId": "5d741166-eca0-4277-c7fc-ef1fc3ec6128",
        "colab": {
          "base_uri": "https://localhost:8080/"
        }
      },
      "outputs": [
        {
          "output_type": "execute_result",
          "data": {
            "text/plain": [
              "array([[False, False,  True, False,  True],\n",
              "       [ True,  True, False, False,  True],\n",
              "       [ True,  True,  True, False, False],\n",
              "       [ True,  True,  True,  True,  True],\n",
              "       [ True,  True,  True,  True,  True],\n",
              "       [False,  True,  True,  True,  True],\n",
              "       [False,  True,  True, False,  True],\n",
              "       [ True,  True,  True, False,  True],\n",
              "       [False, False,  True,  True,  True],\n",
              "       [False,  True,  True,  True,  True],\n",
              "       [ True, False, False,  True,  True],\n",
              "       [False, False, False,  True,  True],\n",
              "       [ True,  True,  True, False, False],\n",
              "       [False,  True,  True,  True, False],\n",
              "       [ True,  True,  True, False,  True],\n",
              "       [False, False, False, False, False],\n",
              "       [False, False,  True, False,  True],\n",
              "       [False, False,  True, False,  True],\n",
              "       [ True, False,  True, False, False],\n",
              "       [ True, False,  True,  True,  True]])"
            ]
          },
          "metadata": {},
          "execution_count": 162
        }
      ],
      "source": [
        "ar>40"
      ],
      "id": "c9834947"
    },
    {
      "cell_type": "code",
      "execution_count": null,
      "metadata": {
        "id": "8393a894",
        "outputId": "afbe9e1f-6a0b-46bd-8cb4-7dc984845b11",
        "colab": {
          "base_uri": "https://localhost:8080/"
        }
      },
      "outputs": [
        {
          "output_type": "execute_result",
          "data": {
            "text/plain": [
              "array([  66,   42,   57,   46,   61,   84, 1000, 1000,   67, 1000, 1000,\n",
              "         46,   97,   87, 1000, 1000,   95,   86,   69,   64,   68,   72,\n",
              "         68,   71,   43,   75,   76,   81,   66,   91,   99,   97,   87,\n",
              "         45,   76,   63,   96,   43,   77,   53,   53,   44,   51,   46,\n",
              "         93,   44,   81,   67,   90,   41,   43,   42,   60,   98,   85,\n",
              "         99,   82,   58,   53,   80,   68])"
            ]
          },
          "metadata": {},
          "execution_count": 163
        }
      ],
      "source": [
        "ar[ar>40]"
      ],
      "id": "8393a894"
    },
    {
      "cell_type": "code",
      "execution_count": null,
      "metadata": {
        "id": "96cee659",
        "outputId": "131d48dc-bf87-4ce8-e8af-991f07acb0a0",
        "colab": {
          "base_uri": "https://localhost:8080/"
        }
      },
      "outputs": [
        {
          "output_type": "execute_result",
          "data": {
            "text/plain": [
              "array([1000, 1000, 1000, 1000, 1000, 1000])"
            ]
          },
          "metadata": {},
          "execution_count": 164
        }
      ],
      "source": [
        "ar[ar > 900]"
      ],
      "id": "96cee659"
    },
    {
      "cell_type": "code",
      "execution_count": null,
      "metadata": {
        "id": "245fbfda",
        "outputId": "5befb5f1-48d2-490f-c7a7-6fb69734ca3d",
        "colab": {
          "base_uri": "https://localhost:8080/",
          "height": 170
        }
      },
      "outputs": [
        {
          "output_type": "error",
          "ename": "ValueError",
          "evalue": "ignored",
          "traceback": [
            "\u001b[0;31m---------------------------------------------------------------------------\u001b[0m",
            "\u001b[0;31mValueError\u001b[0m                                Traceback (most recent call last)",
            "\u001b[0;32m<ipython-input-168-6cce5b4cc1ce>\u001b[0m in \u001b[0;36m<cell line: 1>\u001b[0;34m()\u001b[0m\n\u001b[0;32m----> 1\u001b[0;31m \u001b[0mar\u001b[0m\u001b[0;34m[\u001b[0m\u001b[0;34m(\u001b[0m\u001b[0mar\u001b[0m \u001b[0;34m>\u001b[0m \u001b[0;36m20\u001b[0m\u001b[0;34m)\u001b[0m \u001b[0;32mand\u001b[0m \u001b[0;34m(\u001b[0m\u001b[0mar\u001b[0m\u001b[0;34m<\u001b[0m \u001b[0;36m50\u001b[0m\u001b[0;34m)\u001b[0m\u001b[0;34m]\u001b[0m\u001b[0;34m\u001b[0m\u001b[0;34m\u001b[0m\u001b[0m\n\u001b[0m",
            "\u001b[0;31mValueError\u001b[0m: The truth value of an array with more than one element is ambiguous. Use a.any() or a.all()"
          ]
        }
      ],
      "source": [
        "ar[(ar > 20) and (ar< 50)]"
      ],
      "id": "245fbfda"
    },
    {
      "cell_type": "code",
      "execution_count": null,
      "metadata": {
        "id": "fe6ad0c3",
        "outputId": "19f3cfb8-8b51-4be0-839a-88bc6bb0a45b",
        "colab": {
          "base_uri": "https://localhost:8080/"
        }
      },
      "outputs": [
        {
          "output_type": "execute_result",
          "data": {
            "text/plain": [
              "array([42, 46, 28, 22, 46, 40, 24, 43, 28, 33, 25, 45, 22, 43, 36, 37, 39,\n",
              "       44, 46, 33, 24, 39, 44, 41, 38, 43, 22, 21, 23, 29, 21, 42, 40, 21,\n",
              "       28])"
            ]
          },
          "metadata": {},
          "execution_count": 169
        }
      ],
      "source": [
        "ar[(ar > 20) & (ar < 50)]"
      ],
      "id": "fe6ad0c3"
    },
    {
      "cell_type": "markdown",
      "source": [
        "#42: np.logical_and\n",
        "[np.logical_and document](https://numpy.org/doc/stable/reference/generated/numpy.logical_and.html)\n",
        "\n",
        "Compute the truth value of x1 AND x2 element-wise.\n",
        "\n"
      ],
      "metadata": {
        "id": "A7Drko3c-Pr9"
      },
      "id": "A7Drko3c-Pr9"
    },
    {
      "cell_type": "code",
      "execution_count": null,
      "metadata": {
        "id": "a0cbe713",
        "outputId": "552f1709-712b-4e98-a46d-f9d3a449c42e",
        "colab": {
          "base_uri": "https://localhost:8080/"
        }
      },
      "outputs": [
        {
          "output_type": "execute_result",
          "data": {
            "text/plain": [
              "array([66, 42, 57, 46, 61, 67, 46, 40, 69, 64, 68, 72, 68, 71, 43, 66, 33,\n",
              "       45, 63, 43, 36, 37, 39, 53, 53, 44, 51, 46, 33, 39, 44, 67, 41, 38,\n",
              "       43, 42, 60, 40, 58, 53, 68])"
            ]
          },
          "metadata": {},
          "execution_count": 170
        }
      ],
      "source": [
        "ar[np.logical_and(ar > 30 , ar < 75)]"
      ],
      "id": "a0cbe713"
    },
    {
      "cell_type": "markdown",
      "metadata": {
        "id": "fa50c226"
      },
      "source": [
        "#43: np.all\n",
        "[np.all document](https://numpy.org/doc/stable/reference/generated/numpy.all.html)\n",
        "\n",
        "Test whether all array elements along a given axis evaluate to True."
      ],
      "id": "fa50c226"
    },
    {
      "cell_type": "code",
      "execution_count": null,
      "metadata": {
        "id": "81d61e29",
        "colab": {
          "base_uri": "https://localhost:8080/"
        },
        "outputId": "7ee1853a-7d24-4aef-cbba-5e78d40d91d8"
      },
      "outputs": [
        {
          "output_type": "stream",
          "name": "stdout",
          "text": [
            "Original array:\n",
            "[1 2 3 4]\n",
            "Test if none of the elements of the said array is zero:\n",
            "True\n",
            "Original array:\n",
            "[0 1 2 3]\n",
            "Test if none of the elements of the said array is zero:\n",
            "False\n"
          ]
        }
      ],
      "source": [
        "x = np.array([1, 2, 3, 4])\n",
        "print(np.all(x))\n",
        "x = np.array([0, 1, 2, 3])\n",
        "print(np.all(x))"
      ],
      "id": "81d61e29"
    },
    {
      "cell_type": "markdown",
      "metadata": {
        "id": "1a37cb68"
      },
      "source": [
        "#44: np.any\n",
        "[np.any document](https://numpy.org/doc/stable/reference/generated/numpy.any.html)\n",
        "\n",
        "Test whether any array element along a given axis evaluates to True.\n",
        "Returns single boolean if axis is None"
      ],
      "id": "1a37cb68"
    },
    {
      "cell_type": "code",
      "execution_count": null,
      "metadata": {
        "id": "26681687",
        "colab": {
          "base_uri": "https://localhost:8080/"
        },
        "outputId": "82dc6d5c-37e5-4990-d3c9-1ba12064d1da"
      },
      "outputs": [
        {
          "output_type": "stream",
          "name": "stdout",
          "text": [
            "Original array:\n",
            "[1 0 0 0]\n",
            "Test whether any of the elements of a given array is non-zero:\n",
            "True\n",
            "Original array:\n",
            "[0 0 0 0]\n",
            "Test whether any of the elements of a given array is non-zero:\n",
            "False\n"
          ]
        }
      ],
      "source": [
        "x = np.array([1, 0, 0, 0])\n",
        "print(np.any(x))\n",
        "x = np.array([0, 0, 0, 0])\n",
        "print(np.any(x))"
      ],
      "id": "26681687"
    },
    {
      "cell_type": "markdown",
      "metadata": {
        "id": "3299d397"
      },
      "source": [
        "#45: np.isfinite\n",
        "\n",
        "[np.isfinite document](https://numpy.org/doc/stable/reference/generated/numpy.isfinite.html)\n",
        "\n",
        "Test element-wise for finiteness (not infinity and not Not a Number).\n",
        "\n",
        "The result is returned as a boolean array."
      ],
      "id": "3299d397"
    },
    {
      "cell_type": "code",
      "execution_count": null,
      "metadata": {
        "id": "239cd3dd",
        "colab": {
          "base_uri": "https://localhost:8080/"
        },
        "outputId": "0b4efb43-d1c3-4604-af35-4e20b9316822"
      },
      "outputs": [
        {
          "output_type": "stream",
          "name": "stdout",
          "text": [
            "Original array\n",
            "[ 1.  0. nan inf]\n",
            "Test a given array element-wise for finiteness :\n",
            "[ True  True False False]\n"
          ]
        }
      ],
      "source": [
        "a = np.array([1, 0, np.nan, np.inf])\n",
        "print(a)\n",
        "print(np.isfinite(a))"
      ],
      "id": "239cd3dd"
    },
    {
      "cell_type": "markdown",
      "metadata": {
        "id": "d75e7ac2"
      },
      "source": [
        "#46: np.isnan\n",
        "\n",
        "[np.isnan document](https://numpy.org/doc/stable/reference/generated/numpy.isnan.html)\n",
        "\n",
        "Test element-wise for NaN and return result as a boolean array."
      ],
      "id": "d75e7ac2"
    },
    {
      "cell_type": "code",
      "execution_count": null,
      "metadata": {
        "id": "4d70a282",
        "outputId": "e5838921-14fb-4b30-8340-fa98a33af74d",
        "colab": {
          "base_uri": "https://localhost:8080/"
        }
      },
      "outputs": [
        {
          "output_type": "stream",
          "name": "stdout",
          "text": [
            "Original array\n",
            "[ 1.  0. nan inf]\n",
            "Test element-wise for NaN:\n",
            "[False False  True False]\n"
          ]
        }
      ],
      "source": [
        "a = np.array([1, 0, np.nan, np.inf])\n",
        "print(np.isnan(a))"
      ],
      "id": "4d70a282"
    },
    {
      "cell_type": "markdown",
      "metadata": {
        "id": "a0eff0a2"
      },
      "source": [
        "#47: np.iscomplex\n",
        "#48: np.isreal\n",
        "#49:np.isscalar\n",
        "[np.iscomplex document](https://numpy.org/doc/stable/reference/generated/numpy.iscomplex.html)\n",
        "\n",
        "Returns a bool array, where True if input element is complex.\n",
        "\n",
        "What is tested is whether the input has a non-zero imaginary part, not if the input type is complex."
      ],
      "id": "a0eff0a2"
    },
    {
      "cell_type": "code",
      "execution_count": null,
      "metadata": {
        "id": "22e84fd2",
        "colab": {
          "base_uri": "https://localhost:8080/"
        },
        "outputId": "f00bd367-880a-40fc-cdcb-b0bdf3a58eb0"
      },
      "outputs": [
        {
          "output_type": "stream",
          "name": "stdout",
          "text": [
            "Original array\n",
            "[1. +1.j 1. +0.j 4.5+0.j 3. +0.j 2. +0.j 0. +2.j]\n",
            "Checking for complex number:\n",
            "[ True False False False False  True]\n",
            "Checking for real number:\n",
            "[False  True  True  True  True False]\n",
            "Checking for scalar type:\n",
            "True\n",
            "False\n"
          ]
        }
      ],
      "source": [
        "a = np.array([1+1j, 1+0j, 4.5, 3, 2, 2j])\n",
        "print(a)\n",
        "print(np.iscomplex(a))\n",
        "print(\"Checking for real number:\")\n",
        "print(np.isreal(a))\n",
        "print(\"Checking for scalar type:\")\n",
        "print(np.isscalar(3.1))\n",
        "print(np.isscalar([3.1]))"
      ],
      "id": "22e84fd2"
    },
    {
      "cell_type": "markdown",
      "source": [
        "#50: np.isclose\n",
        "\n",
        "[np.isclose](https://numpy.org/doc/stable/reference/generated/numpy.isclose.html)\n",
        "\n",
        "Returns a boolean array where two arrays are element-wise equal within a tolerance.\n",
        "\n",
        "The tolerance values are positive, typically very small numbers. The relative difference (rtol * abs(b)) and the absolute difference atol are added together to compare against the absolute difference between a and b."
      ],
      "metadata": {
        "id": "5a0wTjW5Cdek"
      },
      "id": "5a0wTjW5Cdek"
    },
    {
      "cell_type": "code",
      "execution_count": null,
      "metadata": {
        "id": "748dc8d0",
        "colab": {
          "base_uri": "https://localhost:8080/"
        },
        "outputId": "21a46a90-32b1-42a9-f094-a729e5ee7f8d"
      },
      "outputs": [
        {
          "output_type": "stream",
          "name": "stdout",
          "text": [
            "Test if two arrays are element-wise equal within a tolerance:\n",
            "False\n",
            "True\n",
            "False\n",
            "False\n",
            "True\n"
          ]
        }
      ],
      "source": [
        "print(np.allclose([1e10,1e-7], [1.00001e10,1e-8]))\n",
        "print(np.allclose([1e10,1e-8], [1.00001e10,1e-9]))\n",
        "print(np.allclose([1e10,1e-8], [1.0001e10,1e-9]))\n",
        "print(np.allclose([1.0, np.nan], [1.0, np.nan]))\n",
        "print(np.allclose([1.0, np.nan], [1.0, np.nan], equal_nan=True))"
      ],
      "id": "748dc8d0"
    },
    {
      "cell_type": "markdown",
      "source": [
        "##51: np.greater\n",
        "##52:np.greater_equal\n",
        "##53 np.less\n",
        "##54:np.less_equal"
      ],
      "metadata": {
        "id": "B9DysLKoDC_D"
      },
      "id": "B9DysLKoDC_D"
    },
    {
      "cell_type": "code",
      "execution_count": null,
      "metadata": {
        "id": "b1a6d9b2",
        "outputId": "ad2bd20f-652a-4c4b-d40f-49c0dde64edb",
        "colab": {
          "base_uri": "https://localhost:8080/"
        }
      },
      "outputs": [
        {
          "output_type": "stream",
          "name": "stdout",
          "text": [
            "Original numbers:\n",
            "[3 5]\n",
            "[2 5]\n",
            "Comparison - greater\n",
            "[ True False]\n",
            "Comparison - greater_equal\n",
            "[ True  True]\n",
            "Comparison - less\n",
            "[False False]\n",
            "Comparison - less_equal\n",
            "[False  True]\n"
          ]
        }
      ],
      "source": [
        "x = np.array([3, 5])\n",
        "y = np.array([2, 5])\n",
        "print(np.greater(x, y))\n",
        "print(np.greater_equal(x, y))\n",
        "print(np.less(x, y))\n",
        "print(np.less_equal(x, y))"
      ],
      "id": "b1a6d9b2"
    },
    {
      "cell_type": "markdown",
      "source": [
        "#55:np.size\n",
        "#56:np.itemsize"
      ],
      "metadata": {
        "id": "HNXA9OWrD5RO"
      },
      "id": "HNXA9OWrD5RO"
    },
    {
      "cell_type": "code",
      "execution_count": null,
      "metadata": {
        "id": "d2f07fc0",
        "colab": {
          "base_uri": "https://localhost:8080/"
        },
        "outputId": "95254c15-7adf-4cbb-a597-bd2e4f6a40bc"
      },
      "outputs": [
        {
          "output_type": "stream",
          "name": "stdout",
          "text": [
            "Original array:\n",
            "[  1   7  13 105]\n",
            "Size of the memory occupied by the said array:\n",
            "32 bytes\n"
          ]
        }
      ],
      "source": [
        "X = np.array([1, 7, 13, 105])\n",
        "print(\"%d bytes\" % (X.size * X.itemsize))"
      ],
      "id": "d2f07fc0"
    },
    {
      "cell_type": "markdown",
      "metadata": {
        "id": "0e79f7af"
      },
      "source": [
        "#57: np.nditer\n",
        "[np.nditer document](https://numpy.org/doc/stable/reference/generated/numpy.nditer.html)\n",
        "\n",
        "Efficient multi-dimensional iterator object to iterate over arrays. To get started using this object, see the introductory guide to array iteration.\n",
        "\n",
        "** Example:**\n",
        "NumPy: Create a 3X4 array using and iterate over it\n"
      ],
      "id": "0e79f7af"
    },
    {
      "cell_type": "code",
      "execution_count": null,
      "metadata": {
        "id": "ae8803fc",
        "colab": {
          "base_uri": "https://localhost:8080/"
        },
        "outputId": "32aac9c1-ccbe-474c-b2dd-3613960e003a"
      },
      "outputs": [
        {
          "output_type": "stream",
          "name": "stdout",
          "text": [
            "Original array:\n",
            "[[10 11 12 13]\n",
            " [14 15 16 17]\n",
            " [18 19 20 21]]\n",
            "Each element of the array is:\n",
            "10 11 12 13 14 15 16 17 18 19 20 21 "
          ]
        }
      ],
      "source": [
        "a = np.arange(10,22).reshape((3, 4))\n",
        "print(a)\n",
        "for x in np.nditer(a):\n",
        "  print(x,end=\" \")"
      ],
      "id": "ae8803fc"
    },
    {
      "cell_type": "markdown",
      "source": [
        "#58: np.sort\n",
        "[np.sort document](https://numpy.org/doc/stable/reference/generated/numpy.sort.html)\n",
        "\n",
        "Return a sorted copy of an array."
      ],
      "metadata": {
        "id": "hHmlKpQ6GoAJ"
      },
      "id": "hHmlKpQ6GoAJ"
    },
    {
      "cell_type": "code",
      "execution_count": null,
      "metadata": {
        "id": "366122fc",
        "outputId": "3fe05fbd-7d29-4b4d-8485-06d98e4cdc69",
        "colab": {
          "base_uri": "https://localhost:8080/"
        }
      },
      "outputs": [
        {
          "output_type": "stream",
          "name": "stdout",
          "text": [
            "Original array:\n",
            "[[5.54 3.38 7.99]\n",
            " [3.54 4.38 6.99]\n",
            " [1.54 2.39 9.29]]\n",
            "\n",
            "Sort the said array by row in ascending order:\n",
            "[[3.38 5.54 7.99]\n",
            " [3.54 4.38 6.99]\n",
            " [1.54 2.39 9.29]]\n",
            "\n",
            "Sort the said array by column in ascending order:\n",
            "[[1.54 2.39 6.99]\n",
            " [3.54 3.38 7.99]\n",
            " [5.54 4.38 9.29]]\n"
          ]
        }
      ],
      "source": [
        "import numpy as np\n",
        "nums = np.array([[5.54, 3.38, 7.99],\n",
        "              [3.54, 4.38, 6.99],\n",
        "              [1.54, 2.39, 9.29]])\n",
        "print(\"Original array:\")\n",
        "print(nums)\n",
        "print(\"\\nSort the said array by row in ascending order:\")\n",
        "print(np.sort(nums))\n",
        "print(\"\\nSort the said array by column in ascending order:\")\n",
        "print(np.sort(nums, axis=0))"
      ],
      "id": "366122fc"
    },
    {
      "cell_type": "markdown",
      "source": [
        "#59: np.append\n",
        "[np.append document](https://numpy.org/doc/stable/reference/generated/numpy.append.html)\n",
        "\n",
        "Append values to the end of an array.\n"
      ],
      "metadata": {
        "id": "AZv2lMA0HN3_"
      },
      "id": "AZv2lMA0HN3_"
    },
    {
      "cell_type": "code",
      "execution_count": null,
      "metadata": {
        "id": "2950ad81",
        "outputId": "72ec333c-5f0c-44fb-fd26-e58710f8f4f3",
        "colab": {
          "base_uri": "https://localhost:8080/"
        }
      },
      "outputs": [
        {
          "output_type": "stream",
          "name": "stdout",
          "text": [
            "Original array:\n",
            "[10, 20, 30]\n",
            "After append values to the end of the array:\n",
            "[10 20 30 40 50 60 70 80 90]\n"
          ]
        }
      ],
      "source": [
        "x = [[10, 20, 30]\n",
        "     ,[40,50,60],\n",
        "      [70,80,90]]\n",
        "print(x)\n",
        "x = np.append(x, [[40, 50, 60], [70, 80, 90]])\n",
        "print(\"After append values to the end of the array:\")\n",
        "print(x)\n"
      ],
      "id": "2950ad81"
    },
    {
      "cell_type": "markdown",
      "source": [
        "#60: Vectorize function\n",
        "[np.Vectorize document ](https://numpy.org/doc/stable/reference/generated/numpy.vectorize.html)\n",
        "\n",
        "Returns an object that acts like pyfunc, but takes arrays as input.\n",
        "\n",
        "Define a vectorized function which takes a nested sequence of objects or numpy arrays as inputs and returns a single numpy array or a tuple of numpy arrays. The vectorized function evaluates pyfunc over successive tuples of the input arrays like the python map function, except it uses the broadcasting rules of numpy.\n",
        "\n",
        "The data type of the output of vectorized is determined by calling the function with the first element of the input. This can be avoided by specifying the otypes argument.\n",
        "\n"
      ],
      "metadata": {
        "id": "rEOsNAwGwzFt"
      },
      "id": "rEOsNAwGwzFt"
    },
    {
      "cell_type": "code",
      "execution_count": null,
      "metadata": {
        "id": "c2258ec8"
      },
      "outputs": [],
      "source": [
        "def myfunc(a, b):\n",
        "    \"Return a-b if a>b, otherwise return a+b\"\n",
        "    if a > b:\n",
        "        return a - b\n",
        "    else:\n",
        "        return a + b"
      ],
      "id": "c2258ec8"
    },
    {
      "cell_type": "code",
      "execution_count": null,
      "metadata": {
        "id": "564badb3",
        "outputId": "9c6892dc-8194-41a0-9d6e-d93dc935a8c2"
      },
      "outputs": [
        {
          "data": {
            "text/plain": [
              "array([3, 4, 1, 2])"
            ]
          },
          "execution_count": 46,
          "metadata": {},
          "output_type": "execute_result"
        }
      ],
      "source": [
        "vfunc = np.vectorize(myfunc)\n",
        "vfunc([1, 2, 3, 4], 2)"
      ],
      "id": "564badb3"
    },
    {
      "cell_type": "code",
      "execution_count": null,
      "metadata": {
        "id": "5349f80c"
      },
      "outputs": [],
      "source": [
        "import numpy as np\n",
        "Sum=0\n",
        "def add(a,b):\n",
        "  Sum=a+b\n",
        "  return sum\n",
        "Vecfunc=np.vectorize(add,otypes=[int])\n",
        "arr1=np.arange(1,20,4)\n",
        "arr2=np.arange(1,10,2)\n",
        "print(\"Array arr1: \",arr1)\n",
        "print(\"Array arr2: \",arr2)\n",
        "print(\"Sum of arr1 and arr2: \",Vecfunc(arr1,arr2))"
      ],
      "id": "5349f80c"
    },
    {
      "cell_type": "markdown",
      "source": [
        "#61: np.in1d\n",
        "\n",
        "[nd.in1d document](https://numpy.org/doc/stable/reference/generated/numpy.in1d.html)\n",
        "\n",
        "Test whether each element of a 1-D array is also present in a second array.\n",
        "\n",
        "Returns a boolean array the same length as ar1 that is True where an element of ar1 is in ar2 and False otherwise."
      ],
      "metadata": {
        "id": "kvZyuNohJjLh"
      },
      "id": "kvZyuNohJjLh"
    },
    {
      "cell_type": "code",
      "execution_count": null,
      "metadata": {
        "id": "c51684dc",
        "outputId": "23092d68-ede1-4358-f35e-9089288c3669",
        "colab": {
          "base_uri": "https://localhost:8080/"
        }
      },
      "outputs": [
        {
          "output_type": "stream",
          "name": "stdout",
          "text": [
            "Array1:  [ 0 10 20 40 60]\n",
            "Array2:  [0, 40]\n",
            "Compare each element of array1 and array2\n",
            "[ True False False  True False]\n"
          ]
        }
      ],
      "source": [
        "import numpy as np\n",
        "array1 = np.array([0, 10, 20, 40, 60])\n",
        "print(\"Array1: \",array1)\n",
        "array2 = [0, 40]\n",
        "print(\"Array2: \",array2)\n",
        "print(\"Compare each element of array1 and array2\")\n",
        "print(np.in1d(array1, array2))\n"
      ],
      "id": "c51684dc"
    },
    {
      "cell_type": "markdown",
      "source": [
        "#62:np.intersect1d\n",
        "[np.intersect1d document](https://numpy.org/doc/stable/reference/generated/numpy.intersect1d.html)\n",
        "\n",
        "numpy.intersect1d(ar1, ar2, assume_unique=False, return_indices=False)[source]\n",
        "Find the intersection of two arrays.\n",
        "\n",
        "Return the sorted, unique values that are in both of the input arrays."
      ],
      "metadata": {
        "id": "SN8tYUHTKR1N"
      },
      "id": "SN8tYUHTKR1N"
    },
    {
      "cell_type": "code",
      "execution_count": null,
      "metadata": {
        "id": "c41c07e4",
        "colab": {
          "base_uri": "https://localhost:8080/"
        },
        "outputId": "4065e74e-af63-47f3-d549-4be99bcc3c66"
      },
      "outputs": [
        {
          "output_type": "stream",
          "name": "stdout",
          "text": [
            "Array1:  [ 0 10 20 40 60]\n",
            "Array2:  [10, 30, 40]\n",
            "Common values between two arrays:\n",
            "[10 40]\n"
          ]
        }
      ],
      "source": [
        "import numpy as np\n",
        "array1 = np.array([0, 10, 20, 40, 60])\n",
        "print(\"Array1: \",array1)\n",
        "array2 = [10, 30, 40]\n",
        "print(\"Array2: \",array2)\n",
        "print(\"Common values between two arrays:\")\n",
        "print(np.intersect1d(array1, array2))\n"
      ],
      "id": "c41c07e4"
    },
    {
      "cell_type": "markdown",
      "source": [
        "#63: np.unique\n",
        "[np.unique document](https://numpy.org/doc/stable/reference/generated/numpy.unique.html)\n",
        "\n",
        "Find the unique elements of an array.\n",
        "\n",
        "Returns the sorted unique elements of an array. There are three optional outputs in addition to the unique elements:\n",
        "\n",
        "the indices of the input array that give the unique values\n",
        "\n",
        "the indices of the unique array that reconstruct the input array\n",
        "\n",
        "the number of times each unique value comes up in the input array"
      ],
      "metadata": {
        "id": "tvYh56iQLAlR"
      },
      "id": "tvYh56iQLAlR"
    },
    {
      "cell_type": "code",
      "execution_count": null,
      "metadata": {
        "id": "f1ece3dd",
        "outputId": "ef4e3cb3-6c02-4bd1-cf24-e57d67a58a0c",
        "colab": {
          "base_uri": "https://localhost:8080/"
        }
      },
      "outputs": [
        {
          "output_type": "stream",
          "name": "stdout",
          "text": [
            "Original array:\n",
            "[10 10 20 20 30 30]\n",
            "Unique elements of the above array:\n",
            "[10 20 30]\n",
            "Original array:\n",
            "[[1 1]\n",
            " [2 3]]\n",
            "Unique elements of the above array:\n",
            "[1 2 3]\n"
          ]
        }
      ],
      "source": [
        "import numpy as np\n",
        "x = np.array([10, 10, 20, 20, 30, 30])\n",
        "print(\"Original array:\")\n",
        "print(x)\n",
        "print(\"Unique elements of the above array:\")\n",
        "print(np.unique(x))\n",
        "x = np.array([[1, 1], [2, 3]])\n",
        "print(\"Original array:\")\n",
        "print(x)\n",
        "print(\"Unique elements of the above array:\")\n",
        "print(np.unique(x))\n"
      ],
      "id": "f1ece3dd"
    },
    {
      "cell_type": "markdown",
      "source": [
        "#64: np.setdiff1d\n",
        "[np.setdiff1d document](https://numpy.org/doc/stable/reference/generated/numpy.setdiff1d.html)\n",
        "\n",
        "Find the set difference of two arrays.\n",
        "\n",
        "Return the unique values in ar1 that are not in ar2."
      ],
      "metadata": {
        "id": "V0G4ygbFLiyc"
      },
      "id": "V0G4ygbFLiyc"
    },
    {
      "cell_type": "code",
      "execution_count": null,
      "metadata": {
        "id": "92241362",
        "outputId": "170464a9-e26f-4a59-bc1b-597514252134",
        "colab": {
          "base_uri": "https://localhost:8080/"
        }
      },
      "outputs": [
        {
          "output_type": "stream",
          "name": "stdout",
          "text": [
            "Array1:  [ 0 10 20 40 60 80]\n",
            "Array2:  [10, 30, 40, 50, 70]\n",
            "Unique values in array1 that are not in array2:\n",
            "[ 0 20 60 80]\n"
          ]
        }
      ],
      "source": [
        "import numpy as np\n",
        "array1 = np.array([0, 10, 20, 40, 60, 80])\n",
        "print(\"Array1: \",array1)\n",
        "array2 = [10, 30, 40, 50, 70]\n",
        "print(\"Array2: \",array2)\n",
        "print(\"Unique values in array1 that are not in array2:\")\n",
        "print(np.setdiff1d(array1, array2))\n"
      ],
      "id": "92241362"
    },
    {
      "cell_type": "markdown",
      "source": [
        "#65: np.setxor1d\n",
        "[np.setxor1d](https://numpy.org/doc/stable/reference/generated/numpy.setxor1d.html)\n",
        "\n",
        "Find the set exclusive-or of two arrays.\n",
        "\n",
        "Return the sorted, unique values that are in only one (not both) of the input arrays.\n",
        "\n",
        "\n"
      ],
      "metadata": {
        "id": "harqGf_vMW5s"
      },
      "id": "harqGf_vMW5s"
    },
    {
      "cell_type": "code",
      "execution_count": null,
      "metadata": {
        "id": "c883f00a",
        "outputId": "5fa09021-bc46-45bf-e784-d8db3ad143ae",
        "colab": {
          "base_uri": "https://localhost:8080/"
        }
      },
      "outputs": [
        {
          "output_type": "stream",
          "name": "stdout",
          "text": [
            "Array1:  [ 0 10 20 40 60 80]\n",
            "Array2:  [10, 30, 40, 50, 70]\n",
            "Unique values that are in only one (not both) of the input arrays:\n",
            "[ 0 20 30 50 60 70 80]\n"
          ]
        }
      ],
      "source": [
        "import numpy as np\n",
        "array1 = np.array([0, 10, 20, 40, 60, 80])\n",
        "print(\"Array1: \",array1)\n",
        "array2 = [10, 30, 40, 50, 70]\n",
        "print(\"Array2: \",array2)\n",
        "print(\"Unique values that are in only one (not both) of the input arrays:\")\n",
        "print(np.setxor1d(array1, array2))\n"
      ],
      "id": "c883f00a"
    },
    {
      "cell_type": "markdown",
      "source": [
        "#66: np.union1d\n",
        "[np.union1d document](https://numpy.org/doc/stable/reference/generated/numpy.union1d.html)\n",
        "\n",
        "Find the union of two arrays.\n",
        "\n",
        "Return the unique, sorted array of values that are in either of the two input arrays.\n",
        "\n",
        "\n"
      ],
      "metadata": {
        "id": "42r4M-ZJNBcR"
      },
      "id": "42r4M-ZJNBcR"
    },
    {
      "cell_type": "code",
      "execution_count": null,
      "metadata": {
        "id": "2e219970",
        "outputId": "1799be1e-bf0c-4e52-b548-84c1f891021b",
        "colab": {
          "base_uri": "https://localhost:8080/"
        }
      },
      "outputs": [
        {
          "output_type": "stream",
          "name": "stdout",
          "text": [
            "Array1:  [ 0 10 20 40 60 80]\n",
            "Array2:  [10, 30, 40, 50, 70]\n",
            "Unique sorted array of values that are in either of the two input arrays:\n",
            "[ 0 10 20 30 40 50 60 70 80]\n"
          ]
        }
      ],
      "source": [
        "import numpy as np\n",
        "array1 = np.array([0, 10, 20, 40, 60, 80])\n",
        "print(\"Array1: \",array1)\n",
        "array2 = [10, 30, 40, 50, 70]\n",
        "print(\"Array2: \",array2)\n",
        "print(\"Unique sorted array of values that are in either of the two input arrays:\")\n",
        "print(np.union1d(array1, array2))\n"
      ],
      "id": "2e219970"
    },
    {
      "cell_type": "markdown",
      "source": [
        "#67: np.repeat\n",
        "\n",
        "[np.repeat document](https://numpy.org/doc/stable/reference/generated/numpy.repeat.html)\n",
        "\n",
        "Repeat each element of an array after themselves\n",
        "\n"
      ],
      "metadata": {
        "id": "AmURGzU9Nrt-"
      },
      "id": "AmURGzU9Nrt-"
    },
    {
      "cell_type": "code",
      "execution_count": null,
      "metadata": {
        "id": "5213e53b",
        "outputId": "608276a7-100c-4041-8662-c4316ff3e31e",
        "colab": {
          "base_uri": "https://localhost:8080/"
        }
      },
      "outputs": [
        {
          "output_type": "stream",
          "name": "stdout",
          "text": [
            "[3 3 3 3]\n",
            "[1 1 1 2 2 2 3 3 3 4 4 4]\n",
            "[[1 2 1 2 1 2]\n",
            " [3 4 3 4 3 4]]\n"
          ]
        }
      ],
      "source": [
        "import numpy as np\n",
        "x = np.repeat(3, 4)\n",
        "print(x)\n",
        "x = np.array([[1,2],[3,4]])\n",
        "print(np.repeat(x, 3))\n",
        "print(np.tile(x,3))\n"
      ],
      "id": "5213e53b"
    },
    {
      "cell_type": "markdown",
      "source": [
        "68: np.ravel\n",
        "[np.ravel document](https://numpy.org/doc/stable/reference/generated/numpy.ravel.html)\n",
        "\n",
        "Return a contiguous flattened array.\n",
        "\n",
        "A 1-D array, containing the elements of the input, is returned. A copy is made only if needed.\n",
        "\n",
        "As of NumPy 1.10, the returned array will have the same type as the input array. (for example, a masked array will be returned for a masked array input)\n",
        "\n"
      ],
      "metadata": {
        "id": "hSWSA2EcOr9m"
      },
      "id": "hSWSA2EcOr9m"
    },
    {
      "cell_type": "code",
      "execution_count": null,
      "metadata": {
        "id": "58c7449a",
        "colab": {
          "base_uri": "https://localhost:8080/"
        },
        "outputId": "b6d17321-be60-4bb8-99b9-ad217d81e996"
      },
      "outputs": [
        {
          "output_type": "stream",
          "name": "stdout",
          "text": [
            "Original array:\n",
            "[[10 20 30]\n",
            " [20 40 50]]\n",
            "New flattened array:\n",
            "[10 20 30 20 40 50]\n"
          ]
        }
      ],
      "source": [
        "x = np.array([[10, 20, 30], [20, 40, 50]])\n",
        "print(\"Original array:\")\n",
        "print(x)\n",
        "y = np.ravel(x)\n",
        "print(\"New flattened array:\")\n",
        "print(y)\n"
      ],
      "id": "58c7449a"
    },
    {
      "cell_type": "code",
      "execution_count": null,
      "metadata": {
        "id": "44bd2799",
        "outputId": "53bb4814-e1c7-4174-b4fa-b33055854f56",
        "colab": {
          "base_uri": "https://localhost:8080/"
        }
      },
      "outputs": [
        {
          "output_type": "stream",
          "name": "stdout",
          "text": [
            "3-D array:\n",
            "[[1. 0. 0.]\n",
            " [0. 1. 0.]\n",
            " [0. 0. 1.]]\n",
            "One dimension array:\n",
            "[1. 0. 0. 0. 1. 0. 0. 0. 1.]\n"
          ]
        }
      ],
      "source": [
        "x = np.eye(3)\n",
        "print(\"3-D array:\")\n",
        "print(x)\n",
        "f = np.ravel(x, order='F')\n",
        "print(\"One dimension array:\")\n",
        "print(f)\n"
      ],
      "id": "44bd2799"
    },
    {
      "cell_type": "markdown",
      "source": [
        "#69: np.diagflat\n",
        "\n",
        "[np.diagflat](https://numpy.org/doc/stable/reference/generated/numpy.diagflat.html)\n",
        "\n",
        "Create a two-dimensional array with the flattened input as a diagonal.\n"
      ],
      "metadata": {
        "id": "Q9PXq2v3P4GR"
      },
      "id": "Q9PXq2v3P4GR"
    },
    {
      "cell_type": "code",
      "execution_count": null,
      "metadata": {
        "id": "4f6413ef",
        "outputId": "b86c561a-0a81-4a55-9265-d3474ace563c",
        "colab": {
          "base_uri": "https://localhost:8080/"
        }
      },
      "outputs": [
        {
          "output_type": "stream",
          "name": "stdout",
          "text": [
            "[[4 0 0 0]\n",
            " [0 5 0 0]\n",
            " [0 0 6 0]\n",
            " [0 0 0 8]]\n"
          ]
        }
      ],
      "source": [
        "import numpy as np\n",
        "x =  np.diagflat([4, 5, 6, 8])\n",
        "print(x)\n"
      ],
      "id": "4f6413ef"
    },
    {
      "cell_type": "markdown",
      "source": [
        "#70: np.swapaxes\n",
        "[np.swapaxes document](https://numpy.org/doc/stable/reference/generated/numpy.swapaxes.html)\n",
        "\n",
        "Interchange two axes of an array.\n"
      ],
      "metadata": {
        "id": "rRt5e54aQiXn"
      },
      "id": "rRt5e54aQiXn"
    },
    {
      "cell_type": "code",
      "execution_count": null,
      "metadata": {
        "id": "2cd59681",
        "outputId": "76142f96-8a7d-4415-bbdb-ca1c5b00a02d",
        "colab": {
          "base_uri": "https://localhost:8080/"
        }
      },
      "outputs": [
        {
          "output_type": "stream",
          "name": "stdout",
          "text": [
            "[[1 2 3]]\n",
            "[[1]\n",
            " [2]\n",
            " [3]]\n"
          ]
        }
      ],
      "source": [
        "import numpy as np\n",
        "x = np.array([[1,2,3]])\n",
        "print(x)\n",
        "y =  np.swapaxes(x,0,1)\n",
        "print(y)\n"
      ],
      "id": "2cd59681"
    },
    {
      "cell_type": "markdown",
      "source": [
        "#71: np.hsplit\n",
        "[np.hsplit document](https://numpy.org/doc/stable/reference/generated/numpy.hsplit.html)\n",
        "\n",
        "Split an array into multiple sub-arrays horizontally (column-wise).\n",
        "\n"
      ],
      "metadata": {
        "id": "D69l96uxRHui"
      },
      "id": "D69l96uxRHui"
    },
    {
      "cell_type": "code",
      "execution_count": null,
      "metadata": {
        "id": "4bd4196c",
        "outputId": "093ac513-36f3-4ec1-e67d-b4b7e25923a3",
        "colab": {
          "base_uri": "https://localhost:8080/"
        }
      },
      "outputs": [
        {
          "output_type": "stream",
          "name": "stdout",
          "text": [
            "Original array: [[ 0  1  2  3]\n",
            " [ 4  5  6  7]\n",
            " [ 8  9 10 11]\n",
            " [12 13 14 15]]\n",
            "After splitting horizontally:\n",
            "[array([[ 0,  1],\n",
            "       [ 4,  5],\n",
            "       [ 8,  9],\n",
            "       [12, 13]]), array([[ 2,  3],\n",
            "       [ 6,  7],\n",
            "       [10, 11],\n",
            "       [14, 15]]), array([], shape=(4, 0), dtype=int64)]\n"
          ]
        }
      ],
      "source": [
        "import numpy as np\n",
        "x = np.arange(16).reshape((4, 4))\n",
        "print(\"Original array:\",x)\n",
        "print(\"After splitting horizontally:\")\n",
        "print(np.hsplit(x, [2, 6]))\n"
      ],
      "id": "4bd4196c"
    },
    {
      "cell_type": "markdown",
      "source": [
        "#72: np.count_nonzero\n",
        "[np.count_nonzero](https://numpy.org/doc/stable/reference/generated/numpy.count_nonzero.html)\n",
        "\n",
        "Counts the number of non-zero values in the array a."
      ],
      "metadata": {
        "id": "hydsE32oRyly"
      },
      "id": "hydsE32oRyly"
    },
    {
      "cell_type": "code",
      "execution_count": null,
      "metadata": {
        "id": "ea96fd5d",
        "outputId": "fb26468f-ad33-4900-9639-32c4eefeaaf4",
        "colab": {
          "base_uri": "https://localhost:8080/"
        }
      },
      "outputs": [
        {
          "output_type": "stream",
          "name": "stdout",
          "text": [
            "Original array:\n",
            "[[ 0 10 20]\n",
            " [20 30 40]]\n",
            "Number of non zero elements in the above array:\n",
            "5\n"
          ]
        }
      ],
      "source": [
        "import numpy as np\n",
        "x = np.array([[0, 10, 20], [20, 30, 40]])\n",
        "print(\"Original array:\")\n",
        "print(x)\n",
        "print(\"Number of non zero elements in the above array:\")\n",
        "print(np.count_nonzero(x))\n"
      ],
      "id": "ea96fd5d"
    },
    {
      "cell_type": "markdown",
      "source": [
        "#73: np.diff\n",
        "[np.diff document](https://numpy.org/doc/stable/reference/generated/numpy.diff.html)\n",
        "\n",
        "numpy.diff(a, n=1, axis=-1, prepend=<no value>, append=<no value>)[source]\n",
        "Calculate the n-th discrete difference along the given axis.\n",
        "\n",
        "The first difference is given by out[i] = a[i+1] - a[i] along the given axis, higher differences are calculated by using diff recursively."
      ],
      "metadata": {
        "id": "caShIrjpT39m"
      },
      "id": "caShIrjpT39m"
    },
    {
      "cell_type": "code",
      "execution_count": null,
      "metadata": {
        "id": "cf865f4c",
        "outputId": "bd1b88c0-135d-4ed4-c985-19958857f385"
      },
      "outputs": [
        {
          "name": "stdout",
          "output_type": "stream",
          "text": [
            "Original array: \n",
            "[1 3 5 7 0]\n",
            "Difference between neighboring elements, element-wise of the said array.\n",
            "[ 2  2  2 -7]\n"
          ]
        }
      ],
      "source": [
        "import numpy as np\n",
        "x = np.array([1, 3, 5, 7, 0])\n",
        "print(\"Original array: \")\n",
        "print(x)\n",
        "print(\"Difference between neighboring elements, element-wise of the said array.\")\n",
        "print(np.diff(x))\n"
      ],
      "id": "cf865f4c"
    },
    {
      "cell_type": "markdown",
      "source": [
        "#74: np.rint\n",
        "[np.rint document](https://numpy.org/doc/stable/reference/generated/numpy.rint.html)\n",
        "\n",
        "Round elements of the array to the nearest integer.\n"
      ],
      "metadata": {
        "id": "SNqKAWSsUW7T"
      },
      "id": "SNqKAWSsUW7T"
    },
    {
      "cell_type": "code",
      "execution_count": null,
      "metadata": {
        "id": "a0cbee63",
        "outputId": "2b94ad29-af49-4647-cf57-f7dcc483d2e2"
      },
      "outputs": [
        {
          "name": "stdout",
          "output_type": "stream",
          "text": [
            "Original array:\n",
            "[-0.7 -1.5 -1.7  0.3  1.5  1.8  2. ]\n",
            "Round elements of the array to the nearest integer:\n",
            "[-1. -2. -2.  0.  2.  2.  2.]\n"
          ]
        }
      ],
      "source": [
        "import numpy as np\n",
        "x = np.array([-.7, -1.5, -1.7, 0.3, 1.5, 1.8, 2.0])\n",
        "print(\"Original array:\")\n",
        "print(x)\n",
        "x = np.rint(x)\n",
        "print(\"Round elements of the array to the nearest integer:\")\n",
        "print(x)\n"
      ],
      "id": "a0cbee63"
    },
    {
      "cell_type": "markdown",
      "source": [
        "#75: np.outer\n",
        "\n",
        "[np.outer document](https://numpy.org/doc/stable/reference/generated/numpy.outer.html)\n",
        "\n",
        "Compute the outer product of two vectors."
      ],
      "metadata": {
        "id": "WHyT768HVCy7"
      },
      "id": "WHyT768HVCy7"
    },
    {
      "cell_type": "code",
      "execution_count": null,
      "metadata": {
        "id": "b26efa66",
        "outputId": "cd95c8d8-eb7a-466b-8479-638da15465af",
        "colab": {
          "base_uri": "https://localhost:8080/"
        }
      },
      "outputs": [
        {
          "output_type": "stream",
          "name": "stdout",
          "text": [
            "original matrix:\n",
            "[[1, 0], [0, 1]]\n",
            "[[1, 2], [3, 4]]\n",
            "Outer product of the said two vectors:\n",
            "[[1 2 3 4]\n",
            " [0 0 0 0]\n",
            " [0 0 0 0]\n",
            " [1 2 3 4]]\n"
          ]
        }
      ],
      "source": [
        "import numpy as np\n",
        "p = [[1, 0], [0, 1]]\n",
        "q = [[1, 2], [3, 4]]\n",
        "print(\"original matrix:\")\n",
        "print(p)\n",
        "print(q)\n",
        "result = np.outer(p, q)\n",
        "print(\"Outer product of the said two vectors:\")\n",
        "print(result)"
      ],
      "id": "b26efa66"
    },
    {
      "cell_type": "markdown",
      "source": [
        "#76: np.cross\n",
        "[np.cross document](https://numpy.org/doc/stable/reference/generated/numpy.cross.html)\n",
        "\n",
        "Return the cross product of two (arrays of) vectors.\n",
        "\n",
        "The cross product of a and b in\n",
        " is a vector perpendicular to both a and b. If a and b are arrays of vectors, the vectors are defined by the last axis of a and b by default, and these axes can have dimensions 2 or 3. Where the dimension of either a or b is 2, the third component of the input vector is assumed to be zero and the cross product calculated accordingly. In cases where both input vectors have dimension 2, the z-component of the cross product is returned.\n",
        "\n"
      ],
      "metadata": {
        "id": "Swp7Q5ZVWONk"
      },
      "id": "Swp7Q5ZVWONk"
    },
    {
      "cell_type": "code",
      "execution_count": null,
      "metadata": {
        "id": "acece26b",
        "outputId": "e851b1d9-d968-42a0-c082-04372c30c290",
        "colab": {
          "base_uri": "https://localhost:8080/"
        }
      },
      "outputs": [
        {
          "output_type": "stream",
          "name": "stdout",
          "text": [
            "original matrix:\n",
            "[[1, 0], [0, 1]]\n",
            "[[1, 2], [3, 4]]\n",
            "cross product of the said two vectors(p, q):\n",
            "[ 2 -3]\n",
            "cross product of the said two vectors(q, p):\n",
            "[-2  3]\n"
          ]
        }
      ],
      "source": [
        "import numpy as np\n",
        "p = [[1, 0], [0, 1]]\n",
        "q = [[1, 2], [3, 4]]\n",
        "print(\"original matrix:\")\n",
        "print(p)\n",
        "print(q)\n",
        "result1 = np.cross(p, q)\n",
        "result2 = np.cross(q, p)\n",
        "print(\"cross product of the said two vectors(p, q):\")\n",
        "print(result1)\n",
        "print(\"cross product of the said two vectors(q, p):\")\n",
        "print(result2)\n"
      ],
      "id": "acece26b"
    },
    {
      "cell_type": "markdown",
      "metadata": {
        "id": "2698c33e"
      },
      "source": [
        "#77: np.linalg.det\n",
        "[np.linalg.det](https://numpy.org/doc/stable/reference/generated/numpy.cross.html)\n",
        "\n",
        "Compute the determinant of an array."
      ],
      "id": "2698c33e"
    },
    {
      "cell_type": "code",
      "execution_count": null,
      "metadata": {
        "id": "65ed154b",
        "outputId": "087479ec-3f17-450d-caed-00b4ec3c5bd1",
        "colab": {
          "base_uri": "https://localhost:8080/"
        }
      },
      "outputs": [
        {
          "output_type": "stream",
          "name": "stdout",
          "text": [
            "Original 2-d array\n",
            "[[1 0]\n",
            " [1 2]]\n",
            "Determinant of the said 2-D array:\n",
            "2.0\n"
          ]
        }
      ],
      "source": [
        "import numpy as np\n",
        "from numpy import linalg as LA\n",
        "a = np.array([[1, 0], [1, 2]])\n",
        "print(\"Original 2-d array\")\n",
        "print(a)\n",
        "print(\"Determinant of the said 2-D array:\")\n",
        "print(np.linalg.det(a))"
      ],
      "id": "65ed154b"
    },
    {
      "cell_type": "markdown",
      "metadata": {
        "id": "51b7f10c"
      },
      "source": [
        "#77: np.trace\n",
        "\n",
        "[np.trace document](https://numpy.org/doc/stable/reference/generated/numpy.trace.html)\n",
        "\n",
        "Return the sum along diagonals of the array.\n",
        "\n",
        "\n"
      ],
      "id": "51b7f10c"
    },
    {
      "cell_type": "code",
      "execution_count": null,
      "metadata": {
        "id": "b947b7fd",
        "outputId": "63796967-0473-49d8-ea4a-4f7931753785",
        "colab": {
          "base_uri": "https://localhost:8080/"
        }
      },
      "outputs": [
        {
          "output_type": "stream",
          "name": "stdout",
          "text": [
            "Original matrix:\n",
            "[[0 1 2]\n",
            " [3 4 5]]\n",
            "Condition number of the said matrix:\n",
            "4\n"
          ]
        }
      ],
      "source": [
        "import numpy as np\n",
        "m = np.arange(6).reshape(2,3)\n",
        "print(\"Original matrix:\")\n",
        "print(m)\n",
        "result =  np.trace(m)\n",
        "print(\"Condition number of the said matrix:\")\n",
        "print(result)"
      ],
      "id": "b947b7fd"
    },
    {
      "cell_type": "markdown",
      "source": [
        "#78: np.partition\n",
        "[np.partition document](https://numpy.org/doc/stable/reference/generated/numpy.partition.html)\n",
        "\n",
        "\n",
        "Return a partitioned copy of an array.\n",
        "\n",
        "Creates a copy of the array with its elements rearranged in such a way that the value of the element in k-th position is in the position the value would be in a sorted array. In the partitioned array, all elements before the k-th element are less than or equal to that element, and all the elements after the k-th element are greater than or equal to that element. The ordering of the elements in the two partitions is undefined."
      ],
      "metadata": {
        "id": "2-7n_BN7YPeu"
      },
      "id": "2-7n_BN7YPeu"
    },
    {
      "cell_type": "code",
      "execution_count": null,
      "metadata": {
        "id": "ca67f14b",
        "outputId": "0087bcee-6c72-47ec-bb15-ad1e95abaf03",
        "colab": {
          "base_uri": "https://localhost:8080/"
        }
      },
      "outputs": [
        {
          "output_type": "stream",
          "name": "stdout",
          "text": [
            "Original array:\n",
            "[ 70  50  20  30 -11  60  50  40]\n",
            "\n",
            "After partitioning on 4 the position:\n",
            "[-11  30  20  40  50  60  50  70]\n"
          ]
        }
      ],
      "source": [
        "import numpy as np\n",
        "nums = np.array([70, 50, 20, 30, -11, 60, 50, 40])\n",
        "print(\"Original array:\")\n",
        "print(nums)\n",
        "print(\"\\nAfter partitioning on 4 the position:\")\n",
        "print(np.partition(nums, 3))\n"
      ],
      "id": "ca67f14b"
    },
    {
      "cell_type": "markdown",
      "metadata": {
        "id": "6e5c8759"
      },
      "source": [
        "# 79: np.absolute\n",
        "[np.absolute document](https://numpy.org/doc/stable/reference/random/generated/numpy.random.standard_normal.html)\n",
        "\n",
        "Calculate the absolute value element-wise."
      ],
      "id": "6e5c8759"
    },
    {
      "cell_type": "code",
      "execution_count": null,
      "metadata": {
        "id": "90b243ac",
        "outputId": "64c639b8-19e1-4fb8-c820-b4d9a535968d"
      },
      "outputs": [
        {
          "name": "stdout",
          "output_type": "stream",
          "text": [
            "Original array:\n",
            "[-10.2 122.2   0.2]\n",
            "Element-wise absolute value:\n",
            "[ 10.2 122.2   0.2]\n"
          ]
        }
      ],
      "source": [
        "import numpy as np\n",
        "x = np.array([-10.2, 122.2, .20])\n",
        "print(\"Original array:\")\n",
        "print(x)\n",
        "print(\"Element-wise absolute value:\")\n",
        "print(np.absolute(x))\n"
      ],
      "id": "90b243ac"
    },
    {
      "cell_type": "markdown",
      "metadata": {
        "id": "4636f4dd"
      },
      "source": [
        "# Exercise No.1:\n",
        "### NumPy: Create a vector with values ​​from 0 to 20 and change the sign of the numbers in the range from 9 to 15\n"
      ],
      "id": "4636f4dd"
    },
    {
      "cell_type": "code",
      "execution_count": null,
      "metadata": {
        "id": "62f11496",
        "outputId": "1ac22a6d-f1cd-492e-f6d9-56e190263b67",
        "colab": {
          "base_uri": "https://localhost:8080/"
        }
      },
      "outputs": [
        {
          "output_type": "stream",
          "name": "stdout",
          "text": [
            "Original vector:\n",
            "[ 0  1  2  3  4  5  6  7  8  9 10 11 12 13 14 15 16 17 18 19 20]\n",
            "After changing the sign of the numbers in the range from 9 to 15:\n",
            "[  0   1   2   3   4   5   6   7   8  -9 -10 -11 -12 -13 -14 -15  16  17\n",
            "  18  19  20]\n"
          ]
        }
      ],
      "source": [
        "import numpy as np\n",
        "x = np.arange(21)\n",
        "print(\"Original vector:\")\n",
        "print(x)\n",
        "print(\"After changing the sign of the numbers in the range from 9 to 15:\")\n",
        "x[(x >= 9) & (x <= 15)] *= -1\n",
        "print(x)"
      ],
      "id": "62f11496"
    },
    {
      "cell_type": "markdown",
      "metadata": {
        "id": "a15fdcd5"
      },
      "source": [
        "# Exercise No2:\n",
        "# NumPy: Create a 3x4 matrix filled with values ​​from 10 to 21\n"
      ],
      "id": "a15fdcd5"
    },
    {
      "cell_type": "code",
      "execution_count": null,
      "metadata": {
        "id": "123e1c29",
        "outputId": "2605100f-e8ed-4464-89fb-c6abae983be9",
        "colab": {
          "base_uri": "https://localhost:8080/"
        }
      },
      "outputs": [
        {
          "output_type": "stream",
          "name": "stdout",
          "text": [
            "[[10 11 12 13]\n",
            " [14 15 16 17]\n",
            " [18 19 20 21]]\n"
          ]
        }
      ],
      "source": [
        "import numpy as np\n",
        "m= np.arange(10,22).reshape((3, 4))\n",
        "print(m)\n"
      ],
      "id": "123e1c29"
    },
    {
      "cell_type": "markdown",
      "metadata": {
        "id": "436650d8"
      },
      "source": [
        "#Exercise No3:\n",
        "NumPy: Find the number of rows and columns of a given matrix"
      ],
      "id": "436650d8"
    },
    {
      "cell_type": "code",
      "execution_count": null,
      "metadata": {
        "id": "cee4ee3b",
        "outputId": "5239bd21-b1fc-4ca7-811c-a2b5f7b26015",
        "colab": {
          "base_uri": "https://localhost:8080/"
        }
      },
      "outputs": [
        {
          "output_type": "stream",
          "name": "stdout",
          "text": [
            "Original matrix:\n",
            "[[10 11 12 13]\n",
            " [14 15 16 17]\n",
            " [18 19 20 21]]\n",
            "Number of rows and columns of the said matrix:\n",
            "(3, 4)\n"
          ]
        }
      ],
      "source": [
        "import numpy as np\n",
        "m= np.arange(10,22).reshape((3, 4))\n",
        "print(\"Original matrix:\")\n",
        "print(m)\n",
        "print(\"Number of rows and columns of the said matrix:\")\n",
        "print(m.shape)\n"
      ],
      "id": "cee4ee3b"
    },
    {
      "cell_type": "markdown",
      "metadata": {
        "id": "f937a5a4"
      },
      "source": [
        "#Exercise No4:\n",
        "NumPy: Create a 10x10 matrix, in which the elements on the borders will be equal to 1, and inside 0\n"
      ],
      "id": "f937a5a4"
    },
    {
      "cell_type": "code",
      "execution_count": null,
      "metadata": {
        "id": "400c89cc",
        "outputId": "79aa3257-cf90-4db0-86ec-af2e485b5ee0",
        "colab": {
          "base_uri": "https://localhost:8080/"
        }
      },
      "outputs": [
        {
          "output_type": "stream",
          "name": "stdout",
          "text": [
            "[[1. 1. 1. 1. 1. 1. 1. 1. 1. 1.]\n",
            " [1. 1. 1. 1. 1. 1. 1. 1. 1. 1.]\n",
            " [1. 1. 1. 1. 1. 1. 1. 1. 1. 1.]\n",
            " [1. 1. 1. 1. 1. 1. 1. 1. 1. 1.]\n",
            " [1. 1. 1. 1. 1. 1. 1. 1. 1. 1.]\n",
            " [1. 1. 1. 1. 1. 1. 1. 1. 1. 1.]\n",
            " [1. 1. 1. 1. 1. 1. 1. 1. 1. 1.]\n",
            " [1. 1. 1. 1. 1. 1. 1. 1. 1. 1.]\n",
            " [1. 1. 1. 1. 1. 1. 1. 1. 1. 1.]\n",
            " [1. 1. 1. 1. 1. 1. 1. 1. 1. 1.]]\n",
            "\n",
            "[[1. 1. 1. 1. 1. 1. 1. 1. 1. 1.]\n",
            " [1. 0. 0. 0. 0. 0. 0. 0. 0. 1.]\n",
            " [1. 0. 0. 0. 0. 0. 0. 0. 0. 1.]\n",
            " [1. 0. 0. 0. 0. 0. 0. 0. 0. 1.]\n",
            " [1. 0. 0. 0. 0. 0. 0. 0. 0. 1.]\n",
            " [1. 0. 0. 0. 0. 0. 0. 0. 0. 1.]\n",
            " [1. 0. 0. 0. 0. 0. 0. 0. 0. 1.]\n",
            " [1. 0. 0. 0. 0. 0. 0. 0. 0. 1.]\n",
            " [1. 0. 0. 0. 0. 0. 0. 0. 0. 1.]\n",
            " [1. 1. 1. 1. 1. 1. 1. 1. 1. 1.]]\n"
          ]
        }
      ],
      "source": [
        "import numpy as np\n",
        "x = np.ones((10, 10))\n",
        "print(x)\n",
        "print()\n",
        "x[1:-1, 1:-1] = 0\n",
        "print(x)\n"
      ],
      "id": "400c89cc"
    },
    {
      "cell_type": "markdown",
      "metadata": {
        "id": "47ddc147"
      },
      "source": [
        "#Exercise No5:\n",
        "NumPy: Swap rows and columns of a given array in reverse order"
      ],
      "id": "47ddc147"
    },
    {
      "cell_type": "code",
      "execution_count": null,
      "metadata": {
        "id": "a1f20c76",
        "outputId": "6bbad479-4274-4d23-e2bc-3a7b2fa67919",
        "colab": {
          "base_uri": "https://localhost:8080/"
        }
      },
      "outputs": [
        {
          "output_type": "stream",
          "name": "stdout",
          "text": [
            "Original array:\n",
            "[[[ 1  2  3  4]\n",
            "  [ 0  1  3  4]\n",
            "  [90 91 93 94]\n",
            "  [ 5  0  3  2]]]\n",
            "\n",
            "Swap rows and columns of the said array in reverse order:\n",
            "[[[ 5  0  3  2]\n",
            "  [90 91 93 94]\n",
            "  [ 0  1  3  4]\n",
            "  [ 1  2  3  4]]]\n",
            "None\n"
          ]
        }
      ],
      "source": [
        "import numpy as np\n",
        "nums = np.array([[[1, 2, 3, 4],\n",
        "               [0, 1, 3, 4],\n",
        "               [90, 91, 93, 94],\n",
        "               [5, 0, 3, 2]]])\n",
        "print(\"Original array:\")\n",
        "print(nums)\n",
        "print(\"\\nSwap rows and columns of the said array in reverse order:\")\n",
        "new_nums = print(nums[::-1, ::-1])\n",
        "print(new_nums)"
      ],
      "id": "a1f20c76"
    },
    {
      "cell_type": "markdown",
      "metadata": {
        "id": "a8bb1340"
      },
      "source": [
        "#Exercise No6:\n",
        "NumPy: Create a new array from a given array, swapping first and last, second and third columns\n"
      ],
      "id": "a8bb1340"
    },
    {
      "cell_type": "code",
      "execution_count": null,
      "metadata": {
        "id": "3aa5b642",
        "outputId": "64bb642e-2133-4edc-dc09-f49c21c8f942",
        "colab": {
          "base_uri": "https://localhost:8080/"
        }
      },
      "outputs": [
        {
          "output_type": "stream",
          "name": "stdout",
          "text": [
            "Original array:\n",
            "[[ 0  1  2  3]\n",
            " [ 4  5  6  7]\n",
            " [ 8  9 10 11]\n",
            " [12 13 14 15]]\n",
            "\n",
            "New array after swapping first and last columns of the said array:\n",
            "[[ 3  2  1  0]\n",
            " [ 7  6  5  4]\n",
            " [11 10  9  8]\n",
            " [15 14 13 12]]\n"
          ]
        }
      ],
      "source": [
        "import numpy as np\n",
        "nums = np.arange(16, dtype='int').reshape(-1, 4)\n",
        "print(\"Original array:\")\n",
        "print(nums)\n",
        "print(\"\\nNew array after swapping first and last columns of the said array:\")\n",
        "new_nums = nums[:, ::-1]\n",
        "print(new_nums)"
      ],
      "id": "3aa5b642"
    },
    {
      "cell_type": "markdown",
      "metadata": {
        "id": "0c1a6601"
      },
      "source": [
        "#Exercise No7:\n",
        "NumPy: Replace all numbers in a given array which is equal, less and greater to a given number"
      ],
      "id": "0c1a6601"
    },
    {
      "cell_type": "code",
      "execution_count": null,
      "metadata": {
        "id": "ad42ab16",
        "outputId": "4dd10a06-4af0-4742-c619-ce1ab1145fb3",
        "colab": {
          "base_uri": "https://localhost:8080/"
        }
      },
      "outputs": [
        {
          "output_type": "stream",
          "name": "stdout",
          "text": [
            "Original array:\n",
            "[[5.54 3.38 7.99]\n",
            " [3.54 8.32 6.99]\n",
            " [1.54 2.39 9.29]]\n",
            "\n",
            "Replace elements of the said array which are equal to  8.32 with 18.32\n",
            "[[ 5.54  3.38  7.99]\n",
            " [ 3.54 18.32  6.99]\n",
            " [ 1.54  2.39  9.29]]\n",
            "\n",
            "Replace elements with of the said array which are less than 8.32 with 18.32\n",
            "[[18.32 18.32 18.32]\n",
            " [18.32  8.32 18.32]\n",
            " [18.32 18.32  9.29]]\n",
            "\n",
            "Replace elements with of the said array which are greater than 8.32 with 18.32\n",
            "[[ 5.54  3.38  7.99]\n",
            " [ 3.54  8.32  6.99]\n",
            " [ 1.54  2.39 18.32]]\n"
          ]
        }
      ],
      "source": [
        "import numpy as np\n",
        "nums = np.array([[5.54, 3.38, 7.99],\n",
        "              [3.54, 8.32, 6.99],\n",
        "              [1.54, 2.39, 9.29]])\n",
        "print(\"Original array:\")\n",
        "print(nums)\n",
        "n = 8.32\n",
        "r = 18.32\n",
        "print(\"\\nReplace elements of the said array which are equal to \",n,\"with\",r)\n",
        "print(np.where(nums == n, r, nums))\n",
        "print(\"\\nReplace elements with of the said array which are less than\",n,\"with\",r)\n",
        "print(np.where(nums < n, r, nums))\n",
        "print(\"\\nReplace elements with of the said array which are greater than\",n,\"with\",r)\n",
        "print(np.where(nums > n, r, nums))"
      ],
      "id": "ad42ab16"
    },
    {
      "cell_type": "markdown",
      "metadata": {
        "id": "96fd0933"
      },
      "source": [
        "#Exercise No8:\n",
        "\n",
        "NumPy: Create a 8x8 matrix and fill it with a checkerboard pattern\n"
      ],
      "id": "96fd0933"
    },
    {
      "cell_type": "code",
      "execution_count": null,
      "metadata": {
        "id": "1a194315",
        "outputId": "0c6a8375-f9f3-4fb2-ec8f-247d18912387",
        "colab": {
          "base_uri": "https://localhost:8080/"
        }
      },
      "outputs": [
        {
          "output_type": "stream",
          "name": "stdout",
          "text": [
            "Checkerboard pattern:\n",
            "[[0 0 0 0 0 0 0 0]\n",
            " [1 0 1 0 1 0 1 0]\n",
            " [0 0 0 0 0 0 0 0]\n",
            " [1 0 1 0 1 0 1 0]\n",
            " [0 0 0 0 0 0 0 0]\n",
            " [1 0 1 0 1 0 1 0]\n",
            " [0 0 0 0 0 0 0 0]\n",
            " [1 0 1 0 1 0 1 0]]\n",
            "\n",
            "[[0 1 0 1 0 1 0 1]\n",
            " [1 0 1 0 1 0 1 0]\n",
            " [0 1 0 1 0 1 0 1]\n",
            " [1 0 1 0 1 0 1 0]\n",
            " [0 1 0 1 0 1 0 1]\n",
            " [1 0 1 0 1 0 1 0]\n",
            " [0 1 0 1 0 1 0 1]\n",
            " [1 0 1 0 1 0 1 0]]\n"
          ]
        }
      ],
      "source": [
        "import numpy as np\n",
        "x = np.ones((3,3))\n",
        "print(\"Checkerboard pattern:\")\n",
        "x = np.zeros((8,8),dtype=int)\n",
        "x[1::2,::2] = 1\n",
        "print(x)\n",
        "print()\n",
        "x[::2,1::2] = 1\n",
        "print(x)\n"
      ],
      "id": "1a194315"
    },
    {
      "cell_type": "markdown",
      "metadata": {
        "id": "f31f9d6a"
      },
      "source": [
        "#Exercise No9:\n",
        "\n",
        "NumPy: Test whether any array element along a given axis evaluates to True\n"
      ],
      "id": "f31f9d6a"
    },
    {
      "cell_type": "code",
      "execution_count": null,
      "metadata": {
        "id": "804dbc48",
        "outputId": "8c9c41e8-2465-4153-99be-003969d0c870",
        "colab": {
          "base_uri": "https://localhost:8080/"
        }
      },
      "outputs": [
        {
          "output_type": "stream",
          "name": "stdout",
          "text": [
            "False\n",
            "True\n",
            "True\n",
            "True\n"
          ]
        }
      ],
      "source": [
        "import numpy as np\n",
        "print(np.any([[False,False],[False,False]]))\n",
        "print(np.any([[True,True],[True,True]]))\n",
        "print(np.any([10, 20, 0, -50]))\n",
        "print(np.any([10, 20, -50]))\n"
      ],
      "id": "804dbc48"
    },
    {
      "cell_type": "markdown",
      "metadata": {
        "id": "81ce4ebd"
      },
      "source": [
        "#Exercise No10:\n",
        "\n",
        "NumPy: Construct an array by repeating\n"
      ],
      "id": "81ce4ebd"
    },
    {
      "cell_type": "code",
      "execution_count": null,
      "metadata": {
        "id": "97391f71",
        "outputId": "3bc83348-91e4-48db-f3ce-ed673c0f9047",
        "colab": {
          "base_uri": "https://localhost:8080/"
        }
      },
      "outputs": [
        {
          "output_type": "stream",
          "name": "stdout",
          "text": [
            "Original array\n",
            "[1, 2, 3, 4]\n",
            "Repeating 2 times\n",
            "[1 2 3 4 1 2 3 4]\n",
            "Repeating 3 times\n",
            "[1 2 3 4 1 2 3 4 1 2 3 4 1 2 3 4 1 2 3 4 1 2 3 4]\n"
          ]
        }
      ],
      "source": [
        "import numpy as np\n",
        "a = [1, 2, 3, 4]\n",
        "print(\"Original array\")\n",
        "print(a)\n",
        "print(\"Repeating 2 times\")\n",
        "x = np.tile(a, 2)\n",
        "print(x)\n",
        "print(\"Repeating 3 times\")\n",
        "x = np.tile(a, 6)\n",
        "print(x)\n"
      ],
      "id": "97391f71"
    },
    {
      "cell_type": "markdown",
      "metadata": {
        "id": "c128a024"
      },
      "source": [
        "#Exercise No11:\n",
        "\n",
        "NumPy: Find the indices of the maximum and minimum values along the given axis of an array\n"
      ],
      "id": "c128a024"
    },
    {
      "cell_type": "code",
      "execution_count": null,
      "metadata": {
        "id": "35a793fe",
        "colab": {
          "base_uri": "https://localhost:8080/"
        },
        "outputId": "027194e6-a612-448e-b89c-665f78c6cff4"
      },
      "outputs": [
        {
          "output_type": "stream",
          "name": "stdout",
          "text": [
            "Original array:  [1 2 3 4 5 6]\n",
            "Maximum Values:  5\n",
            "Minimum Values:  0\n"
          ]
        }
      ],
      "source": [
        "import numpy as np\n",
        "x = np.array([1, 2, 3, 4, 5, 6])\n",
        "print(\"Original array: \",x)\n",
        "print(\"Maximum Values: \",np.argmax(x))\n",
        "print(\"Minimum Values: \",np.argmin(x))\n"
      ],
      "id": "35a793fe"
    },
    {
      "cell_type": "markdown",
      "metadata": {
        "id": "6e6aa4ce"
      },
      "source": [
        "#Exercise No12:\n",
        "NumPy: Compute the multiplication of two given matrixes\n"
      ],
      "id": "6e6aa4ce"
    },
    {
      "cell_type": "code",
      "execution_count": null,
      "metadata": {
        "id": "58cf23f4",
        "outputId": "7793375e-e63d-4c45-dd02-e0b44a1e5a01",
        "colab": {
          "base_uri": "https://localhost:8080/"
        }
      },
      "outputs": [
        {
          "output_type": "stream",
          "name": "stdout",
          "text": [
            "original matrix:\n",
            "[[1, 0], [0, 1]]\n",
            "[[1, 2], [3, 4]]\n",
            "Result of the said matrix multiplication:\n",
            "[[1 2]\n",
            " [3 4]]\n"
          ]
        }
      ],
      "source": [
        "import numpy as np\n",
        "p = [[1, 0], [0, 1]]\n",
        "q = [[1, 2], [3, 4]]\n",
        "print(\"original matrix:\")\n",
        "print(p)\n",
        "print(q)\n",
        "result1 = np.dot(p, q)\n",
        "print(\"Result of the said matrix multiplication:\")\n",
        "print(result1)\n"
      ],
      "id": "58cf23f4"
    },
    {
      "cell_type": "markdown",
      "metadata": {
        "id": "b93ea7d6"
      },
      "source": [
        "#Exercise No13:\n",
        "Write a NumPy program to sort a given array of shape 2 along the first axis, last axis and on flattened array."
      ],
      "id": "b93ea7d6"
    },
    {
      "cell_type": "code",
      "execution_count": null,
      "metadata": {
        "id": "22e658b8",
        "outputId": "e6a52e7c-f1e4-4d2f-a265-1015af31cfec",
        "colab": {
          "base_uri": "https://localhost:8080/"
        }
      },
      "outputs": [
        {
          "output_type": "stream",
          "name": "stdout",
          "text": [
            "Original array:\n",
            "[[10 40]\n",
            " [30 20]]\n",
            "Sort the array along the first axis:\n",
            "[[10 20]\n",
            " [30 40]]\n",
            "Sort the array along the last axis:\n",
            "[[10 40]\n",
            " [20 30]]\n",
            "Sort the flattened array:\n",
            "[10 20 30 40]\n"
          ]
        }
      ],
      "source": [
        "import numpy as np\n",
        "a = np.array([[10,40],[30,20]])\n",
        "print(\"Original array:\")\n",
        "print(a)\n",
        "print(\"Sort the array along the first axis:\")\n",
        "print(np.sort(a, axis=0))\n",
        "print(\"Sort the array along the last axis:\")\n",
        "print(np.sort(a))\n",
        "print(\"Sort the flattened array:\")\n",
        "print(np.sort(a, axis=None))"
      ],
      "id": "22e658b8"
    },
    {
      "cell_type": "markdown",
      "metadata": {
        "id": "e7c0f390"
      },
      "source": [
        "#Exercise No14:\n",
        "\n",
        "Write a NumPy program to create a structured array from given student name, height, class and their data types. Now sort the array on height.\n"
      ],
      "id": "e7c0f390"
    },
    {
      "cell_type": "code",
      "execution_count": null,
      "metadata": {
        "id": "dd754d1b",
        "outputId": "a46c2456-069a-4f50-e270-125ff819f930",
        "colab": {
          "base_uri": "https://localhost:8080/"
        }
      },
      "outputs": [
        {
          "output_type": "stream",
          "name": "stdout",
          "text": [
            "Original array:\n",
            "[(b'James', 5, 48.5 ) (b'Nail', 6, 52.5 ) (b'Paul', 5, 42.1 )\n",
            " (b'Pit', 5, 40.11)]\n",
            "Sort by height\n",
            "[(b'Pit', 5, 40.11) (b'Paul', 5, 42.1 ) (b'James', 5, 48.5 )\n",
            " (b'Nail', 6, 52.5 )]\n"
          ]
        }
      ],
      "source": [
        "import numpy as np\n",
        "data_type = [('name', 'S15'), ('class', int), ('height', float)]\n",
        "students_details = [('James', 5, 48.5), ('Nail', 6, 52.5),('Paul', 5, 42.10), ('Pit', 5, 40.11)]\n",
        "# create a structured array\n",
        "students = np.array(students_details, dtype=data_type)\n",
        "print(\"Original array:\")\n",
        "print(students)\n",
        "print(\"Sort by height\")\n",
        "print(np.sort(students, order='height'))"
      ],
      "id": "dd754d1b"
    },
    {
      "cell_type": "markdown",
      "metadata": {
        "id": "d745deb1"
      },
      "source": [
        "#Exercise No15:\n",
        "Write a NumPy program to get the indices of the sorted elements of a given array.\n"
      ],
      "id": "d745deb1"
    },
    {
      "cell_type": "code",
      "execution_count": null,
      "metadata": {
        "id": "8d762300",
        "outputId": "c9eedbb0-3ccb-4200-9cc1-04990606f149",
        "colab": {
          "base_uri": "https://localhost:8080/"
        }
      },
      "outputs": [
        {
          "output_type": "stream",
          "name": "stdout",
          "text": [
            "Original array:\n",
            "[1023 5202 6230 1671 1682 5241 4532]\n",
            "Indices of the sorted elements of a given array:\n",
            "[0 3 4 6 1 5 2]\n"
          ]
        }
      ],
      "source": [
        "import numpy as np\n",
        "student_id = np.array([1023, 5202, 6230, 1671, 1682, 5241, 4532])\n",
        "print(\"Original array:\")\n",
        "print(student_id)\n",
        "i = np.argsort(student_id)\n",
        "print(\"Indices of the sorted elements of a given array:\")\n",
        "print(i)\n"
      ],
      "id": "8d762300"
    },
    {
      "cell_type": "markdown",
      "metadata": {
        "id": "094499bc"
      },
      "source": [
        "#Exercise No16:\n",
        "NumPy: Compute the mean, standard deviation, and variance of a given array along the second axis\n"
      ],
      "id": "094499bc"
    },
    {
      "cell_type": "code",
      "execution_count": null,
      "metadata": {
        "id": "fd243eb9",
        "outputId": "9f39e989-c7ba-45a0-c858-9220d87e10b2"
      },
      "outputs": [
        {
          "name": "stdout",
          "output_type": "stream",
          "text": [
            "\n",
            "Original array:\n",
            "[0 1 2 3 4 5]\n",
            "\n",
            "Mean:  2.5\n",
            "\n",
            "std:  1\n",
            "\n",
            "variance:  2.9166666666666665\n"
          ]
        }
      ],
      "source": [
        "import numpy as np\n",
        "x = np.arange(6)\n",
        "print(\"\\nOriginal array:\")\n",
        "print(x)\n",
        "r1 = np.mean(x)\n",
        "r2 = np.average(x)\n",
        "assert np.allclose(r1, r2)\n",
        "print(\"\\nMean: \", r1)\n",
        "r1 = np.std(x)\n",
        "r2 = np.sqrt(np.mean((x - np.mean(x)) ** 2 ))\n",
        "assert np.allclose(r1, r2)\n",
        "print(\"\\nstd: \", 1)\n",
        "r1= np.var(x)\n",
        "r2 = np.mean((x - np.mean(x)) ** 2 )\n",
        "assert np.allclose(r1, r2)\n",
        "print(\"\\nvariance: \", r1)"
      ],
      "id": "fd243eb9"
    }
  ],
  "metadata": {
    "colab": {
      "provenance": []
    },
    "kernelspec": {
      "display_name": "Python 3",
      "language": "python",
      "name": "python3"
    },
    "language_info": {
      "codemirror_mode": {
        "name": "ipython",
        "version": 3
      },
      "file_extension": ".py",
      "mimetype": "text/x-python",
      "name": "python",
      "nbconvert_exporter": "python",
      "pygments_lexer": "ipython3",
      "version": "3.8.8"
    }
  },
  "nbformat": 4,
  "nbformat_minor": 5
}